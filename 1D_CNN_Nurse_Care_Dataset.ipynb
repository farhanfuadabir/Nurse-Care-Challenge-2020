{
  "nbformat": 4,
  "nbformat_minor": 0,
  "metadata": {
    "colab": {
      "name": "1D_CNN_Nurse_Care_Dataset.ipynb",
      "provenance": [],
      "authorship_tag": "ABX9TyOZMpb9HP7v9CegyNkoRH/X",
      "include_colab_link": true
    },
    "kernelspec": {
      "name": "python3",
      "display_name": "Python 3"
    },
    "accelerator": "GPU",
    "widgets": {
      "application/vnd.jupyter.widget-state+json": {
        "1c80400a678a4c8aafc7c1d4b8a5bbfd": {
          "model_module": "@jupyter-widgets/controls",
          "model_name": "HBoxModel",
          "state": {
            "_view_name": "HBoxView",
            "_dom_classes": [],
            "_model_name": "HBoxModel",
            "_view_module": "@jupyter-widgets/controls",
            "_model_module_version": "1.5.0",
            "_view_count": null,
            "_view_module_version": "1.5.0",
            "box_style": "",
            "layout": "IPY_MODEL_eeb6b76a36fc4b78a7506ab23dec7b6b",
            "_model_module": "@jupyter-widgets/controls",
            "children": [
              "IPY_MODEL_4e16c2e4679748a9be54ecdb794b62ad",
              "IPY_MODEL_7be9b28703634faebcab0e0b7f1813d6"
            ]
          }
        },
        "eeb6b76a36fc4b78a7506ab23dec7b6b": {
          "model_module": "@jupyter-widgets/base",
          "model_name": "LayoutModel",
          "state": {
            "_view_name": "LayoutView",
            "grid_template_rows": null,
            "right": null,
            "justify_content": null,
            "_view_module": "@jupyter-widgets/base",
            "overflow": null,
            "_model_module_version": "1.2.0",
            "_view_count": null,
            "flex_flow": null,
            "width": null,
            "min_width": null,
            "border": null,
            "align_items": null,
            "bottom": null,
            "_model_module": "@jupyter-widgets/base",
            "top": null,
            "grid_column": null,
            "overflow_y": null,
            "overflow_x": null,
            "grid_auto_flow": null,
            "grid_area": null,
            "grid_template_columns": null,
            "flex": null,
            "_model_name": "LayoutModel",
            "justify_items": null,
            "grid_row": null,
            "max_height": null,
            "align_content": null,
            "visibility": null,
            "align_self": null,
            "height": null,
            "min_height": null,
            "padding": null,
            "grid_auto_rows": null,
            "grid_gap": null,
            "max_width": null,
            "order": null,
            "_view_module_version": "1.2.0",
            "grid_template_areas": null,
            "object_position": null,
            "object_fit": null,
            "grid_auto_columns": null,
            "margin": null,
            "display": null,
            "left": null
          }
        },
        "4e16c2e4679748a9be54ecdb794b62ad": {
          "model_module": "@jupyter-widgets/controls",
          "model_name": "FloatProgressModel",
          "state": {
            "_view_name": "ProgressView",
            "style": "IPY_MODEL_8886ff6707b74c1fb4853083e6a8ade8",
            "_dom_classes": [],
            "description": "100%",
            "_model_name": "FloatProgressModel",
            "bar_style": "success",
            "max": 10,
            "_view_module": "@jupyter-widgets/controls",
            "_model_module_version": "1.5.0",
            "value": 10,
            "_view_count": null,
            "_view_module_version": "1.5.0",
            "orientation": "horizontal",
            "min": 0,
            "description_tooltip": null,
            "_model_module": "@jupyter-widgets/controls",
            "layout": "IPY_MODEL_d4aa373ba1064882b10e80cd0551d0dd"
          }
        },
        "7be9b28703634faebcab0e0b7f1813d6": {
          "model_module": "@jupyter-widgets/controls",
          "model_name": "HTMLModel",
          "state": {
            "_view_name": "HTMLView",
            "style": "IPY_MODEL_65af1f00edb14ed182567f899b7b0e97",
            "_dom_classes": [],
            "description": "",
            "_model_name": "HTMLModel",
            "placeholder": "​",
            "_view_module": "@jupyter-widgets/controls",
            "_model_module_version": "1.5.0",
            "value": " 10/10 [1:34:42&lt;00:00, 568.30s/it]",
            "_view_count": null,
            "_view_module_version": "1.5.0",
            "description_tooltip": null,
            "_model_module": "@jupyter-widgets/controls",
            "layout": "IPY_MODEL_3c47b13355f5415db34afab34f8bade6"
          }
        },
        "8886ff6707b74c1fb4853083e6a8ade8": {
          "model_module": "@jupyter-widgets/controls",
          "model_name": "ProgressStyleModel",
          "state": {
            "_view_name": "StyleView",
            "_model_name": "ProgressStyleModel",
            "description_width": "initial",
            "_view_module": "@jupyter-widgets/base",
            "_model_module_version": "1.5.0",
            "_view_count": null,
            "_view_module_version": "1.2.0",
            "bar_color": null,
            "_model_module": "@jupyter-widgets/controls"
          }
        },
        "d4aa373ba1064882b10e80cd0551d0dd": {
          "model_module": "@jupyter-widgets/base",
          "model_name": "LayoutModel",
          "state": {
            "_view_name": "LayoutView",
            "grid_template_rows": null,
            "right": null,
            "justify_content": null,
            "_view_module": "@jupyter-widgets/base",
            "overflow": null,
            "_model_module_version": "1.2.0",
            "_view_count": null,
            "flex_flow": null,
            "width": null,
            "min_width": null,
            "border": null,
            "align_items": null,
            "bottom": null,
            "_model_module": "@jupyter-widgets/base",
            "top": null,
            "grid_column": null,
            "overflow_y": null,
            "overflow_x": null,
            "grid_auto_flow": null,
            "grid_area": null,
            "grid_template_columns": null,
            "flex": null,
            "_model_name": "LayoutModel",
            "justify_items": null,
            "grid_row": null,
            "max_height": null,
            "align_content": null,
            "visibility": null,
            "align_self": null,
            "height": null,
            "min_height": null,
            "padding": null,
            "grid_auto_rows": null,
            "grid_gap": null,
            "max_width": null,
            "order": null,
            "_view_module_version": "1.2.0",
            "grid_template_areas": null,
            "object_position": null,
            "object_fit": null,
            "grid_auto_columns": null,
            "margin": null,
            "display": null,
            "left": null
          }
        },
        "65af1f00edb14ed182567f899b7b0e97": {
          "model_module": "@jupyter-widgets/controls",
          "model_name": "DescriptionStyleModel",
          "state": {
            "_view_name": "StyleView",
            "_model_name": "DescriptionStyleModel",
            "description_width": "",
            "_view_module": "@jupyter-widgets/base",
            "_model_module_version": "1.5.0",
            "_view_count": null,
            "_view_module_version": "1.2.0",
            "_model_module": "@jupyter-widgets/controls"
          }
        },
        "3c47b13355f5415db34afab34f8bade6": {
          "model_module": "@jupyter-widgets/base",
          "model_name": "LayoutModel",
          "state": {
            "_view_name": "LayoutView",
            "grid_template_rows": null,
            "right": null,
            "justify_content": null,
            "_view_module": "@jupyter-widgets/base",
            "overflow": null,
            "_model_module_version": "1.2.0",
            "_view_count": null,
            "flex_flow": null,
            "width": null,
            "min_width": null,
            "border": null,
            "align_items": null,
            "bottom": null,
            "_model_module": "@jupyter-widgets/base",
            "top": null,
            "grid_column": null,
            "overflow_y": null,
            "overflow_x": null,
            "grid_auto_flow": null,
            "grid_area": null,
            "grid_template_columns": null,
            "flex": null,
            "_model_name": "LayoutModel",
            "justify_items": null,
            "grid_row": null,
            "max_height": null,
            "align_content": null,
            "visibility": null,
            "align_self": null,
            "height": null,
            "min_height": null,
            "padding": null,
            "grid_auto_rows": null,
            "grid_gap": null,
            "max_width": null,
            "order": null,
            "_view_module_version": "1.2.0",
            "grid_template_areas": null,
            "object_position": null,
            "object_fit": null,
            "grid_auto_columns": null,
            "margin": null,
            "display": null,
            "left": null
          }
        }
      }
    }
  },
  "cells": [
    {
      "cell_type": "markdown",
      "metadata": {
        "id": "view-in-github",
        "colab_type": "text"
      },
      "source": [
        "<a href=\"https://colab.research.google.com/github/farhanfuadabir/Nurse-Care-Challenge-2020/blob/main/1D_CNN_Nurse_Care_Dataset.ipynb\" target=\"_parent\"><img src=\"https://colab.research.google.com/assets/colab-badge.svg\" alt=\"Open In Colab\"/></a>"
      ]
    },
    {
      "cell_type": "code",
      "metadata": {
        "colab": {
          "base_uri": "https://localhost:8080/"
        },
        "id": "HGE-kKDZ3Sla",
        "outputId": "5420d132-e432-4c4c-d49b-d82899dd57f3"
      },
      "source": [
        "from google.colab import drive\n",
        "drive.mount('/content/drive')"
      ],
      "execution_count": 1,
      "outputs": [
        {
          "output_type": "stream",
          "text": [
            "Mounted at /content/drive\n"
          ],
          "name": "stdout"
        }
      ]
    },
    {
      "cell_type": "markdown",
      "metadata": {
        "id": "wdExAX7D2vtO"
      },
      "source": [
        "# Dependencies"
      ]
    },
    {
      "cell_type": "code",
      "metadata": {
        "id": "Z0Lzri_qzyT0"
      },
      "source": [
        "# cnn model\n",
        "import numpy as np\n",
        "import pandas as pd\n",
        "from matplotlib import pyplot\n",
        "from joblib import load, dump\n",
        "from tqdm.notebook import tqdm\n",
        "from keras.models import Sequential\n",
        "from keras.layers import Dense\n",
        "from keras.layers import Flatten\n",
        "from keras.layers import Dropout\n",
        "from keras.layers.convolutional import Conv1D\n",
        "from keras.layers.convolutional import MaxPooling1D\n",
        "from keras.utils import to_categorical"
      ],
      "execution_count": 2,
      "outputs": []
    },
    {
      "cell_type": "markdown",
      "metadata": {
        "id": "CI3_XJduyfUJ"
      },
      "source": [
        "# Process Windowed Dataset for CNN"
      ]
    },
    {
      "cell_type": "code",
      "metadata": {
        "id": "N14xoSGVU0ga"
      },
      "source": [
        "# load a single file as a numpy array\r\n",
        "def load_file(filepath):\r\n",
        "  dataframe = load(filepath)\r\n",
        "  return dataframe.values\r\n",
        " \r\n",
        "# load a list of files and return as a 3d numpy array\r\n",
        "def load_group(filenames, path):\r\n",
        "\tloaded = list()\r\n",
        "\tfor name in filenames:\r\n",
        "\t\tdata = load_file(path + name)\r\n",
        "\t\tloaded.append(data)\r\n",
        "\t# stack group so that features are the 3rd dimension\r\n",
        "\tloaded = np.dstack(loaded)\r\n",
        "\treturn loaded\r\n",
        " \r\n",
        "# load a dataset group, such as train or test\r\n",
        "def load_dataset_group(group, path):\r\n",
        "\t# load all 3 files as a single array\r\n",
        "\tfilenames = ['acc_x_' + group + '.joblib', 'acc_y_' + group + '.joblib', \r\n",
        "              'acc_z_' + group + '.joblib']\r\n",
        "\t# load input data\r\n",
        "\tX = load_group(filenames, path)\r\n",
        "\t# load class output\r\n",
        "\ty = load_file(path + 'label_' + group + '.joblib')\r\n",
        "\treturn X, y\r\n",
        " \r\n",
        "# load the dataset, returns train and test X and y elements\r\n",
        "def load_dataset(path):\r\n",
        "  # load all train\r\n",
        "  trainX, trainy = load_dataset_group('train', path)\r\n",
        "  print('trainX shape: ', trainX.shape, '   |   trainy shape: ', trainy.shape)\r\n",
        "  # load all test\r\n",
        "  testX, testy = load_dataset_group('test', path)\r\n",
        "  print('testX shape: ', testX.shape, '   |   testy shape: ', testy.shape)\r\n",
        "  # zero-offset class values\r\n",
        "  trainy = trainy - 1\r\n",
        "  testy = testy - 1\r\n",
        "  # one hot encode y\r\n",
        "  trainy = to_categorical(trainy)\r\n",
        "  testy = to_categorical(testy)\r\n",
        "  print('Final Dataset shape: \\n\\nTrain Set: ', end='')\r\n",
        "  print(trainX.shape, '<----->', trainy.shape, '\\nTest Set: ', testX.shape, '<----->', testy.shape)\r\n",
        "  return trainX, trainy, testX, testy"
      ],
      "execution_count": 3,
      "outputs": []
    },
    {
      "cell_type": "code",
      "metadata": {
        "colab": {
          "base_uri": "https://localhost:8080/"
        },
        "id": "f-ASwCghRSJd",
        "outputId": "cd59f3ce-b0e7-4721-b1cb-8a1ad86c5873"
      },
      "source": [
        "# load data\r\n",
        "dataset_path = '/content/drive/MyDrive/Research/NCC Train Test Set (Resampled 20Hz)/Split 80 20/Windowed 250/'\r\n",
        "trainX, trainy, testX, testy = load_dataset(dataset_path)"
      ],
      "execution_count": 17,
      "outputs": [
        {
          "output_type": "stream",
          "text": [
            "trainX shape:  (93838, 250, 3)    |   trainy shape:  (93838,)\n",
            "testX shape:  (22775, 250, 3)    |   testy shape:  (22775,)\n",
            "Final Dataset shape: \n",
            "\n",
            "Train Set: (93838, 250, 3) <-----> (93838, 12) \n",
            "Test Set:  (22775, 250, 3) <-----> (22775, 12)\n"
          ],
          "name": "stdout"
        }
      ]
    },
    {
      "cell_type": "markdown",
      "metadata": {
        "id": "9Osl1Rt2VlOt"
      },
      "source": [
        "# CNN Model"
      ]
    },
    {
      "cell_type": "code",
      "metadata": {
        "id": "3OVlA6CDRLWE"
      },
      "source": [
        "from keras import backend as K\r\n",
        "\r\n",
        "def recall_m(y_true, y_pred):\r\n",
        "  true_positives = K.sum(K.round(K.clip(y_true * y_pred, 0, 1)))\r\n",
        "  possible_positives = K.sum(K.round(K.clip(y_true, 0, 1)))\r\n",
        "  recall = true_positives / (possible_positives + K.epsilon())\r\n",
        "  return recall\r\n",
        "\r\n",
        "def precision_m(y_true, y_pred):\r\n",
        "  true_positives = K.sum(K.round(K.clip(y_true * y_pred, 0, 1)))\r\n",
        "  predicted_positives = K.sum(K.round(K.clip(y_pred, 0, 1)))\r\n",
        "  precision = true_positives / (predicted_positives + K.epsilon())\r\n",
        "  return precision\r\n",
        "\r\n",
        "def f1_m(y_true, y_pred):\r\n",
        "  precision = precision_m(y_true, y_pred)\r\n",
        "  recall = recall_m(y_true, y_pred)\r\n",
        "  return 2*((precision*recall)/(precision+recall+K.epsilon()))\r\n",
        "\r\n",
        "# fit and evaluate a model\r\n",
        "def evaluate_model(trainX, trainy, testX, testy, verbose, epochs, batch_size):\r\n",
        "  n_timesteps, n_features, n_outputs = trainX.shape[1], trainX.shape[2], trainy.shape[1]\r\n",
        "  model = Sequential()\r\n",
        "  model.add(Conv1D(filters=64, kernel_size=3, activation='relu', input_shape=(n_timesteps,n_features)))\r\n",
        "  model.add(Conv1D(filters=64, kernel_size=3, activation='relu'))\r\n",
        "  model.add(Dropout(0.5))\r\n",
        "  model.add(MaxPooling1D(pool_size=2))\r\n",
        "  model.add(Flatten())\r\n",
        "  model.add(Dense(100, activation='relu'))\r\n",
        "  model.add(Dense(n_outputs, activation='softmax'))\r\n",
        "  model.compile(loss='categorical_crossentropy', optimizer='adam', \r\n",
        "                metrics=['categorical_accuracy', f1_m, precision_m, recall_m])\r\n",
        "  # fit network\r\n",
        "  # model.fit(trainX, trainy, epochs=epochs, batch_size=batch_size, verbose=verbose)\r\n",
        "  # # evaluate model\r\n",
        "  # _, accuracy = model.evaluate(testX, testy, batch_size=batch_size, verbose=0)\r\n",
        "  import time\r\n",
        "  t_start = time.clock()\r\n",
        "  from keras import callbacks \r\n",
        "  earlystopping = callbacks.EarlyStopping(monitor =\"val_loss\", mode =\"min\", \r\n",
        "                                          patience = 20, verbose = 1, \r\n",
        "                                          restore_best_weights = True) \r\n",
        "\r\n",
        "  history = model.fit(trainX, trainy, batch_size = batch_size,  \r\n",
        "                      epochs = epochs, validation_data =(testX, testy),  \r\n",
        "                      callbacks =[earlystopping]) \r\n",
        "  #history = model.fit(trainX, trainy, epochs=epochs, batch_size=batch_size, verbose=verbose)\r\n",
        "\r\n",
        "  t_end = time.clock()\r\n",
        "\r\n",
        "  print('\\n-------------------\\n')\r\n",
        "\r\n",
        "  #_, accuracy_train = model.evaluate(X_train, y_train)\r\n",
        "  loss_train, accuracy_train, f1_score_train, precision_train, recall_train = model.evaluate(trainX, trainy, verbose=1)\r\n",
        "  print('Train Accuracy: %.2f' % (accuracy_train*100))\r\n",
        "  print('Train F1 Score: %.2f' % (f1_score_train*100))\r\n",
        "  print('Train Time: ', t_end - t_start)\r\n",
        "\r\n",
        "  t_start = time.clock()\r\n",
        "  #_, accuracy_test = model.evaluate(X_test, y_test)\r\n",
        "  loss_test, accuracy_test, f1_score_test, precision_test, recall_test = model.evaluate(testX, testy, verbose=1)\r\n",
        "  print('Test Accuracy: %.2f' % (accuracy_test*100))\r\n",
        "  print('Test F1 Score: %.2f' % (f1_score_test*100))\r\n",
        "  t_end = time.clock()\r\n",
        "  print('Test Time: ', t_end - t_start)\r\n",
        "\r\n",
        "  return f1_score_test, history\r\n",
        " \r\n",
        "# summarize scores\r\n",
        "def summarize_results(scores):\r\n",
        "\tprint(scores)\r\n",
        "\tm, s = np.mean(scores), np.std(scores)\r\n",
        "\tprint('Accuracy: %.3f%% (+/-%.3f)' % (m, s))\r\n",
        " \r\n",
        "# run an experiment\r\n",
        "def run_experiment(repeats=10, verbose=False, epochs=10, batch_size=32):\r\n",
        "  # repeat experiment\r\n",
        "  scores = list()\r\n",
        "  for r in tqdm(range(repeats)):\r\n",
        "    score, history = evaluate_model(trainX, trainy, testX, testy, verbose, epochs, batch_size)\r\n",
        "    print('Score:', '%.3f' % (score * 100.0))\r\n",
        "    scores.append(score)\r\n",
        "  # summarize results\r\n",
        "  summarize_results(scores)"
      ],
      "execution_count": 18,
      "outputs": []
    },
    {
      "cell_type": "markdown",
      "metadata": {
        "id": "bI39XiUQXvqc"
      },
      "source": [
        "## Train"
      ]
    },
    {
      "cell_type": "code",
      "metadata": {
        "id": "q1ghlsSpVu9S",
        "colab": {
          "base_uri": "https://localhost:8080/"
        },
        "outputId": "9f391dc8-29bd-4959-f41c-12135843e188"
      },
      "source": [
        "# for single iteration\r\n",
        "score, history = evaluate_model(trainX, trainy, testX, testy, verbose=True, epochs=150, batch_size=25)\r\n",
        "print('Score:', '%.3f' % (score * 100.0))"
      ],
      "execution_count": 19,
      "outputs": [
        {
          "output_type": "stream",
          "text": [
            "Epoch 1/150\n",
            "3754/3754 [==============================] - 16s 4ms/step - loss: 0.9903 - categorical_accuracy: 0.6305 - f1_m: 0.5919 - precision_m: 0.7480 - recall_m: 0.4966 - val_loss: 0.9042 - val_categorical_accuracy: 0.6389 - val_f1_m: 0.5963 - val_precision_m: 0.6187 - val_recall_m: 0.5933\n",
            "Epoch 2/150\n",
            "3754/3754 [==============================] - 15s 4ms/step - loss: 0.8537 - categorical_accuracy: 0.6599 - f1_m: 0.6383 - precision_m: 0.7608 - recall_m: 0.5541 - val_loss: 0.8959 - val_categorical_accuracy: 0.6386 - val_f1_m: 0.6141 - val_precision_m: 0.6411 - val_recall_m: 0.6078\n",
            "Epoch 3/150\n",
            "3754/3754 [==============================] - 15s 4ms/step - loss: 0.8301 - categorical_accuracy: 0.6674 - f1_m: 0.6462 - precision_m: 0.7620 - recall_m: 0.5654 - val_loss: 0.9055 - val_categorical_accuracy: 0.6451 - val_f1_m: 0.6223 - val_precision_m: 0.6536 - val_recall_m: 0.6144\n",
            "Epoch 4/150\n",
            "3754/3754 [==============================] - 15s 4ms/step - loss: 0.8096 - categorical_accuracy: 0.6758 - f1_m: 0.6570 - precision_m: 0.7635 - recall_m: 0.5808 - val_loss: 0.8991 - val_categorical_accuracy: 0.6482 - val_f1_m: 0.6139 - val_precision_m: 0.6438 - val_recall_m: 0.6074\n",
            "Epoch 5/150\n",
            "3754/3754 [==============================] - 15s 4ms/step - loss: 0.7954 - categorical_accuracy: 0.6798 - f1_m: 0.6629 - precision_m: 0.7616 - recall_m: 0.5911 - val_loss: 0.9996 - val_categorical_accuracy: 0.6574 - val_f1_m: 0.6318 - val_precision_m: 0.6608 - val_recall_m: 0.6231\n",
            "Epoch 6/150\n",
            "3754/3754 [==============================] - 15s 4ms/step - loss: 0.7835 - categorical_accuracy: 0.6821 - f1_m: 0.6683 - precision_m: 0.7612 - recall_m: 0.5996 - val_loss: 0.9672 - val_categorical_accuracy: 0.6595 - val_f1_m: 0.6364 - val_precision_m: 0.6619 - val_recall_m: 0.6285\n",
            "Epoch 7/150\n",
            "3754/3754 [==============================] - 15s 4ms/step - loss: 0.7722 - categorical_accuracy: 0.6891 - f1_m: 0.6754 - precision_m: 0.7610 - recall_m: 0.6102 - val_loss: 0.9438 - val_categorical_accuracy: 0.6576 - val_f1_m: 0.5939 - val_precision_m: 0.6192 - val_recall_m: 0.5858\n",
            "Epoch 8/150\n",
            "3754/3754 [==============================] - 15s 4ms/step - loss: 0.7717 - categorical_accuracy: 0.6890 - f1_m: 0.6765 - precision_m: 0.7628 - recall_m: 0.6114 - val_loss: 0.9512 - val_categorical_accuracy: 0.6889 - val_f1_m: 0.6432 - val_precision_m: 0.7016 - val_recall_m: 0.6296\n",
            "Epoch 9/150\n",
            "3754/3754 [==============================] - 15s 4ms/step - loss: 0.7527 - categorical_accuracy: 0.6905 - f1_m: 0.6781 - precision_m: 0.7649 - recall_m: 0.6131 - val_loss: 1.0682 - val_categorical_accuracy: 0.6501 - val_f1_m: 0.6248 - val_precision_m: 0.6531 - val_recall_m: 0.6169\n",
            "Epoch 10/150\n",
            "3754/3754 [==============================] - 15s 4ms/step - loss: 0.7376 - categorical_accuracy: 0.6964 - f1_m: 0.6846 - precision_m: 0.7673 - recall_m: 0.6217 - val_loss: 1.0023 - val_categorical_accuracy: 0.6616 - val_f1_m: 0.6261 - val_precision_m: 0.6541 - val_recall_m: 0.6191\n",
            "Epoch 11/150\n",
            "3754/3754 [==============================] - 15s 4ms/step - loss: 0.7285 - categorical_accuracy: 0.6986 - f1_m: 0.6850 - precision_m: 0.7703 - recall_m: 0.6206 - val_loss: 1.0731 - val_categorical_accuracy: 0.6588 - val_f1_m: 0.6370 - val_precision_m: 0.6654 - val_recall_m: 0.6285\n",
            "Epoch 12/150\n",
            "3754/3754 [==============================] - 15s 4ms/step - loss: 0.7224 - categorical_accuracy: 0.7031 - f1_m: 0.6926 - precision_m: 0.7673 - recall_m: 0.6341 - val_loss: 1.1610 - val_categorical_accuracy: 0.6710 - val_f1_m: 0.6373 - val_precision_m: 0.6724 - val_recall_m: 0.6278\n",
            "Epoch 13/150\n",
            "3754/3754 [==============================] - 15s 4ms/step - loss: 0.7291 - categorical_accuracy: 0.7009 - f1_m: 0.6899 - precision_m: 0.7675 - recall_m: 0.6302 - val_loss: 0.9773 - val_categorical_accuracy: 0.6771 - val_f1_m: 0.6407 - val_precision_m: 0.6747 - val_recall_m: 0.6309\n",
            "Epoch 14/150\n",
            "3754/3754 [==============================] - 15s 4ms/step - loss: 0.7098 - categorical_accuracy: 0.7045 - f1_m: 0.6933 - precision_m: 0.7735 - recall_m: 0.6325 - val_loss: 1.0809 - val_categorical_accuracy: 0.6685 - val_f1_m: 0.6372 - val_precision_m: 0.6719 - val_recall_m: 0.6276\n",
            "Epoch 15/150\n",
            "3754/3754 [==============================] - 15s 4ms/step - loss: 0.7049 - categorical_accuracy: 0.7075 - f1_m: 0.6987 - precision_m: 0.7689 - recall_m: 0.6432 - val_loss: 1.0095 - val_categorical_accuracy: 0.6684 - val_f1_m: 0.6353 - val_precision_m: 0.6670 - val_recall_m: 0.6267\n",
            "Epoch 16/150\n",
            "3754/3754 [==============================] - 15s 4ms/step - loss: 0.6928 - categorical_accuracy: 0.7137 - f1_m: 0.7036 - precision_m: 0.7733 - recall_m: 0.6485 - val_loss: 1.2449 - val_categorical_accuracy: 0.6440 - val_f1_m: 0.6248 - val_precision_m: 0.6359 - val_recall_m: 0.6205\n",
            "Epoch 17/150\n",
            "3754/3754 [==============================] - 15s 4ms/step - loss: 0.6893 - categorical_accuracy: 0.7142 - f1_m: 0.7058 - precision_m: 0.7722 - recall_m: 0.6526 - val_loss: 1.1266 - val_categorical_accuracy: 0.6723 - val_f1_m: 0.6445 - val_precision_m: 0.6787 - val_recall_m: 0.6340\n",
            "Epoch 18/150\n",
            "3754/3754 [==============================] - 15s 4ms/step - loss: 0.6744 - categorical_accuracy: 0.7195 - f1_m: 0.7120 - precision_m: 0.7755 - recall_m: 0.6607 - val_loss: 1.0855 - val_categorical_accuracy: 0.6590 - val_f1_m: 0.6352 - val_precision_m: 0.6545 - val_recall_m: 0.6280\n",
            "Epoch 19/150\n",
            "3754/3754 [==============================] - 16s 4ms/step - loss: 0.6709 - categorical_accuracy: 0.7191 - f1_m: 0.7117 - precision_m: 0.7801 - recall_m: 0.6582 - val_loss: 1.0294 - val_categorical_accuracy: 0.6798 - val_f1_m: 0.6486 - val_precision_m: 0.6858 - val_recall_m: 0.6371\n",
            "Epoch 20/150\n",
            "3754/3754 [==============================] - 15s 4ms/step - loss: 0.6552 - categorical_accuracy: 0.7262 - f1_m: 0.7203 - precision_m: 0.7799 - recall_m: 0.6717 - val_loss: 1.1944 - val_categorical_accuracy: 0.6643 - val_f1_m: 0.6405 - val_precision_m: 0.6585 - val_recall_m: 0.6335\n",
            "Epoch 21/150\n",
            "3754/3754 [==============================] - 15s 4ms/step - loss: 0.6676 - categorical_accuracy: 0.7231 - f1_m: 0.7174 - precision_m: 0.7758 - recall_m: 0.6699 - val_loss: 1.1536 - val_categorical_accuracy: 0.6727 - val_f1_m: 0.6358 - val_precision_m: 0.6719 - val_recall_m: 0.6260\n",
            "Epoch 22/150\n",
            "3754/3754 [==============================] - 15s 4ms/step - loss: 0.6474 - categorical_accuracy: 0.7286 - f1_m: 0.7221 - precision_m: 0.7796 - recall_m: 0.6751 - val_loss: 1.1376 - val_categorical_accuracy: 0.6896 - val_f1_m: 0.6706 - val_precision_m: 0.6985 - val_recall_m: 0.6595\n",
            "Restoring model weights from the end of the best epoch.\n",
            "Epoch 00022: early stopping\n",
            "\n",
            "-------------------\n",
            "\n",
            "2933/2933 [==============================] - 10s 3ms/step - loss: 0.8469 - categorical_accuracy: 0.6670 - f1_m: 0.5339 - precision_m: 0.6461 - recall_m: 0.5058\n",
            "Train Accuracy: 66.70\n",
            "Train F1 Score: 53.39\n",
            "Train Time:  405.854472\n",
            "712/712 [==============================] - 2s 3ms/step - loss: 0.8959 - categorical_accuracy: 0.6386 - f1_m: 0.6149 - precision_m: 0.6429 - recall_m: 0.6076\n",
            "Test Accuracy: 63.86\n",
            "Test F1 Score: 61.49\n",
            "Test Time:  2.9536389999993844\n",
            "Score: 61.490\n"
          ],
          "name": "stdout"
        }
      ]
    },
    {
      "cell_type": "markdown",
      "metadata": {
        "id": "YrA_FnerC3xe"
      },
      "source": [
        "## **1D CNN Model Summary**\r\n",
        "\r\n",
        "| Window [Datapoints - Overlapping - Sampling] | Batch Size | Optimal Epoch | Train Accuracy | Train F1 | Train Time | Validation Accuracy | Validation F1 | Validation Time |\r\n",
        "| :---: | :----: | :---: | :---: | :----: | :---: | :---: | :---: | :---: |\r\n",
        "| 1000pt - 95% - 20Hz | 16 | 51 | 68.45 | 53.23 | 1584 | 69.20 | 66.02 | 2 |\r\n",
        "| 1000pt - 95% - 20Hz | 25 | 54 | 74.76 | 68.91 | 1253 | 75.08 | 71.22 | 3 |\r\n",
        "| 1000pt - 95% - 20Hz | 32 | 52 | 72.77 | 63.01 | 968 | 71.35 | 68.41 | 3 |\r\n",
        "| 250pt - 80% - 20Hz | 16 | 32 | 73.62 | 61.40 | 984 | 66.84 | 60.16 | 3 |\r\n",
        "| 250pt - 80% - 20Hz | 25 | 22 | 66.70 | 53.39 | 406 | 63.86 | 61.49 | 3 |\r\n",
        "| 250pt - 80% - 20Hz | 32 | 22 | 69.54 | 56.60 | 348 | 62.85 | 58.86 | 3 |\r\n",
        "\r\n",
        "\r\n",
        "# **Model Comparison**\r\n",
        "\r\n",
        "\r\n",
        "| Model | Window [Datapoints - Overlapping - Sampling] | Batch Size | Optimal Epoch | Train Accuracy | Train F1 | Train Time | Validation Accuracy | Validation F1 | Validation Time |\r\n",
        "| :---: | :----: | :---: | :---: | :----: | :---: | :---: | :---: | :---: | :---: |\r\n",
        "| 1D CNN | 1000pt - 95% - 20Hz | 25 | 54 | 74.76 | 68.91 | 1253 | 75.08 | 71.22 | 3 |\r\n",
        "| LSTM | 1000pt - 95% - 20Hz | 25 | 54 | 74.76 | 68.91 | 1253 | 75.08 | 71.22 | 3 |\r\n",
        "| CNN-LSTM | 1000pt - 95% - 20Hz | 32 | 53 | 70.96 | 50.32 | 1330 | 69.97 | 65.94 | 3 |\r\n",
        "| Random Forest | 1000pt - 95% - 20Hz | - | - | - | - | - | 78 | 75 | - |"
      ]
    },
    {
      "cell_type": "markdown",
      "metadata": {
        "id": "DM0bejafiVXK"
      },
      "source": [
        "\r\n",
        "\r\n",
        "\r\n",
        "##### Optimal Epoch = 53, Batch Size = 32\r\n",
        "```\r\n",
        "2676/2676 [==============================] - 11s 4ms/step - loss: 0.5618 - categorical_accuracy: 0.7734 - f1_m: 0.6865 - precision_m: 0.7623 - recall_m: 0.6639\r\n",
        "Train Accuracy: 77.34\r\n",
        "Train F1 Score: 68.65\r\n",
        "Train Time:  1015.086157\r\n",
        "641/641 [==============================] - 2s 4ms/step - loss: 0.7160 - categorical_accuracy: 0.7338 - f1_m: 0.6913 - precision_m: 0.7218 - recall_m: 0.6833\r\n",
        "Test Accuracy: 73.38\r\n",
        "Test F1 Score: 69.13\r\n",
        "Test Time:  2.7324439999999868\r\n",
        "```\r\n",
        "##### Epoch = 100, Batch Size = 16\r\n",
        "```\r\n",
        "6058/6058 [==============================] - 16s 3ms/step - loss: 0.8060 - categorical_accuracy: 0.7124 - f1_m: 0.6629 - precision_m: 0.7169 - recall_m: 0.6431\r\n",
        "Train Accuracy: 71.24\r\n",
        "Train F1 Score: 66.29\r\n",
        "Train Time:  5139.016927000001\r\n",
        "1507/1507 [==============================] - 4s 3ms/step - loss: 1.3907 - categorical_accuracy: 0.6718 - f1_m: 0.6433 - precision_m: 0.6773 - recall_m: 0.6312\r\n",
        "Test Accuracy: 67.18\r\n",
        "Test F1 Score: 64.33\r\n",
        "Test Time:  5.47839599999952\r\n",
        "Score: 64.328\r\n",
        "```\r\n"
      ]
    },
    {
      "cell_type": "code",
      "metadata": {
        "colab": {
          "base_uri": "https://localhost:8080/",
          "height": 295
        },
        "id": "DZwbf5Zq3kAT",
        "outputId": "99747edb-14d4-4ce8-85b5-2b4f706cfdd1"
      },
      "source": [
        "import matplotlib.pyplot as plt\r\n",
        "plt.plot(history.history['loss'])\r\n",
        "plt.plot(history.history['val_loss'])\r\n",
        "plt.title('Model Accuracy')\r\n",
        "plt.ylabel('accuracy')\r\n",
        "plt.xlabel('epoch')\r\n",
        "plt.legend(['train', 'test'], loc='upper left')\r\n",
        "plt.show()"
      ],
      "execution_count": 14,
      "outputs": [
        {
          "output_type": "display_data",
          "data": {
            "image/png": "[encoded data removed]",
            "text/plain": [
              "<Figure size 432x288 with 1 Axes>"
            ]
          },
          "metadata": {
            "tags": [],
            "needs_background": "light"
          }
        }
      ]
    },
    {
      "cell_type": "code",
      "metadata": {
        "id": "lVm4ma-dy3ie",
        "colab": {
          "base_uri": "https://localhost:8080/",
          "height": 1000,
          "referenced_widgets": [
            "1c80400a678a4c8aafc7c1d4b8a5bbfd",
            "eeb6b76a36fc4b78a7506ab23dec7b6b",
            "4e16c2e4679748a9be54ecdb794b62ad",
            "7be9b28703634faebcab0e0b7f1813d6",
            "8886ff6707b74c1fb4853083e6a8ade8",
            "d4aa373ba1064882b10e80cd0551d0dd",
            "65af1f00edb14ed182567f899b7b0e97",
            "3c47b13355f5415db34afab34f8bade6"
          ]
        },
        "outputId": "d415b158-6bd4-4dca-ef94-6504d21a0f1a"
      },
      "source": [
        "# run the experiment for interations\n",
        "run_experiment(10, verbose=False, epochs=40, batch_size=32)"
      ],
      "execution_count": null,
      "outputs": [
        {
          "output_type": "display_data",
          "data": {
            "application/vnd.jupyter.widget-view+json": {
              "model_id": "1c80400a678a4c8aafc7c1d4b8a5bbfd",
              "version_minor": 0,
              "version_major": 2
            },
            "text/plain": [
              "HBox(children=(FloatProgress(value=0.0, max=10.0), HTML(value='')))"
            ]
          },
          "metadata": {
            "tags": []
          }
        },
        {
          "output_type": "stream",
          "text": [
            "\n",
            "-------------------\n",
            "\n",
            "6058/6058 [==============================] - 15s 2ms/step - loss: 0.6889 - categorical_accuracy: 0.7361 - f1_m: 0.6779 - precision_m: 0.7449 - recall_m: 0.6560\n",
            "Train Accuracy: 73.61\n",
            "Train F1 Score: 67.79\n",
            "Train Time:  748.2750169999999\n",
            "1507/1507 [==============================] - 4s 2ms/step - loss: 1.2579 - categorical_accuracy: 0.6757 - f1_m: 0.6431 - precision_m: 0.6928 - recall_m: 0.6246\n",
            "Test Accuracy: 67.57\n",
            "Test F1 Score: 64.31\n",
            "Test Time:  4.866907999999967\n",
            "Score: 6430.920\n",
            "\n",
            "-------------------\n",
            "\n",
            "6058/6058 [==============================] - 15s 2ms/step - loss: 0.6836 - categorical_accuracy: 0.7371 - f1_m: 0.6850 - precision_m: 0.7489 - recall_m: 0.6637\n",
            "Train Accuracy: 73.71\n",
            "Train F1 Score: 68.50\n",
            "Train Time:  745.265728\n",
            "1507/1507 [==============================] - 4s 2ms/step - loss: 1.2347 - categorical_accuracy: 0.6818 - f1_m: 0.6520 - precision_m: 0.6941 - recall_m: 0.6330\n",
            "Test Accuracy: 68.18\n",
            "Test F1 Score: 65.20\n",
            "Test Time:  4.843038999999862\n",
            "Score: 6519.679\n",
            "\n",
            "-------------------\n",
            "\n",
            "6058/6058 [==============================] - 15s 2ms/step - loss: 0.7073 - categorical_accuracy: 0.7344 - f1_m: 0.6804 - precision_m: 0.7451 - recall_m: 0.6550\n",
            "Train Accuracy: 73.44\n",
            "Train F1 Score: 68.04\n",
            "Train Time:  746.228059\n",
            "1507/1507 [==============================] - 4s 2ms/step - loss: 1.2786 - categorical_accuracy: 0.6578 - f1_m: 0.6298 - precision_m: 0.6651 - recall_m: 0.6158\n",
            "Test Accuracy: 65.78\n",
            "Test F1 Score: 62.98\n",
            "Test Time:  4.849640000000363\n",
            "Score: 6297.508\n",
            "\n",
            "-------------------\n",
            "\n",
            "6058/6058 [==============================] - 15s 2ms/step - loss: 0.6810 - categorical_accuracy: 0.7371 - f1_m: 0.6710 - precision_m: 0.7466 - recall_m: 0.6423\n",
            "Train Accuracy: 73.71\n",
            "Train F1 Score: 67.10\n",
            "Train Time:  748.1489569999999\n",
            "1507/1507 [==============================] - 4s 2ms/step - loss: 1.5204 - categorical_accuracy: 0.6496 - f1_m: 0.6143 - precision_m: 0.6670 - recall_m: 0.5943\n",
            "Test Accuracy: 64.96\n",
            "Test F1 Score: 61.43\n",
            "Test Time:  4.869331000000329\n",
            "Score: 6142.884\n",
            "\n",
            "-------------------\n",
            "\n",
            "6058/6058 [==============================] - 15s 2ms/step - loss: 0.6756 - categorical_accuracy: 0.7411 - f1_m: 0.6810 - precision_m: 0.7535 - recall_m: 0.6563\n",
            "Train Accuracy: 74.11\n",
            "Train F1 Score: 68.10\n",
            "Train Time:  759.7769090000002\n",
            "1507/1507 [==============================] - 4s 2ms/step - loss: 1.2220 - categorical_accuracy: 0.6603 - f1_m: 0.6266 - precision_m: 0.6736 - recall_m: 0.6086\n",
            "Test Accuracy: 66.03\n",
            "Test F1 Score: 62.66\n",
            "Test Time:  4.872718000000077\n",
            "Score: 6265.892\n",
            "\n",
            "-------------------\n",
            "\n",
            "6058/6058 [==============================] - 15s 2ms/step - loss: 0.7204 - categorical_accuracy: 0.7260 - f1_m: 0.6552 - precision_m: 0.7389 - recall_m: 0.6250\n",
            "Train Accuracy: 72.60\n",
            "Train F1 Score: 65.52\n",
            "Train Time:  755.7374979999995\n",
            "1507/1507 [==============================] - 4s 2ms/step - loss: 1.2267 - categorical_accuracy: 0.6774 - f1_m: 0.6397 - precision_m: 0.6928 - recall_m: 0.6214\n",
            "Test Accuracy: 67.74\n",
            "Test F1 Score: 63.97\n",
            "Test Time:  4.881212000000232\n",
            "Score: 6397.259\n",
            "\n",
            "-------------------\n",
            "\n",
            "6058/6058 [==============================] - 15s 2ms/step - loss: 0.6898 - categorical_accuracy: 0.7370 - f1_m: 0.6747 - precision_m: 0.7483 - recall_m: 0.6477\n",
            "Train Accuracy: 73.70\n",
            "Train F1 Score: 67.47\n",
            "Train Time:  747.8278490000002\n",
            "1507/1507 [==============================] - 4s 3ms/step - loss: 1.2509 - categorical_accuracy: 0.6871 - f1_m: 0.6543 - precision_m: 0.7012 - recall_m: 0.6357\n",
            "Test Accuracy: 68.71\n",
            "Test F1 Score: 65.43\n",
            "Test Time:  4.901785000000018\n",
            "Score: 6542.745\n",
            "\n",
            "-------------------\n",
            "\n",
            "6058/6058 [==============================] - 15s 2ms/step - loss: 0.6844 - categorical_accuracy: 0.7408 - f1_m: 0.6772 - precision_m: 0.7506 - recall_m: 0.6534\n",
            "Train Accuracy: 74.08\n",
            "Train F1 Score: 67.72\n",
            "Train Time:  747.5787040000005\n",
            "1507/1507 [==============================] - 4s 2ms/step - loss: 1.4777 - categorical_accuracy: 0.6706 - f1_m: 0.6272 - precision_m: 0.6800 - recall_m: 0.6076\n",
            "Test Accuracy: 67.06\n",
            "Test F1 Score: 62.72\n",
            "Test Time:  4.875426999999945\n",
            "Score: 6272.326\n",
            "\n",
            "-------------------\n",
            "\n",
            "6058/6058 [==============================] - 15s 2ms/step - loss: 0.6845 - categorical_accuracy: 0.7370 - f1_m: 0.6834 - precision_m: 0.7492 - recall_m: 0.6615\n",
            "Train Accuracy: 73.70\n",
            "Train F1 Score: 68.34\n",
            "Train Time:  750.2016519999997\n",
            "1507/1507 [==============================] - 4s 2ms/step - loss: 1.2694 - categorical_accuracy: 0.6912 - f1_m: 0.6639 - precision_m: 0.7042 - recall_m: 0.6476\n",
            "Test Accuracy: 69.12\n",
            "Test F1 Score: 66.39\n",
            "Test Time:  4.850257000000056\n",
            "Score: 6639.267\n",
            "\n",
            "-------------------\n",
            "\n",
            "6058/6058 [==============================] - 15s 2ms/step - loss: 0.6921 - categorical_accuracy: 0.7323 - f1_m: 0.6791 - precision_m: 0.7440 - recall_m: 0.6546\n",
            "Train Accuracy: 73.23\n",
            "Train F1 Score: 67.91\n",
            "Train Time:  749.3242440000004\n",
            "1507/1507 [==============================] - 4s 2ms/step - loss: 1.3363 - categorical_accuracy: 0.6672 - f1_m: 0.6342 - precision_m: 0.6790 - recall_m: 0.6162\n",
            "Test Accuracy: 66.72\n",
            "Test F1 Score: 63.42\n",
            "Test Time:  4.880282000000079\n",
            "Score: 6341.572\n",
            "\n",
            "[64.30919766426086, 65.19678831100464, 62.97507882118225, 61.428844928741455, 62.65891790390015, 63.97258639335632, 65.42744636535645, 62.7232551574707, 66.39267206192017, 63.41571807861328]\n",
            "Accuracy: 63.850% (+/-1.432)\n"
          ],
          "name": "stdout"
        }
      ]
    },
    {
      "cell_type": "markdown",
      "metadata": {
        "id": "R3yrtIFOYyMM"
      },
      "source": [
        "# Random Forest Model"
      ]
    },
    {
      "cell_type": "code",
      "metadata": {
        "id": "Q_siG1bHY11-"
      },
      "source": [
        "from sklearn.model_selection import train_test_split, cross_val_score\r\n",
        "from sklearn.metrics import classification_report, confusion_matrix, accuracy_score\r\n",
        "from sklearn.ensemble import RandomForestClassifier\r\n",
        "\r\n",
        "# load label set again\r\n",
        "trainy_2 = load_file(dataset_path + 'label_train.joblib')\r\n",
        "testy_2 = load_file(dataset_path + 'label_test.joblib')\r\n",
        "\r\n",
        "clf = RandomForestClassifier(verbose=True,n_jobs=-1)\r\n",
        "\r\n",
        "clf.fit(trainX, trainy_2)\r\n",
        "y_pred = clf.predict(testX)\r\n",
        "\r\n",
        "# Evaluate Algorithm\r\n",
        "print(\"\\n\\nConfusion Matrix: \\n\\n\",confusion_matrix(testy_2,y_pred))\r\n",
        "print(\"\\n\\nReport: \\n\\n\",classification_report(testy_2,y_pred))\r\n",
        "print(\"Accuracy: \",accuracy_score(testy_2,y_pred))"
      ],
      "execution_count": null,
      "outputs": []
    }
  ]
}