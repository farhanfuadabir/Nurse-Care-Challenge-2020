{
  "nbformat": 4,
  "nbformat_minor": 0,
  "metadata": {
    "colab": {
      "name": "1D_CNN_Nurse_Care_Dataset.ipynb",
      "provenance": [],
      "authorship_tag": "ABX9TyP5fkT53V86ekwtD+5Bbzuw",
      "include_colab_link": true
    },
    "kernelspec": {
      "name": "python3",
      "display_name": "Python 3"
    },
    "accelerator": "GPU",
    "widgets": {
      "application/vnd.jupyter.widget-state+json": {
        "1c80400a678a4c8aafc7c1d4b8a5bbfd": {
          "model_module": "@jupyter-widgets/controls",
          "model_name": "HBoxModel",
          "state": {
            "_view_name": "HBoxView",
            "_dom_classes": [],
            "_model_name": "HBoxModel",
            "_view_module": "@jupyter-widgets/controls",
            "_model_module_version": "1.5.0",
            "_view_count": null,
            "_view_module_version": "1.5.0",
            "box_style": "",
            "layout": "IPY_MODEL_eeb6b76a36fc4b78a7506ab23dec7b6b",
            "_model_module": "@jupyter-widgets/controls",
            "children": [
              "IPY_MODEL_4e16c2e4679748a9be54ecdb794b62ad",
              "IPY_MODEL_7be9b28703634faebcab0e0b7f1813d6"
            ]
          }
        },
        "eeb6b76a36fc4b78a7506ab23dec7b6b": {
          "model_module": "@jupyter-widgets/base",
          "model_name": "LayoutModel",
          "state": {
            "_view_name": "LayoutView",
            "grid_template_rows": null,
            "right": null,
            "justify_content": null,
            "_view_module": "@jupyter-widgets/base",
            "overflow": null,
            "_model_module_version": "1.2.0",
            "_view_count": null,
            "flex_flow": null,
            "width": null,
            "min_width": null,
            "border": null,
            "align_items": null,
            "bottom": null,
            "_model_module": "@jupyter-widgets/base",
            "top": null,
            "grid_column": null,
            "overflow_y": null,
            "overflow_x": null,
            "grid_auto_flow": null,
            "grid_area": null,
            "grid_template_columns": null,
            "flex": null,
            "_model_name": "LayoutModel",
            "justify_items": null,
            "grid_row": null,
            "max_height": null,
            "align_content": null,
            "visibility": null,
            "align_self": null,
            "height": null,
            "min_height": null,
            "padding": null,
            "grid_auto_rows": null,
            "grid_gap": null,
            "max_width": null,
            "order": null,
            "_view_module_version": "1.2.0",
            "grid_template_areas": null,
            "object_position": null,
            "object_fit": null,
            "grid_auto_columns": null,
            "margin": null,
            "display": null,
            "left": null
          }
        },
        "4e16c2e4679748a9be54ecdb794b62ad": {
          "model_module": "@jupyter-widgets/controls",
          "model_name": "FloatProgressModel",
          "state": {
            "_view_name": "ProgressView",
            "style": "IPY_MODEL_8886ff6707b74c1fb4853083e6a8ade8",
            "_dom_classes": [],
            "description": " 20%",
            "_model_name": "FloatProgressModel",
            "bar_style": "",
            "max": 10,
            "_view_module": "@jupyter-widgets/controls",
            "_model_module_version": "1.5.0",
            "value": 2,
            "_view_count": null,
            "_view_module_version": "1.5.0",
            "orientation": "horizontal",
            "min": 0,
            "description_tooltip": null,
            "_model_module": "@jupyter-widgets/controls",
            "layout": "IPY_MODEL_d4aa373ba1064882b10e80cd0551d0dd"
          }
        },
        "7be9b28703634faebcab0e0b7f1813d6": {
          "model_module": "@jupyter-widgets/controls",
          "model_name": "HTMLModel",
          "state": {
            "_view_name": "HTMLView",
            "style": "IPY_MODEL_65af1f00edb14ed182567f899b7b0e97",
            "_dom_classes": [],
            "description": "",
            "_model_name": "HTMLModel",
            "placeholder": "​",
            "_view_module": "@jupyter-widgets/controls",
            "_model_module_version": "1.5.0",
            "value": " 2/10 [19:04&lt;1:16:31, 573.94s/it]",
            "_view_count": null,
            "_view_module_version": "1.5.0",
            "description_tooltip": null,
            "_model_module": "@jupyter-widgets/controls",
            "layout": "IPY_MODEL_3c47b13355f5415db34afab34f8bade6"
          }
        },
        "8886ff6707b74c1fb4853083e6a8ade8": {
          "model_module": "@jupyter-widgets/controls",
          "model_name": "ProgressStyleModel",
          "state": {
            "_view_name": "StyleView",
            "_model_name": "ProgressStyleModel",
            "description_width": "initial",
            "_view_module": "@jupyter-widgets/base",
            "_model_module_version": "1.5.0",
            "_view_count": null,
            "_view_module_version": "1.2.0",
            "bar_color": null,
            "_model_module": "@jupyter-widgets/controls"
          }
        },
        "d4aa373ba1064882b10e80cd0551d0dd": {
          "model_module": "@jupyter-widgets/base",
          "model_name": "LayoutModel",
          "state": {
            "_view_name": "LayoutView",
            "grid_template_rows": null,
            "right": null,
            "justify_content": null,
            "_view_module": "@jupyter-widgets/base",
            "overflow": null,
            "_model_module_version": "1.2.0",
            "_view_count": null,
            "flex_flow": null,
            "width": null,
            "min_width": null,
            "border": null,
            "align_items": null,
            "bottom": null,
            "_model_module": "@jupyter-widgets/base",
            "top": null,
            "grid_column": null,
            "overflow_y": null,
            "overflow_x": null,
            "grid_auto_flow": null,
            "grid_area": null,
            "grid_template_columns": null,
            "flex": null,
            "_model_name": "LayoutModel",
            "justify_items": null,
            "grid_row": null,
            "max_height": null,
            "align_content": null,
            "visibility": null,
            "align_self": null,
            "height": null,
            "min_height": null,
            "padding": null,
            "grid_auto_rows": null,
            "grid_gap": null,
            "max_width": null,
            "order": null,
            "_view_module_version": "1.2.0",
            "grid_template_areas": null,
            "object_position": null,
            "object_fit": null,
            "grid_auto_columns": null,
            "margin": null,
            "display": null,
            "left": null
          }
        },
        "65af1f00edb14ed182567f899b7b0e97": {
          "model_module": "@jupyter-widgets/controls",
          "model_name": "DescriptionStyleModel",
          "state": {
            "_view_name": "StyleView",
            "_model_name": "DescriptionStyleModel",
            "description_width": "",
            "_view_module": "@jupyter-widgets/base",
            "_model_module_version": "1.5.0",
            "_view_count": null,
            "_view_module_version": "1.2.0",
            "_model_module": "@jupyter-widgets/controls"
          }
        },
        "3c47b13355f5415db34afab34f8bade6": {
          "model_module": "@jupyter-widgets/base",
          "model_name": "LayoutModel",
          "state": {
            "_view_name": "LayoutView",
            "grid_template_rows": null,
            "right": null,
            "justify_content": null,
            "_view_module": "@jupyter-widgets/base",
            "overflow": null,
            "_model_module_version": "1.2.0",
            "_view_count": null,
            "flex_flow": null,
            "width": null,
            "min_width": null,
            "border": null,
            "align_items": null,
            "bottom": null,
            "_model_module": "@jupyter-widgets/base",
            "top": null,
            "grid_column": null,
            "overflow_y": null,
            "overflow_x": null,
            "grid_auto_flow": null,
            "grid_area": null,
            "grid_template_columns": null,
            "flex": null,
            "_model_name": "LayoutModel",
            "justify_items": null,
            "grid_row": null,
            "max_height": null,
            "align_content": null,
            "visibility": null,
            "align_self": null,
            "height": null,
            "min_height": null,
            "padding": null,
            "grid_auto_rows": null,
            "grid_gap": null,
            "max_width": null,
            "order": null,
            "_view_module_version": "1.2.0",
            "grid_template_areas": null,
            "object_position": null,
            "object_fit": null,
            "grid_auto_columns": null,
            "margin": null,
            "display": null,
            "left": null
          }
        }
      }
    }
  },
  "cells": [
    {
      "cell_type": "markdown",
      "metadata": {
        "id": "view-in-github",
        "colab_type": "text"
      },
      "source": [
        "<a href=\"https://colab.research.google.com/github/farhanfuadabir/Nurse-Care-Challenge-2020/blob/main/1D_CNN_Nurse_Care_Dataset.ipynb\" target=\"_parent\"><img src=\"https://colab.research.google.com/assets/colab-badge.svg\" alt=\"Open In Colab\"/></a>"
      ]
    },
    {
      "cell_type": "code",
      "metadata": {
        "colab": {
          "base_uri": "https://localhost:8080/"
        },
        "id": "HGE-kKDZ3Sla",
        "outputId": "e1b9d407-715e-4786-d0c4-dccffbc6cf58"
      },
      "source": [
        "from google.colab import drive\n",
        "drive.mount('/content/drive')"
      ],
      "execution_count": 3,
      "outputs": [
        {
          "output_type": "stream",
          "text": [
            "Mounted at /content/drive\n"
          ],
          "name": "stdout"
        }
      ]
    },
    {
      "cell_type": "markdown",
      "metadata": {
        "id": "3odxBroKQbXS"
      },
      "source": [
        "# Sliding Window"
      ]
    },
    {
      "cell_type": "code",
      "metadata": {
        "id": "t_FKTMWYUkrz"
      },
      "source": [
        "def sliding_window(df, num_datapoint = 50, slide_frac = 0.5):\r\n",
        "  import pandas as pd\r\n",
        "  import numpy as np\r\n",
        "  from tqdm.notebook import tqdm\r\n",
        "  acc_x = pd.DataFrame()\r\n",
        "  acc_y = pd.DataFrame()\r\n",
        "  acc_z = pd.DataFrame()\r\n",
        "  label = pd.DataFrame()\r\n",
        "  slide = (int)(num_datapoint * slide_frac)\r\n",
        "  take_index = df['take'].unique()\r\n",
        "  \r\n",
        "  for i in tqdm(take_index):\r\n",
        "    init = 0\r\n",
        "    end = num_datapoint\r\n",
        "    temp_df = df.loc[df['take'] == i]\r\n",
        "    while end <= temp_df.shape[0]:\r\n",
        "      acc_x = acc_x.append(temp_df['x'].iloc[init:end].reset_index(drop=True).transpose(),ignore_index=True)\r\n",
        "      acc_y = acc_y.append(temp_df['y'].iloc[init:end].reset_index(drop=True).transpose(),ignore_index=True)\r\n",
        "      acc_z = acc_z.append(temp_df['z'].iloc[init:end].reset_index(drop=True).transpose(),ignore_index=True)\r\n",
        "      label = label.append(temp_df['label'].iloc[init:end].reset_index(drop=True).transpose(),ignore_index=True)\r\n",
        "      init = init + slide\r\n",
        "      end = end + slide\r\n",
        "  label = label.median(axis=1)    \r\n",
        "  \r\n",
        "  print('acc_x = \\n')\r\n",
        "  display(acc_x)\r\n",
        "  print('\\n\\n---------------\\n\\nacc_y = \\n')\r\n",
        "  display(acc_y)\r\n",
        "  print('\\n\\n---------------\\n\\nacc_z = \\n')\r\n",
        "  display(acc_z)\r\n",
        "  print('\\n\\n---------------\\n\\nlabel = \\n')\r\n",
        "  display(label)\r\n",
        "\r\n",
        "  print('\\n\\nDone')\r\n",
        "\r\n",
        "  return acc_x, acc_y, acc_z, label"
      ],
      "execution_count": 1,
      "outputs": []
    },
    {
      "cell_type": "code",
      "metadata": {
        "id": "ns50wPwN7yLU",
        "colab": {
          "base_uri": "https://localhost:8080/",
          "height": 351
        },
        "outputId": "c0583bad-4a7f-4f14-a25a-3ff9d5e12964"
      },
      "source": [
        "from joblib import load\n",
        "\n",
        "train = load(\"/content/drive/MyDrive/NCC Train Test Set (Resampled 20Hz)/Split 80 20/TRAIN.joblib\")\n",
        "test = load(\"/content/drive/MyDrive/NCC Train Test Set (Resampled 20Hz)/Split 80 20/TEST.joblib\")\n",
        "\n",
        "print('Train set shape: ', train.shape)\n",
        "print('Test set shape: ', test.shape)"
      ],
      "execution_count": 2,
      "outputs": [
        {
          "output_type": "error",
          "ename": "FileNotFoundError",
          "evalue": "ignored",
          "traceback": [
            "\u001b[0;31m---------------------------------------------------------------------------\u001b[0m",
            "\u001b[0;31mFileNotFoundError\u001b[0m                         Traceback (most recent call last)",
            "\u001b[0;32m<ipython-input-2-55d6505306e9>\u001b[0m in \u001b[0;36m<module>\u001b[0;34m()\u001b[0m\n\u001b[1;32m      1\u001b[0m \u001b[0;32mfrom\u001b[0m \u001b[0mjoblib\u001b[0m \u001b[0;32mimport\u001b[0m \u001b[0mload\u001b[0m\u001b[0;34m\u001b[0m\u001b[0;34m\u001b[0m\u001b[0m\n\u001b[1;32m      2\u001b[0m \u001b[0;34m\u001b[0m\u001b[0m\n\u001b[0;32m----> 3\u001b[0;31m \u001b[0mtrain\u001b[0m \u001b[0;34m=\u001b[0m \u001b[0mload\u001b[0m\u001b[0;34m(\u001b[0m\u001b[0;34m\"/content/drive/MyDrive/NCC Train Test Set (Resampled 20Hz)/Split 80 20/TRAIN.joblib\"\u001b[0m\u001b[0;34m)\u001b[0m\u001b[0;34m\u001b[0m\u001b[0;34m\u001b[0m\u001b[0m\n\u001b[0m\u001b[1;32m      4\u001b[0m \u001b[0mtest\u001b[0m \u001b[0;34m=\u001b[0m \u001b[0mload\u001b[0m\u001b[0;34m(\u001b[0m\u001b[0;34m\"/content/drive/MyDrive/NCC Train Test Set (Resampled 20Hz)/Split 80 20/TEST.joblib\"\u001b[0m\u001b[0;34m)\u001b[0m\u001b[0;34m\u001b[0m\u001b[0;34m\u001b[0m\u001b[0m\n\u001b[1;32m      5\u001b[0m \u001b[0;34m\u001b[0m\u001b[0m\n",
            "\u001b[0;32m/usr/local/lib/python3.6/dist-packages/joblib/numpy_pickle.py\u001b[0m in \u001b[0;36mload\u001b[0;34m(filename, mmap_mode)\u001b[0m\n\u001b[1;32m    575\u001b[0m             \u001b[0mobj\u001b[0m \u001b[0;34m=\u001b[0m \u001b[0m_unpickle\u001b[0m\u001b[0;34m(\u001b[0m\u001b[0mfobj\u001b[0m\u001b[0;34m)\u001b[0m\u001b[0;34m\u001b[0m\u001b[0;34m\u001b[0m\u001b[0m\n\u001b[1;32m    576\u001b[0m     \u001b[0;32melse\u001b[0m\u001b[0;34m:\u001b[0m\u001b[0;34m\u001b[0m\u001b[0;34m\u001b[0m\u001b[0m\n\u001b[0;32m--> 577\u001b[0;31m         \u001b[0;32mwith\u001b[0m \u001b[0mopen\u001b[0m\u001b[0;34m(\u001b[0m\u001b[0mfilename\u001b[0m\u001b[0;34m,\u001b[0m \u001b[0;34m'rb'\u001b[0m\u001b[0;34m)\u001b[0m \u001b[0;32mas\u001b[0m \u001b[0mf\u001b[0m\u001b[0;34m:\u001b[0m\u001b[0;34m\u001b[0m\u001b[0;34m\u001b[0m\u001b[0m\n\u001b[0m\u001b[1;32m    578\u001b[0m             \u001b[0;32mwith\u001b[0m \u001b[0m_read_fileobject\u001b[0m\u001b[0;34m(\u001b[0m\u001b[0mf\u001b[0m\u001b[0;34m,\u001b[0m \u001b[0mfilename\u001b[0m\u001b[0;34m,\u001b[0m \u001b[0mmmap_mode\u001b[0m\u001b[0;34m)\u001b[0m \u001b[0;32mas\u001b[0m \u001b[0mfobj\u001b[0m\u001b[0;34m:\u001b[0m\u001b[0;34m\u001b[0m\u001b[0;34m\u001b[0m\u001b[0m\n\u001b[1;32m    579\u001b[0m                 \u001b[0;32mif\u001b[0m \u001b[0misinstance\u001b[0m\u001b[0;34m(\u001b[0m\u001b[0mfobj\u001b[0m\u001b[0;34m,\u001b[0m \u001b[0mstr\u001b[0m\u001b[0;34m)\u001b[0m\u001b[0;34m:\u001b[0m\u001b[0;34m\u001b[0m\u001b[0;34m\u001b[0m\u001b[0m\n",
            "\u001b[0;31mFileNotFoundError\u001b[0m: [Errno 2] No such file or directory: '/content/drive/MyDrive/NCC Train Test Set (Resampled 20Hz)/Split 80 20/TRAIN.joblib'"
          ]
        }
      ]
    },
    {
      "cell_type": "code",
      "metadata": {
        "id": "vGlKWWQWIeFv"
      },
      "source": [
        "#----------------------------- Window Train Set ---------------------------------\r\n",
        "\r\n",
        "acc_x_train, acc_y_train, acc_z_train, label_train = sliding_window(train, num_datapoint = 50, slide_frac = 0.5) "
      ],
      "execution_count": null,
      "outputs": []
    },
    {
      "cell_type": "code",
      "metadata": {
        "id": "RkI84FZ-IpaR"
      },
      "source": [
        "#----------------------------- Export Train joblib ---------------------------------\r\n",
        "\r\n",
        "from joblib import dump\r\n",
        "\r\n",
        "export_path = '/content/drive/MyDrive/NCC Train Test Set (Resampled 20Hz)/Split 80 20/Windowed/'\r\n",
        "\r\n",
        "print('Exporting joblib at: ', export_path + 'acc_x_train.joblib', '...', end='')\r\n",
        "dump(acc_x_train, export_path + 'acc_x_train.joblib')\r\n",
        "print('Done')\r\n",
        "print('Exporting joblib at: ', export_path + 'acc_y_train.joblib', '...', end='')\r\n",
        "dump(acc_y_train, export_path + 'acc_y_train.joblib')\r\n",
        "print('Done')\r\n",
        "print('Exporting joblib at: ', export_path + 'acc_z_train.joblib', '...', end='')\r\n",
        "dump(acc_z_train, export_path + 'acc_z_train.joblib')\r\n",
        "print('Done')\r\n",
        "print('Exporting joblib at: ', export_path + 'label_train.joblib', '...', end='')\r\n",
        "dump(label_train, export_path + 'label_train.joblib')\r\n",
        "print('Done')"
      ],
      "execution_count": null,
      "outputs": []
    },
    {
      "cell_type": "code",
      "metadata": {
        "id": "KuQMAbH88VTO"
      },
      "source": [
        "#----------------------------- Window Test Set ---------------------------------\r\n",
        "\r\n",
        "acc_x_test, acc_y_test, acc_z_test, label_test = sliding_window(test, num_datapoint = 50, slide_frac = 0.5) "
      ],
      "execution_count": null,
      "outputs": []
    },
    {
      "cell_type": "code",
      "metadata": {
        "id": "5Qc_PwSq2zZK"
      },
      "source": [
        "#----------------------------- Export Test joblib ---------------------------------\r\n",
        "\r\n",
        "from joblib import dump\r\n",
        "\r\n",
        "export_path = '/content/drive/MyDrive/NCC Train Test Set (Resampled 20Hz)/Split 80 20/Windowed/'\r\n",
        "\r\n",
        "print('Exporting joblib at: ', export_path + 'acc_x_test.joblib', '...', end='')\r\n",
        "dump(acc_x_test, export_path + 'acc_x_test.joblib')\r\n",
        "print('Done')\r\n",
        "print('Exporting joblib at: ', export_path + 'acc_y_test.joblib', '...', end='')\r\n",
        "dump(acc_y_test, export_path + 'acc_y_test.joblib')\r\n",
        "print('Done')\r\n",
        "print('Exporting joblib at: ', export_path + 'acc_z_test.joblib', '...', end='')\r\n",
        "dump(acc_z_test, export_path + 'acc_z_test.joblib')\r\n",
        "print('Done')\r\n",
        "print('Exporting joblib at: ', export_path + 'label_test.joblib', '...', end='')\r\n",
        "dump(label_test, export_path + 'label_test.joblib')\r\n",
        "print('Done')"
      ],
      "execution_count": null,
      "outputs": []
    },
    {
      "cell_type": "code",
      "metadata": {
        "id": "8-RNPoqrtcOZ"
      },
      "source": [
        "trial = pd.DataFrame(data={'take': [2,2,2,2,2,1,1,1,1,1], \r\n",
        "                           'x': [1,1,1,2,4,4,5,6,6,6], \r\n",
        "                           'y': [1,1,1,2,4,4,5,6,6,6], \r\n",
        "                           'z': [6,5,4,4,3,3,3,1,1,1], \r\n",
        "                           'label': [1,1,1,2,2,2,2,3,3,3]})\r\n",
        "display(trial)\r\n",
        "acc_x = pd.DataFrame()\r\n",
        "acc_y = pd.DataFrame()\r\n",
        "acc_z = pd.DataFrame()\r\n",
        "label = pd.DataFrame()\r\n",
        "slide = (int)(2 * 0.5)\r\n",
        "\r\n",
        "#df = df.groupby('take').filter(lambda x: len(x) >= num_datapoint)\r\n",
        "take_index = trial['take'].unique()\r\n",
        "display(take_index)"
      ],
      "execution_count": null,
      "outputs": []
    },
    {
      "cell_type": "code",
      "metadata": {
        "id": "fi3rkH48tvQc"
      },
      "source": [
        "acc_x = pd.DataFrame()\r\n",
        "for i in take_index:\r\n",
        "    init = 0\r\n",
        "    end = 2\r\n",
        "    temp_df = trial.loc[trial['take'] == i]\r\n",
        "    while end <= temp_df.shape[0]:\r\n",
        "      # print('init = ', init)\r\n",
        "      temp_x = temp_df['x'].iloc[init:end].reset_index(drop=True).transpose()\r\n",
        "      \r\n",
        "      acc_x = acc_x.append(temp_x,ignore_index=True)\r\n",
        "      # acc_y = acc_y.append(temp_df['y'].iloc[init:end].to_frame().reset_index().transpose(),ignore_index=True)\r\n",
        "      # acc_z = acc_z.append(temp_df['z'].iloc[init:end].to_frame().reset_index().transpose(),ignore_index=True)\r\n",
        "      # label = label.append(temp_df['label'].iloc[init:end].to_frame().reset_index().transpose(),ignore_index=True)\r\n",
        "      init = init + 1\r\n",
        "      end = end + 1\r\n",
        "\r\n",
        "display(acc_x)"
      ],
      "execution_count": null,
      "outputs": []
    },
    {
      "cell_type": "code",
      "metadata": {
        "id": "EVq6mClLiZrf"
      },
      "source": [
        "#bla = pd.DataFrame()\r\n",
        "temp = train_1['x'].iloc[0:50].to_frame().transpose()\r\n",
        "display(temp)\r\n",
        "# temp = temp.\r\n",
        "# display(temp)\r\n",
        "bla = bla.append(temp,ignore_index=True)\r\n",
        "display(bla)"
      ],
      "execution_count": null,
      "outputs": []
    },
    {
      "cell_type": "code",
      "metadata": {
        "id": "P-AvZXPFGWTx"
      },
      "source": [
        "import numpy as np\n",
        "import pandas as pd\n",
        "\n",
        "loaded = list()\n",
        "\n",
        "a = np.array([[1,2,3],[4,5,6]]) \n",
        "print(a)\n",
        "loaded.append(a)\n",
        "loaded.append(a)\n",
        "loaded.append(a)\n",
        "print(loaded)\n",
        "\n",
        "loaded = np.dstack(loaded)\n",
        "\n",
        "# print(a)\n",
        "print(loaded)\n",
        "print(loaded.shape)\n",
        "\n",
        "\n",
        "print('\\n\\n\\n --------------------- \\n\\n\\n')\n",
        "\n",
        "B = pd.Series([2,3,4,5,6,7,8,9]).to_numpy()\n",
        "\n",
        "print(B)\n",
        "mul = 3\n",
        "print(B.shape[0] % mul)\n",
        "B = B[:-2]\n",
        "B.reshape(-1,mul)\n"
      ],
      "execution_count": null,
      "outputs": []
    },
    {
      "cell_type": "markdown",
      "metadata": {
        "id": "wdExAX7D2vtO"
      },
      "source": [
        "# Dependencies"
      ]
    },
    {
      "cell_type": "code",
      "metadata": {
        "id": "Z0Lzri_qzyT0"
      },
      "source": [
        "# cnn model\n",
        "import numpy as np\n",
        "import pandas as pd\n",
        "from matplotlib import pyplot\n",
        "from joblib import load, dump\n",
        "from tqdm.notebook import tqdm\n",
        "from keras.models import Sequential\n",
        "from keras.layers import Dense\n",
        "from keras.layers import Flatten\n",
        "from keras.layers import Dropout\n",
        "from keras.layers.convolutional import Conv1D\n",
        "from keras.layers.convolutional import MaxPooling1D\n",
        "from keras.utils import to_categorical"
      ],
      "execution_count": 4,
      "outputs": []
    },
    {
      "cell_type": "markdown",
      "metadata": {
        "id": "CI3_XJduyfUJ"
      },
      "source": [
        "# Process Windowed Dataset for CNN"
      ]
    },
    {
      "cell_type": "code",
      "metadata": {
        "id": "N14xoSGVU0ga"
      },
      "source": [
        "# load a single file as a numpy array\r\n",
        "def load_file(filepath):\r\n",
        "  dataframe = load(filepath)\r\n",
        "  return dataframe.values\r\n",
        " \r\n",
        "# load a list of files and return as a 3d numpy array\r\n",
        "def load_group(filenames, path):\r\n",
        "\tloaded = list()\r\n",
        "\tfor name in filenames:\r\n",
        "\t\tdata = load_file(path + name)\r\n",
        "\t\tloaded.append(data)\r\n",
        "\t# stack group so that features are the 3rd dimension\r\n",
        "\tloaded = np.dstack(loaded)\r\n",
        "\treturn loaded\r\n",
        " \r\n",
        "# load a dataset group, such as train or test\r\n",
        "def load_dataset_group(group, path):\r\n",
        "\t# load all 3 files as a single array\r\n",
        "\tfilenames = ['acc_x_' + group + '.joblib', 'acc_y_' + group + '.joblib', \r\n",
        "              'acc_z_' + group + '.joblib']\r\n",
        "\t# load input data\r\n",
        "\tX = load_group(filenames, path)\r\n",
        "\t# load class output\r\n",
        "\ty = load_file(path + 'label_' + group + '.joblib')\r\n",
        "\treturn X, y\r\n",
        " \r\n",
        "# load the dataset, returns train and test X and y elements\r\n",
        "def load_dataset(path):\r\n",
        "  # load all train\r\n",
        "  trainX, trainy = load_dataset_group('train', path)\r\n",
        "  print('trainX shape: ', trainX.shape, '   |   trainy shape: ', trainy.shape)\r\n",
        "  # load all test\r\n",
        "  testX, testy = load_dataset_group('test', path)\r\n",
        "  print('testX shape: ', testX.shape, '   |   testy shape: ', testy.shape)\r\n",
        "  # zero-offset class values\r\n",
        "  trainy = trainy - 1\r\n",
        "  testy = testy - 1\r\n",
        "  # one hot encode y\r\n",
        "  trainy = to_categorical(trainy)\r\n",
        "  testy = to_categorical(testy)\r\n",
        "  print('Final Dataset shape: \\n\\nTrain Set: ', end='')\r\n",
        "  print(trainX.shape, '<----->', trainy.shape, '\\nTest Set: ', testX.shape, '<----->', testy.shape)\r\n",
        "  return trainX, trainy, testX, testy"
      ],
      "execution_count": 5,
      "outputs": []
    },
    {
      "cell_type": "code",
      "metadata": {
        "colab": {
          "base_uri": "https://localhost:8080/"
        },
        "id": "f-ASwCghRSJd",
        "outputId": "078d8ce0-ef8f-4125-d7db-ee81c5a8f574"
      },
      "source": [
        "# load data\r\n",
        "dataset_path = '/content/drive/MyDrive/NCC Train Test Set (Resampled 20Hz)/Split 80 20/Windowed/'\r\n",
        "trainX, trainy, testX, testy = load_dataset(dataset_path)"
      ],
      "execution_count": 6,
      "outputs": [
        {
          "output_type": "stream",
          "text": [
            "trainX shape:  (193846, 50, 3)    |   trainy shape:  (193846,)\n",
            "testX shape:  (48209, 50, 3)    |   testy shape:  (48209,)\n",
            "Final Dataset shape: \n",
            "\n",
            "Train Set: (193846, 50, 3) <-----> (193846, 12) \n",
            "Test Set:  (48209, 50, 3) <-----> (48209, 12)\n"
          ],
          "name": "stdout"
        }
      ]
    },
    {
      "cell_type": "markdown",
      "metadata": {
        "id": "9Osl1Rt2VlOt"
      },
      "source": [
        "# CNN Model"
      ]
    },
    {
      "cell_type": "code",
      "metadata": {
        "id": "3OVlA6CDRLWE"
      },
      "source": [
        "from keras import backend as K\r\n",
        "\r\n",
        "def recall_m(y_true, y_pred):\r\n",
        "  true_positives = K.sum(K.round(K.clip(y_true * y_pred, 0, 1)))\r\n",
        "  possible_positives = K.sum(K.round(K.clip(y_true, 0, 1)))\r\n",
        "  recall = true_positives / (possible_positives + K.epsilon())\r\n",
        "  return recall\r\n",
        "\r\n",
        "def precision_m(y_true, y_pred):\r\n",
        "  true_positives = K.sum(K.round(K.clip(y_true * y_pred, 0, 1)))\r\n",
        "  predicted_positives = K.sum(K.round(K.clip(y_pred, 0, 1)))\r\n",
        "  precision = true_positives / (predicted_positives + K.epsilon())\r\n",
        "  return precision\r\n",
        "\r\n",
        "def f1_m(y_true, y_pred):\r\n",
        "  precision = precision_m(y_true, y_pred)\r\n",
        "  recall = recall_m(y_true, y_pred)\r\n",
        "  return 2*((precision*recall)/(precision+recall+K.epsilon()))\r\n",
        "\r\n",
        "# fit and evaluate a model\r\n",
        "def evaluate_model(trainX, trainy, testX, testy, verbose, epochs, batch_size):\r\n",
        "  n_timesteps, n_features, n_outputs = trainX.shape[1], trainX.shape[2], trainy.shape[1]\r\n",
        "  model = Sequential()\r\n",
        "  model.add(Conv1D(filters=64, kernel_size=3, activation='relu', input_shape=(n_timesteps,n_features)))\r\n",
        "  model.add(Conv1D(filters=64, kernel_size=3, activation='relu'))\r\n",
        "  model.add(Dropout(0.5))\r\n",
        "  model.add(MaxPooling1D(pool_size=2))\r\n",
        "  model.add(Flatten())\r\n",
        "  model.add(Dense(100, activation='relu'))\r\n",
        "  model.add(Dense(n_outputs, activation='softmax'))\r\n",
        "  model.compile(loss='categorical_crossentropy', optimizer='adam', \r\n",
        "                metrics=['categorical_accuracy', f1_m, precision_m, recall_m])\r\n",
        "  # fit network\r\n",
        "  # model.fit(trainX, trainy, epochs=epochs, batch_size=batch_size, verbose=verbose)\r\n",
        "  # # evaluate model\r\n",
        "  # _, accuracy = model.evaluate(testX, testy, batch_size=batch_size, verbose=0)\r\n",
        "  import time\r\n",
        "  t_start = time.clock()\r\n",
        "  history = model.fit(trainX, trainy, epochs=epochs, batch_size=batch_size, verbose=verbose)\r\n",
        "\r\n",
        "  t_end = time.clock()\r\n",
        "\r\n",
        "  print('\\n-------------------\\n')\r\n",
        "\r\n",
        "  #_, accuracy_train = model.evaluate(X_train, y_train)\r\n",
        "  loss_train, accuracy_train, f1_score_train, precision_train, recall_train = model.evaluate(trainX, trainy, verbose=1)\r\n",
        "  print('Train Accuracy: %.2f' % (accuracy_train*100))\r\n",
        "  print('Train F1 Score: %.2f' % (f1_score_train*100))\r\n",
        "  print('Train Time: ', t_end - t_start)\r\n",
        "\r\n",
        "  t_start = time.clock()\r\n",
        "  #_, accuracy_test = model.evaluate(X_test, y_test)\r\n",
        "  loss_test, accuracy_test, f1_score_test, precision_test, recall_test = model.evaluate(testX, testy, verbose=1)\r\n",
        "  print('Test Accuracy: %.2f' % (accuracy_test*100))\r\n",
        "  print('Test F1 Score: %.2f' % (f1_score_test*100))\r\n",
        "  t_end = time.clock()\r\n",
        "  print('Test Time: ', t_end - t_start)\r\n",
        "\r\n",
        "  return f1_score_test, history\r\n",
        " \r\n",
        "# summarize scores\r\n",
        "def summarize_results(scores):\r\n",
        "\tprint(scores)\r\n",
        "\tm, s = np.mean(scores), np.std(scores)\r\n",
        "\tprint('Accuracy: %.3f%% (+/-%.3f)' % (m, s))\r\n",
        " \r\n",
        "# run an experiment\r\n",
        "def run_experiment(repeats=10, verbose=False, epochs=10, batch_size=32):\r\n",
        "  # repeat experiment\r\n",
        "  scores = list()\r\n",
        "  for r in tqdm(range(repeats)):\r\n",
        "    score, history = evaluate_model(trainX, trainy, testX, testy, verbose, epochs, batch_size)\r\n",
        "    score = score * 100.0\r\n",
        "    print('Score:', '%.3f' % (score * 100.0))\r\n",
        "    scores.append(score)\r\n",
        "  # summarize results\r\n",
        "  summarize_results(scores)"
      ],
      "execution_count": 7,
      "outputs": []
    },
    {
      "cell_type": "markdown",
      "metadata": {
        "id": "bI39XiUQXvqc"
      },
      "source": [
        "## Train"
      ]
    },
    {
      "cell_type": "code",
      "metadata": {
        "id": "q1ghlsSpVu9S"
      },
      "source": [
        "# for single iteration\r\n",
        "score, history = evaluate_model(trainX, trainy, testX, testy, verbose=True, epochs=100, batch_size=16)\r\n",
        "print('Score:', '%.3f' % (score * 100.0))"
      ],
      "execution_count": null,
      "outputs": []
    },
    {
      "cell_type": "markdown",
      "metadata": {
        "id": "DM0bejafiVXK"
      },
      "source": [
        "\r\n",
        "\r\n",
        "\r\n",
        "##### Epoch = 100, Batch Size = 32\r\n",
        "```\r\n",
        "6058/6058 [==============================] - 17s 3ms/step - loss: 0.6758 - categorical_accuracy: 0.7407 - f1_m: 0.6330 - precision_m: 0.6960 - recall_m: 0.6139\r\n",
        "Train Accuracy: 74.07\r\n",
        "Train F1 Score: 63.30\r\n",
        "Train Time:  2592.538336\r\n",
        "1507/1507 [==============================] - 4s 3ms/step - loss: 1.7214 - categorical_accuracy: 0.6988 - f1_m: 0.6712 - precision_m: 0.7069 - recall_m: 0.6567\r\n",
        "Test Accuracy: 69.88\r\n",
        "Test F1 Score: 67.12\r\n",
        "Test Time:  5.332593999999972\r\n",
        "```\r\n",
        "##### Epoch = 100, Batch Size = 16\r\n",
        "```\r\n",
        "6058/6058 [==============================] - 16s 3ms/step - loss: 0.8060 - categorical_accuracy: 0.7124 - f1_m: 0.6629 - precision_m: 0.7169 - recall_m: 0.6431\r\n",
        "Train Accuracy: 71.24\r\n",
        "Train F1 Score: 66.29\r\n",
        "Train Time:  5139.016927000001\r\n",
        "1507/1507 [==============================] - 4s 3ms/step - loss: 1.3907 - categorical_accuracy: 0.6718 - f1_m: 0.6433 - precision_m: 0.6773 - recall_m: 0.6312\r\n",
        "Test Accuracy: 67.18\r\n",
        "Test F1 Score: 64.33\r\n",
        "Test Time:  5.47839599999952\r\n",
        "Score: 64.328\r\n",
        "```\r\n"
      ]
    },
    {
      "cell_type": "code",
      "metadata": {
        "colab": {
          "base_uri": "https://localhost:8080/",
          "height": 295
        },
        "id": "DZwbf5Zq3kAT",
        "outputId": "aac4b197-a713-47ef-fde9-5a44e1bb04d3"
      },
      "source": [
        "import matplotlib.pyplot as plt\r\n",
        "plt.plot(history.history['categorical_accuracy'])\r\n",
        "#plt.plot(history.history['val_categorical_accuracy'])\r\n",
        "plt.title('Model Accuracy')\r\n",
        "plt.ylabel('accuracy')\r\n",
        "plt.xlabel('epoch')\r\n",
        "plt.legend(['train', 'test'], loc='upper left')\r\n",
        "plt.show()"
      ],
      "execution_count": 16,
      "outputs": [
        {
          "output_type": "display_data",
          "data": {
            "image/png": "[encoded data removed]",
            "text/plain": [
              "<Figure size 432x288 with 1 Axes>"
            ]
          },
          "metadata": {
            "tags": [],
            "needs_background": "light"
          }
        }
      ]
    },
    {
      "cell_type": "code",
      "metadata": {
        "id": "lVm4ma-dy3ie",
        "colab": {
          "base_uri": "https://localhost:8080/",
          "height": 457,
          "referenced_widgets": [
            "1c80400a678a4c8aafc7c1d4b8a5bbfd",
            "eeb6b76a36fc4b78a7506ab23dec7b6b",
            "4e16c2e4679748a9be54ecdb794b62ad",
            "7be9b28703634faebcab0e0b7f1813d6",
            "8886ff6707b74c1fb4853083e6a8ade8",
            "d4aa373ba1064882b10e80cd0551d0dd",
            "65af1f00edb14ed182567f899b7b0e97",
            "3c47b13355f5415db34afab34f8bade6"
          ]
        },
        "outputId": "cad7268a-a393-48f6-dec9-632bf12fd43a"
      },
      "source": [
        "# run the experiment for interations\n",
        "run_experiment(10, verbose=False, epochs=40, batch_size=32)"
      ],
      "execution_count": null,
      "outputs": [
        {
          "output_type": "display_data",
          "data": {
            "application/vnd.jupyter.widget-view+json": {
              "model_id": "1c80400a678a4c8aafc7c1d4b8a5bbfd",
              "version_minor": 0,
              "version_major": 2
            },
            "text/plain": [
              "HBox(children=(FloatProgress(value=0.0, max=10.0), HTML(value='')))"
            ]
          },
          "metadata": {
            "tags": []
          }
        },
        {
          "output_type": "stream",
          "text": [
            "\n",
            "-------------------\n",
            "\n",
            "6058/6058 [==============================] - 15s 2ms/step - loss: 0.6889 - categorical_accuracy: 0.7361 - f1_m: 0.6779 - precision_m: 0.7449 - recall_m: 0.6560\n",
            "Train Accuracy: 73.61\n",
            "Train F1 Score: 67.79\n",
            "Train Time:  748.2750169999999\n",
            "1507/1507 [==============================] - 4s 2ms/step - loss: 1.2579 - categorical_accuracy: 0.6757 - f1_m: 0.6431 - precision_m: 0.6928 - recall_m: 0.6246\n",
            "Test Accuracy: 67.57\n",
            "Test F1 Score: 64.31\n",
            "Test Time:  4.866907999999967\n",
            "Score: 6430.920\n",
            "\n",
            "-------------------\n",
            "\n",
            "6058/6058 [==============================] - 15s 2ms/step - loss: 0.6836 - categorical_accuracy: 0.7371 - f1_m: 0.6850 - precision_m: 0.7489 - recall_m: 0.6637\n",
            "Train Accuracy: 73.71\n",
            "Train F1 Score: 68.50\n",
            "Train Time:  745.265728\n",
            "1507/1507 [==============================] - 4s 2ms/step - loss: 1.2347 - categorical_accuracy: 0.6818 - f1_m: 0.6520 - precision_m: 0.6941 - recall_m: 0.6330\n",
            "Test Accuracy: 68.18\n",
            "Test F1 Score: 65.20\n",
            "Test Time:  4.843038999999862\n",
            "Score: 6519.679\n"
          ],
          "name": "stdout"
        }
      ]
    },
    {
      "cell_type": "markdown",
      "metadata": {
        "id": "R3yrtIFOYyMM"
      },
      "source": [
        "# Random Forest Model"
      ]
    },
    {
      "cell_type": "code",
      "metadata": {
        "id": "Q_siG1bHY11-"
      },
      "source": [
        "from sklearn.model_selection import train_test_split, cross_val_score\r\n",
        "from sklearn.metrics import classification_report, confusion_matrix, accuracy_score\r\n",
        "from sklearn.ensemble import RandomForestClassifier\r\n",
        "\r\n",
        "# load label set again\r\n",
        "trainy_2 = load_file(dataset_path + 'label_train.joblib')\r\n",
        "testy_2 = load_file(dataset_path + 'label_test.joblib')\r\n",
        "\r\n",
        "clf = RandomForestClassifier(verbose=True,n_jobs=-1)\r\n",
        "\r\n",
        "clf.fit(trainX, trainy_2)\r\n",
        "y_pred = clf.predict(testX)\r\n",
        "\r\n",
        "# Evaluate Algorithm\r\n",
        "print(\"\\n\\nConfusion Matrix: \\n\\n\",confusion_matrix(testy_2,y_pred))\r\n",
        "print(\"\\n\\nReport: \\n\\n\",classification_report(testy_2,y_pred))\r\n",
        "print(\"Accuracy: \",accuracy_score(testy_2,y_pred))"
      ],
      "execution_count": null,
      "outputs": []
    }
  ]
}