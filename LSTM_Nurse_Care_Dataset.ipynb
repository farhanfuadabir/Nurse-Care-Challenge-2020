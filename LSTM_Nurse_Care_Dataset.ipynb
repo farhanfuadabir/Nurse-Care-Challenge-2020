{
  "nbformat": 4,
  "nbformat_minor": 0,
  "metadata": {
    "colab": {
      "name": "LSTM_Nurse_Care_Dataset.ipynb",
      "provenance": [],
      "collapsed_sections": [],
      "authorship_tag": "ABX9TyNv/59/D91QfQRZrZA07oPF",
      "include_colab_link": true
    },
    "kernelspec": {
      "name": "python3",
      "display_name": "Python 3"
    },
    "accelerator": "GPU",
    "widgets": {
      "application/vnd.jupyter.widget-state+json": {
        "81fa1cbdeef445fea1a1947219e6236d": {
          "model_module": "@jupyter-widgets/controls",
          "model_name": "HBoxModel",
          "state": {
            "_view_name": "HBoxView",
            "_dom_classes": [],
            "_model_name": "HBoxModel",
            "_view_module": "@jupyter-widgets/controls",
            "_model_module_version": "1.5.0",
            "_view_count": null,
            "_view_module_version": "1.5.0",
            "box_style": "",
            "layout": "IPY_MODEL_eecaa5eaf49d443ebaf98e5db123deed",
            "_model_module": "@jupyter-widgets/controls",
            "children": [
              "IPY_MODEL_fbdf53b379344b1195c637e45e7f3ac6",
              "IPY_MODEL_10c33d85994646468770c9c31e2a52ae"
            ]
          }
        },
        "eecaa5eaf49d443ebaf98e5db123deed": {
          "model_module": "@jupyter-widgets/base",
          "model_name": "LayoutModel",
          "state": {
            "_view_name": "LayoutView",
            "grid_template_rows": null,
            "right": null,
            "justify_content": null,
            "_view_module": "@jupyter-widgets/base",
            "overflow": null,
            "_model_module_version": "1.2.0",
            "_view_count": null,
            "flex_flow": null,
            "width": null,
            "min_width": null,
            "border": null,
            "align_items": null,
            "bottom": null,
            "_model_module": "@jupyter-widgets/base",
            "top": null,
            "grid_column": null,
            "overflow_y": null,
            "overflow_x": null,
            "grid_auto_flow": null,
            "grid_area": null,
            "grid_template_columns": null,
            "flex": null,
            "_model_name": "LayoutModel",
            "justify_items": null,
            "grid_row": null,
            "max_height": null,
            "align_content": null,
            "visibility": null,
            "align_self": null,
            "height": null,
            "min_height": null,
            "padding": null,
            "grid_auto_rows": null,
            "grid_gap": null,
            "max_width": null,
            "order": null,
            "_view_module_version": "1.2.0",
            "grid_template_areas": null,
            "object_position": null,
            "object_fit": null,
            "grid_auto_columns": null,
            "margin": null,
            "display": null,
            "left": null
          }
        },
        "fbdf53b379344b1195c637e45e7f3ac6": {
          "model_module": "@jupyter-widgets/controls",
          "model_name": "FloatProgressModel",
          "state": {
            "_view_name": "ProgressView",
            "style": "IPY_MODEL_7336cd5f710845779697d62f5b7ee87e",
            "_dom_classes": [],
            "description": " 10%",
            "_model_name": "FloatProgressModel",
            "bar_style": "",
            "max": 10,
            "_view_module": "@jupyter-widgets/controls",
            "_model_module_version": "1.5.0",
            "value": 1,
            "_view_count": null,
            "_view_module_version": "1.5.0",
            "orientation": "horizontal",
            "min": 0,
            "description_tooltip": null,
            "_model_module": "@jupyter-widgets/controls",
            "layout": "IPY_MODEL_0ecd17a6a40240e0a76b9cc2cfd45026"
          }
        },
        "10c33d85994646468770c9c31e2a52ae": {
          "model_module": "@jupyter-widgets/controls",
          "model_name": "HTMLModel",
          "state": {
            "_view_name": "HTMLView",
            "style": "IPY_MODEL_ebd784007ed94138a3a3a5face3d9e7d",
            "_dom_classes": [],
            "description": "",
            "_model_name": "HTMLModel",
            "placeholder": "​",
            "_view_module": "@jupyter-widgets/controls",
            "_model_module_version": "1.5.0",
            "value": " 1/10 [2:00:28&lt;18:04:19, 7228.85s/it]",
            "_view_count": null,
            "_view_module_version": "1.5.0",
            "description_tooltip": null,
            "_model_module": "@jupyter-widgets/controls",
            "layout": "IPY_MODEL_29df74b78c464eb9a439f85e45704304"
          }
        },
        "7336cd5f710845779697d62f5b7ee87e": {
          "model_module": "@jupyter-widgets/controls",
          "model_name": "ProgressStyleModel",
          "state": {
            "_view_name": "StyleView",
            "_model_name": "ProgressStyleModel",
            "description_width": "initial",
            "_view_module": "@jupyter-widgets/base",
            "_model_module_version": "1.5.0",
            "_view_count": null,
            "_view_module_version": "1.2.0",
            "bar_color": null,
            "_model_module": "@jupyter-widgets/controls"
          }
        },
        "0ecd17a6a40240e0a76b9cc2cfd45026": {
          "model_module": "@jupyter-widgets/base",
          "model_name": "LayoutModel",
          "state": {
            "_view_name": "LayoutView",
            "grid_template_rows": null,
            "right": null,
            "justify_content": null,
            "_view_module": "@jupyter-widgets/base",
            "overflow": null,
            "_model_module_version": "1.2.0",
            "_view_count": null,
            "flex_flow": null,
            "width": null,
            "min_width": null,
            "border": null,
            "align_items": null,
            "bottom": null,
            "_model_module": "@jupyter-widgets/base",
            "top": null,
            "grid_column": null,
            "overflow_y": null,
            "overflow_x": null,
            "grid_auto_flow": null,
            "grid_area": null,
            "grid_template_columns": null,
            "flex": null,
            "_model_name": "LayoutModel",
            "justify_items": null,
            "grid_row": null,
            "max_height": null,
            "align_content": null,
            "visibility": null,
            "align_self": null,
            "height": null,
            "min_height": null,
            "padding": null,
            "grid_auto_rows": null,
            "grid_gap": null,
            "max_width": null,
            "order": null,
            "_view_module_version": "1.2.0",
            "grid_template_areas": null,
            "object_position": null,
            "object_fit": null,
            "grid_auto_columns": null,
            "margin": null,
            "display": null,
            "left": null
          }
        },
        "ebd784007ed94138a3a3a5face3d9e7d": {
          "model_module": "@jupyter-widgets/controls",
          "model_name": "DescriptionStyleModel",
          "state": {
            "_view_name": "StyleView",
            "_model_name": "DescriptionStyleModel",
            "description_width": "",
            "_view_module": "@jupyter-widgets/base",
            "_model_module_version": "1.5.0",
            "_view_count": null,
            "_view_module_version": "1.2.0",
            "_model_module": "@jupyter-widgets/controls"
          }
        },
        "29df74b78c464eb9a439f85e45704304": {
          "model_module": "@jupyter-widgets/base",
          "model_name": "LayoutModel",
          "state": {
            "_view_name": "LayoutView",
            "grid_template_rows": null,
            "right": null,
            "justify_content": null,
            "_view_module": "@jupyter-widgets/base",
            "overflow": null,
            "_model_module_version": "1.2.0",
            "_view_count": null,
            "flex_flow": null,
            "width": null,
            "min_width": null,
            "border": null,
            "align_items": null,
            "bottom": null,
            "_model_module": "@jupyter-widgets/base",
            "top": null,
            "grid_column": null,
            "overflow_y": null,
            "overflow_x": null,
            "grid_auto_flow": null,
            "grid_area": null,
            "grid_template_columns": null,
            "flex": null,
            "_model_name": "LayoutModel",
            "justify_items": null,
            "grid_row": null,
            "max_height": null,
            "align_content": null,
            "visibility": null,
            "align_self": null,
            "height": null,
            "min_height": null,
            "padding": null,
            "grid_auto_rows": null,
            "grid_gap": null,
            "max_width": null,
            "order": null,
            "_view_module_version": "1.2.0",
            "grid_template_areas": null,
            "object_position": null,
            "object_fit": null,
            "grid_auto_columns": null,
            "margin": null,
            "display": null,
            "left": null
          }
        }
      }
    }
  },
  "cells": [
    {
      "cell_type": "markdown",
      "metadata": {
        "id": "view-in-github",
        "colab_type": "text"
      },
      "source": [
        "<a href=\"https://colab.research.google.com/github/farhanfuadabir/Nurse-Care-Challenge-2020/blob/main/LSTM_Nurse_Care_Dataset.ipynb\" target=\"_parent\"><img src=\"https://colab.research.google.com/assets/colab-badge.svg\" alt=\"Open In Colab\"/></a>"
      ]
    },
    {
      "cell_type": "code",
      "metadata": {
        "colab": {
          "base_uri": "https://localhost:8080/"
        },
        "id": "HGE-kKDZ3Sla",
        "outputId": "f70a2850-3b23-42b9-ee9e-bc0829239608"
      },
      "source": [
        "from google.colab import drive\n",
        "drive.mount('/content/drive')"
      ],
      "execution_count": 1,
      "outputs": [
        {
          "output_type": "stream",
          "text": [
            "Mounted at /content/drive\n"
          ],
          "name": "stdout"
        }
      ]
    },
    {
      "cell_type": "markdown",
      "metadata": {
        "id": "wdExAX7D2vtO"
      },
      "source": [
        "# Dependencies"
      ]
    },
    {
      "cell_type": "code",
      "metadata": {
        "id": "Z0Lzri_qzyT0"
      },
      "source": [
        "# cnn model\n",
        "import numpy as np\n",
        "import pandas as pd\n",
        "from matplotlib import pyplot\n",
        "from joblib import load, dump\n",
        "from tqdm.notebook import tqdm\n",
        "from keras.models import Sequential\n",
        "from keras.layers import Dense\n",
        "from keras.layers import Flatten\n",
        "from keras.layers import Dropout\n",
        "from keras.layers import LSTM\n",
        "from keras.utils import to_categorical"
      ],
      "execution_count": 2,
      "outputs": []
    },
    {
      "cell_type": "markdown",
      "metadata": {
        "id": "CI3_XJduyfUJ"
      },
      "source": [
        "# Process Windowed Dataset for LSTM"
      ]
    },
    {
      "cell_type": "code",
      "metadata": {
        "id": "N14xoSGVU0ga"
      },
      "source": [
        "# load a single file as a numpy array\r\n",
        "def load_file(filepath):\r\n",
        "  dataframe = load(filepath)\r\n",
        "  return dataframe.values\r\n",
        " \r\n",
        "# load a list of files and return as a 3d numpy array\r\n",
        "def load_group(filenames, path):\r\n",
        "\tloaded = list()\r\n",
        "\tfor name in filenames:\r\n",
        "\t\tdata = load_file(path + name)\r\n",
        "\t\tloaded.append(data)\r\n",
        "\t# stack group so that features are the 3rd dimension\r\n",
        "\tloaded = np.dstack(loaded)\r\n",
        "\treturn loaded\r\n",
        " \r\n",
        "# load a dataset group, such as train or test\r\n",
        "def load_dataset_group(group, path):\r\n",
        "\t# load all 3 files as a single array\r\n",
        "\tfilenames = ['acc_x_' + group + '.joblib', 'acc_y_' + group + '.joblib', \r\n",
        "              'acc_z_' + group + '.joblib']\r\n",
        "\t# load input data\r\n",
        "\tX = load_group(filenames, path)\r\n",
        "\t# load class output\r\n",
        "\ty = load_file(path + 'label_' + group + '.joblib')\r\n",
        "\treturn X, y\r\n",
        " \r\n",
        "# load the dataset, returns train and test X and y elements\r\n",
        "def load_dataset(path):\r\n",
        "  # load all train\r\n",
        "  trainX, trainy = load_dataset_group('train', path)\r\n",
        "  print('trainX shape: ', trainX.shape, '   |   trainy shape: ', trainy.shape)\r\n",
        "  # load all test\r\n",
        "  testX, testy = load_dataset_group('test', path)\r\n",
        "  print('testX shape: ', testX.shape, '   |   testy shape: ', testy.shape)\r\n",
        "  # zero-offset class values\r\n",
        "  trainy = trainy - 1\r\n",
        "  testy = testy - 1\r\n",
        "  # one hot encode y\r\n",
        "  trainy = to_categorical(trainy)\r\n",
        "  testy = to_categorical(testy)\r\n",
        "  print('Final Dataset shape: \\n\\nTrain Set: ', end='')\r\n",
        "  print(trainX.shape, '<----->', trainy.shape, '\\nTest Set: ', testX.shape, '<----->', testy.shape)\r\n",
        "  return trainX, trainy, testX, testy"
      ],
      "execution_count": 3,
      "outputs": []
    },
    {
      "cell_type": "code",
      "metadata": {
        "colab": {
          "base_uri": "https://localhost:8080/"
        },
        "id": "f-ASwCghRSJd",
        "outputId": "bacfde72-3685-49a1-84a3-21bf02470e8f"
      },
      "source": [
        "# load data\r\n",
        "dataset_path = '/content/drive/MyDrive/Research/NCC Train Test Set (Resampled 20Hz)/Split 80 20/Windowed 1000/'\r\n",
        "trainX, trainy, testX, testy = load_dataset(dataset_path)"
      ],
      "execution_count": 4,
      "outputs": [
        {
          "output_type": "stream",
          "text": [
            "trainX shape:  (85612, 1000, 3)    |   trainy shape:  (85612,)\n",
            "testX shape:  (20485, 1000, 3)    |   testy shape:  (20485,)\n",
            "Final Dataset shape: \n",
            "\n",
            "Train Set: (85612, 1000, 3) <-----> (85612, 12) \n",
            "Test Set:  (20485, 1000, 3) <-----> (20485, 12)\n"
          ],
          "name": "stdout"
        }
      ]
    },
    {
      "cell_type": "markdown",
      "metadata": {
        "id": "9Osl1Rt2VlOt"
      },
      "source": [
        "# LSTM Model"
      ]
    },
    {
      "cell_type": "code",
      "metadata": {
        "id": "3OVlA6CDRLWE"
      },
      "source": [
        "from keras import backend as K\r\n",
        "\r\n",
        "def recall_m(y_true, y_pred):\r\n",
        "  true_positives = K.sum(K.round(K.clip(y_true * y_pred, 0, 1)))\r\n",
        "  possible_positives = K.sum(K.round(K.clip(y_true, 0, 1)))\r\n",
        "  recall = true_positives / (possible_positives + K.epsilon())\r\n",
        "  return recall\r\n",
        "\r\n",
        "def precision_m(y_true, y_pred):\r\n",
        "  true_positives = K.sum(K.round(K.clip(y_true * y_pred, 0, 1)))\r\n",
        "  predicted_positives = K.sum(K.round(K.clip(y_pred, 0, 1)))\r\n",
        "  precision = true_positives / (predicted_positives + K.epsilon())\r\n",
        "  return precision\r\n",
        "\r\n",
        "def f1_m(y_true, y_pred):\r\n",
        "  precision = precision_m(y_true, y_pred)\r\n",
        "  recall = recall_m(y_true, y_pred)\r\n",
        "  return 2*((precision*recall)/(precision+recall+K.epsilon()))\r\n",
        "\r\n",
        "# fit and evaluate a model\r\n",
        "def evaluate_model(trainX, trainy, testX, testy, verbose, epochs, batch_size):\r\n",
        "  n_timesteps, n_features, n_outputs = trainX.shape[1], trainX.shape[2], trainy.shape[1]\r\n",
        "  model = Sequential()\r\n",
        "  model.add(LSTM(100, input_shape=(n_timesteps,n_features)))\r\n",
        "  model.add(Dropout(0.5))\r\n",
        "  model.add(Dense(100, activation='relu'))\r\n",
        "  model.add(Dense(n_outputs, activation='softmax'))\r\n",
        "  model.compile(loss='categorical_crossentropy', optimizer='adam', \r\n",
        "                metrics=['accuracy', f1_m, precision_m, recall_m])\r\n",
        "  # fit network\r\n",
        "  # model.fit(trainX, trainy, epochs=epochs, batch_size=batch_size, verbose=verbose)\r\n",
        "  # # evaluate model\r\n",
        "  # _, accuracy = model.evaluate(testX, testy, batch_size=batch_size, verbose=0)\r\n",
        "  import time\r\n",
        "  t_start = time.clock()\r\n",
        "  from keras import callbacks \r\n",
        "  earlystopping = callbacks.EarlyStopping(monitor =\"val_loss\", mode =\"min\", \r\n",
        "                                          patience = 20, verbose = 1, \r\n",
        "                                          restore_best_weights = True) \r\n",
        "\r\n",
        "  history = model.fit(trainX, trainy, batch_size = batch_size,  \r\n",
        "                      epochs = epochs, validation_data =(testX, testy),  \r\n",
        "                      callbacks =[earlystopping])\r\n",
        "  #history = model.fit(trainX, trainy, epochs=epochs, batch_size=batch_size, verbose=verbose)\r\n",
        "\r\n",
        "  t_end = time.clock()\r\n",
        "\r\n",
        "  print('\\n\\n\\n')\r\n",
        "\r\n",
        "  #_, accuracy_train = model.evaluate(X_train, y_train)\r\n",
        "  loss_train, accuracy_train, f1_score_train, precision_train, recall_train = model.evaluate(trainX, trainy, verbose=1)\r\n",
        "  print('Train Accuracy: %.2f' % (accuracy_train*100))\r\n",
        "  print('Train F1 Score: %.2f' % (f1_score_train*100))\r\n",
        "  print('Train Time: ', t_end - t_start)\r\n",
        "\r\n",
        "  t_start = time.clock()\r\n",
        "  #_, accuracy_test = model.evaluate(X_test, y_test)\r\n",
        "  loss_test, accuracy_test, f1_score_test, precision_test, recall_test = model.evaluate(testX, testy, verbose=1)\r\n",
        "  print('Test Accuracy: %.2f' % (accuracy_test*100))\r\n",
        "  print('Test F1 Score: %.2f' % (f1_score_test*100))\r\n",
        "  t_end = time.clock()\r\n",
        "  print('Test Time: ', t_end - t_start)\r\n",
        "\r\n",
        "  return f1_score_test, history\r\n",
        " \r\n",
        "# summarize scores\r\n",
        "def summarize_results(scores):\r\n",
        "\tprint(scores)\r\n",
        "\tm, s = np.mean(scores), np.std(scores)\r\n",
        "\tprint('Accuracy: %.3f%% (+/-%.3f)' % (m, s))\r\n",
        " \r\n",
        "# run an experiment\r\n",
        "def run_experiment(repeats=10, verbose=True, epochs=10, batch_size=32):\r\n",
        "  # repeat experiment\r\n",
        "  scores = list()\r\n",
        "  for r in tqdm(range(repeats)):\r\n",
        "    score, history = evaluate_model(trainX, trainy, testX, testy, verbose, epochs, batch_size)\r\n",
        "    print('%.3f' % (score * 100.0))\r\n",
        "    scores.append(score)\r\n",
        "  # summarize results\r\n",
        "  summarize_results(scores)"
      ],
      "execution_count": 7,
      "outputs": []
    },
    {
      "cell_type": "markdown",
      "metadata": {
        "id": "bI39XiUQXvqc"
      },
      "source": [
        "## Train"
      ]
    },
    {
      "cell_type": "code",
      "metadata": {
        "colab": {
          "base_uri": "https://localhost:8080/"
        },
        "id": "q1ghlsSpVu9S",
        "outputId": "34d3e796-7883-426d-ba6f-a6f5fa28c309"
      },
      "source": [
        "# for single iteration\r\n",
        "score, history = evaluate_model(trainX, trainy, testX, testy, verbose=2, epochs=100, batch_size=16)\r\n",
        "print('Score:', '%.3f' % (score * 100.0))"
      ],
      "execution_count": null,
      "outputs": [
        {
          "output_type": "stream",
          "text": [
            "Epoch 1/100\n",
            "1018/5351 [====>.........................] - ETA: 2:08 - loss: 1.0915 - accuracy: 0.5969 - f1_m: 0.5245 - precision_m: 0.7027 - recall_m: 0.4329"
          ],
          "name": "stdout"
        }
      ]
    },
    {
      "cell_type": "markdown",
      "metadata": {
        "id": "iw8FSF8UXxwp"
      },
      "source": [
        "## **LSTM Model Summary**\r\n",
        "\r\n",
        "| Window [Datapoints - Overlapping - Sampling] | Batch Size | Optimal Epoch | Train Accuracy | Train F1 | Train Time | Validation Accuracy | Validation F1 | Validation Time |\r\n",
        "| :---: | :----: | :---: | :---: | :----: | :---: | :---: | :---: | :---: |\r\n",
        "| 1000pt - 95% - 20Hz | 16 |  |  |  |  |  |  |  |\r\n",
        "| 1000pt - 95% - 20Hz | 25 |  |  |  |  |  |  |  |\r\n",
        "| 1000pt - 95% - 20Hz | 32 |  |  |  |  |  |  |  |\r\n",
        "| 250pt - 80% - 20Hz | 16 |   |  |  |  |  |  |  |\r\n",
        "| 250pt - 80% - 20Hz | 25 |   |  |  |  |  |  |  |\r\n",
        "| 250pt - 80% - 20Hz | 32 |   |  |  |  |  |  |  |"
      ]
    },
    {
      "cell_type": "markdown",
      "metadata": {
        "id": "DM0bejafiVXK"
      },
      "source": [
        "##### Epoch = 100, Batch Size = 32\r\n",
        "```\r\n",
        "\r\n",
        "2933/2933 [==============================] - 18s 6ms/step - loss: 0.5709 - categorical_accuracy: 0.7615 - f1_m: 0.7288 - precision_m: 0.7738 - recall_m: 0.7057\r\n",
        "Train Accuracy: 76.15\r\n",
        "Train F1 Score: 72.88\r\n",
        "Train Time:  3794.4624440000007\r\n",
        "712/712 [==============================] - 4s 6ms/step - loss: 1.3527 - categorical_accuracy: 0.6923 - f1_m: 0.6779 - precision_m: 0.6956 - recall_m: 0.6671\r\n",
        "Test Accuracy: 69.23\r\n",
        "Test F1 Score: 67.79\r\n",
        "Test Time:  5.017310999999609\r\n",
        "```"
      ]
    },
    {
      "cell_type": "code",
      "metadata": {
        "id": "yOzgB6yIlx_3",
        "colab": {
          "base_uri": "https://localhost:8080/"
        },
        "outputId": "f5b7c2db-f7b7-40bb-d872-e214fd611325"
      },
      "source": [
        "import matplotlib.pyplot as plt\r\n",
        "plt.plot(history.history['loss'])\r\n",
        "plt.plot(history.history['val_loss'])\r\n",
        "plt.title('Model Accuracy')\r\n",
        "plt.ylabel('accuracy')\r\n",
        "plt.xlabel('epoch')\r\n",
        "plt.legend(['train', 'test'], loc='upper left')\r\n",
        "plt.show()"
      ],
      "execution_count": null,
      "outputs": [
        {
          "output_type": "display_data",
          "data": {
            "image/png": "[encoded data removed]",
            "text/plain": [
              "<Figure size 432x288 with 1 Axes>"
            ]
          },
          "metadata": {
            "tags": [],
            "needs_background": "light"
          }
        }
      ]
    },
    {
      "cell_type": "code",
      "metadata": {
        "id": "lVm4ma-dy3ie",
        "colab": {
          "base_uri": "https://localhost:8080/",
          "height": 290,
          "referenced_widgets": [
            "81fa1cbdeef445fea1a1947219e6236d",
            "eecaa5eaf49d443ebaf98e5db123deed",
            "fbdf53b379344b1195c637e45e7f3ac6",
            "10c33d85994646468770c9c31e2a52ae",
            "7336cd5f710845779697d62f5b7ee87e",
            "0ecd17a6a40240e0a76b9cc2cfd45026",
            "ebd784007ed94138a3a3a5face3d9e7d",
            "29df74b78c464eb9a439f85e45704304"
          ]
        },
        "outputId": "4bd0edbf-7cea-493c-f8bb-62ff729dcea6"
      },
      "source": [
        "# run the experiment for interations\n",
        "run_experiment(10, verbose=False, epochs=80, batch_size=32)"
      ],
      "execution_count": null,
      "outputs": [
        {
          "output_type": "display_data",
          "data": {
            "application/vnd.jupyter.widget-view+json": {
              "model_id": "81fa1cbdeef445fea1a1947219e6236d",
              "version_minor": 0,
              "version_major": 2
            },
            "text/plain": [
              "HBox(children=(FloatProgress(value=0.0, max=10.0), HTML(value='')))"
            ]
          },
          "metadata": {
            "tags": []
          }
        },
        {
          "output_type": "stream",
          "text": [
            "\n",
            "\n",
            "\n",
            "\n",
            "2676/2676 [==============================] - 43s 16ms/step - loss: 0.4556 - categorical_accuracy: 0.7951 - f1_m: 0.7612 - precision_m: 0.8010 - recall_m: 0.7432\n",
            "Train Accuracy: 79.51\n",
            "Train F1 Score: 76.12\n",
            "Train Time:  6545.570133000001\n",
            "641/641 [==============================] - 10s 16ms/step - loss: 0.9231 - categorical_accuracy: 0.7458 - f1_m: 0.7267 - precision_m: 0.7505 - recall_m: 0.7163\n",
            "Test Accuracy: 74.58\n",
            "Test F1 Score: 72.67\n",
            "Test Time:  11.23248799999783\n",
            "72.666\n"
          ],
          "name": "stdout"
        }
      ]
    },
    {
      "cell_type": "markdown",
      "metadata": {
        "id": "R3yrtIFOYyMM"
      },
      "source": [
        "# Random Forest Model"
      ]
    },
    {
      "cell_type": "code",
      "metadata": {
        "id": "Q_siG1bHY11-"
      },
      "source": [
        "from sklearn.model_selection import train_test_split, cross_val_score\r\n",
        "from sklearn.metrics import classification_report, confusion_matrix, accuracy_score\r\n",
        "from sklearn.ensemble import RandomForestClassifier\r\n",
        "\r\n",
        "# load label set again\r\n",
        "trainy_2 = load_file(dataset_path + 'label_train.joblib')\r\n",
        "testy_2 = load_file(dataset_path + 'label_test.joblib')\r\n",
        "\r\n",
        "clf = RandomForestClassifier(verbose=True,n_jobs=-1)\r\n",
        "\r\n",
        "clf.fit(trainX, trainy_2)\r\n",
        "y_pred = clf.predict(testX)\r\n",
        "\r\n",
        "# Evaluate Algorithm\r\n",
        "print(\"\\n\\nConfusion Matrix: \\n\\n\",confusion_matrix(testy_2,y_pred))\r\n",
        "print(\"\\n\\nReport: \\n\\n\",classification_report(testy_2,y_pred))\r\n",
        "print(\"Accuracy: \",accuracy_score(testy_2,y_pred))"
      ],
      "execution_count": null,
      "outputs": []
    }
  ]
}