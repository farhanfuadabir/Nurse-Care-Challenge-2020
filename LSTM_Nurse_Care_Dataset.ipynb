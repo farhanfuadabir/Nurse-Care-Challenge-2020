{
  "nbformat": 4,
  "nbformat_minor": 0,
  "metadata": {
    "colab": {
      "name": "LSTM_Nurse_Care_Dataset.ipynb",
      "provenance": [],
      "collapsed_sections": [],
      "toc_visible": true,
      "authorship_tag": "ABX9TyPCdZPZKqbiAo81af0y9ggm",
      "include_colab_link": true
    },
    "kernelspec": {
      "name": "python3",
      "display_name": "Python 3"
    },
    "accelerator": "GPU",
    "widgets": {
      "application/vnd.jupyter.widget-state+json": {
        "f5fb00dcbed04eda90479cf88d95d9df": {
          "model_module": "@jupyter-widgets/controls",
          "model_name": "HBoxModel",
          "state": {
            "_view_name": "HBoxView",
            "_dom_classes": [],
            "_model_name": "HBoxModel",
            "_view_module": "@jupyter-widgets/controls",
            "_model_module_version": "1.5.0",
            "_view_count": null,
            "_view_module_version": "1.5.0",
            "box_style": "",
            "layout": "IPY_MODEL_fa5d064b03024750a0c60881f97d7733",
            "_model_module": "@jupyter-widgets/controls",
            "children": [
              "IPY_MODEL_3c3495b20f254d53baffd49dbd0590ce",
              "IPY_MODEL_fa6e418089c04d03932765090282e55d"
            ]
          }
        },
        "fa5d064b03024750a0c60881f97d7733": {
          "model_module": "@jupyter-widgets/base",
          "model_name": "LayoutModel",
          "state": {
            "_view_name": "LayoutView",
            "grid_template_rows": null,
            "right": null,
            "justify_content": null,
            "_view_module": "@jupyter-widgets/base",
            "overflow": null,
            "_model_module_version": "1.2.0",
            "_view_count": null,
            "flex_flow": null,
            "width": null,
            "min_width": null,
            "border": null,
            "align_items": null,
            "bottom": null,
            "_model_module": "@jupyter-widgets/base",
            "top": null,
            "grid_column": null,
            "overflow_y": null,
            "overflow_x": null,
            "grid_auto_flow": null,
            "grid_area": null,
            "grid_template_columns": null,
            "flex": null,
            "_model_name": "LayoutModel",
            "justify_items": null,
            "grid_row": null,
            "max_height": null,
            "align_content": null,
            "visibility": null,
            "align_self": null,
            "height": null,
            "min_height": null,
            "padding": null,
            "grid_auto_rows": null,
            "grid_gap": null,
            "max_width": null,
            "order": null,
            "_view_module_version": "1.2.0",
            "grid_template_areas": null,
            "object_position": null,
            "object_fit": null,
            "grid_auto_columns": null,
            "margin": null,
            "display": null,
            "left": null
          }
        },
        "3c3495b20f254d53baffd49dbd0590ce": {
          "model_module": "@jupyter-widgets/controls",
          "model_name": "FloatProgressModel",
          "state": {
            "_view_name": "ProgressView",
            "style": "IPY_MODEL_ae12c2b8b39c4dda884a9f8ddf0ec2aa",
            "_dom_classes": [],
            "description": " 70%",
            "_model_name": "FloatProgressModel",
            "bar_style": "",
            "max": 10,
            "_view_module": "@jupyter-widgets/controls",
            "_model_module_version": "1.5.0",
            "value": 7,
            "_view_count": null,
            "_view_module_version": "1.5.0",
            "orientation": "horizontal",
            "min": 0,
            "description_tooltip": null,
            "_model_module": "@jupyter-widgets/controls",
            "layout": "IPY_MODEL_cc772d7188754cd6ab2e31808514fc74"
          }
        },
        "fa6e418089c04d03932765090282e55d": {
          "model_module": "@jupyter-widgets/controls",
          "model_name": "HTMLModel",
          "state": {
            "_view_name": "HTMLView",
            "style": "IPY_MODEL_dea0a8c5c50440d5aca69341c2a61226",
            "_dom_classes": [],
            "description": "",
            "_model_name": "HTMLModel",
            "placeholder": "​",
            "_view_module": "@jupyter-widgets/controls",
            "_model_module_version": "1.5.0",
            "value": " 7/10 [4:39:01&lt;1:59:18, 2386.21s/it]",
            "_view_count": null,
            "_view_module_version": "1.5.0",
            "description_tooltip": null,
            "_model_module": "@jupyter-widgets/controls",
            "layout": "IPY_MODEL_e1ccdec4a2084e72a21fdbbeb5d03773"
          }
        },
        "ae12c2b8b39c4dda884a9f8ddf0ec2aa": {
          "model_module": "@jupyter-widgets/controls",
          "model_name": "ProgressStyleModel",
          "state": {
            "_view_name": "StyleView",
            "_model_name": "ProgressStyleModel",
            "description_width": "initial",
            "_view_module": "@jupyter-widgets/base",
            "_model_module_version": "1.5.0",
            "_view_count": null,
            "_view_module_version": "1.2.0",
            "bar_color": null,
            "_model_module": "@jupyter-widgets/controls"
          }
        },
        "cc772d7188754cd6ab2e31808514fc74": {
          "model_module": "@jupyter-widgets/base",
          "model_name": "LayoutModel",
          "state": {
            "_view_name": "LayoutView",
            "grid_template_rows": null,
            "right": null,
            "justify_content": null,
            "_view_module": "@jupyter-widgets/base",
            "overflow": null,
            "_model_module_version": "1.2.0",
            "_view_count": null,
            "flex_flow": null,
            "width": null,
            "min_width": null,
            "border": null,
            "align_items": null,
            "bottom": null,
            "_model_module": "@jupyter-widgets/base",
            "top": null,
            "grid_column": null,
            "overflow_y": null,
            "overflow_x": null,
            "grid_auto_flow": null,
            "grid_area": null,
            "grid_template_columns": null,
            "flex": null,
            "_model_name": "LayoutModel",
            "justify_items": null,
            "grid_row": null,
            "max_height": null,
            "align_content": null,
            "visibility": null,
            "align_self": null,
            "height": null,
            "min_height": null,
            "padding": null,
            "grid_auto_rows": null,
            "grid_gap": null,
            "max_width": null,
            "order": null,
            "_view_module_version": "1.2.0",
            "grid_template_areas": null,
            "object_position": null,
            "object_fit": null,
            "grid_auto_columns": null,
            "margin": null,
            "display": null,
            "left": null
          }
        },
        "dea0a8c5c50440d5aca69341c2a61226": {
          "model_module": "@jupyter-widgets/controls",
          "model_name": "DescriptionStyleModel",
          "state": {
            "_view_name": "StyleView",
            "_model_name": "DescriptionStyleModel",
            "description_width": "",
            "_view_module": "@jupyter-widgets/base",
            "_model_module_version": "1.5.0",
            "_view_count": null,
            "_view_module_version": "1.2.0",
            "_model_module": "@jupyter-widgets/controls"
          }
        },
        "e1ccdec4a2084e72a21fdbbeb5d03773": {
          "model_module": "@jupyter-widgets/base",
          "model_name": "LayoutModel",
          "state": {
            "_view_name": "LayoutView",
            "grid_template_rows": null,
            "right": null,
            "justify_content": null,
            "_view_module": "@jupyter-widgets/base",
            "overflow": null,
            "_model_module_version": "1.2.0",
            "_view_count": null,
            "flex_flow": null,
            "width": null,
            "min_width": null,
            "border": null,
            "align_items": null,
            "bottom": null,
            "_model_module": "@jupyter-widgets/base",
            "top": null,
            "grid_column": null,
            "overflow_y": null,
            "overflow_x": null,
            "grid_auto_flow": null,
            "grid_area": null,
            "grid_template_columns": null,
            "flex": null,
            "_model_name": "LayoutModel",
            "justify_items": null,
            "grid_row": null,
            "max_height": null,
            "align_content": null,
            "visibility": null,
            "align_self": null,
            "height": null,
            "min_height": null,
            "padding": null,
            "grid_auto_rows": null,
            "grid_gap": null,
            "max_width": null,
            "order": null,
            "_view_module_version": "1.2.0",
            "grid_template_areas": null,
            "object_position": null,
            "object_fit": null,
            "grid_auto_columns": null,
            "margin": null,
            "display": null,
            "left": null
          }
        }
      }
    }
  },
  "cells": [
    {
      "cell_type": "markdown",
      "metadata": {
        "id": "view-in-github",
        "colab_type": "text"
      },
      "source": [
        "<a href=\"https://colab.research.google.com/github/farhanfuadabir/Nurse-Care-Challenge-2020/blob/main/LSTM_Nurse_Care_Dataset.ipynb\" target=\"_parent\"><img src=\"https://colab.research.google.com/assets/colab-badge.svg\" alt=\"Open In Colab\"/></a>"
      ]
    },
    {
      "cell_type": "code",
      "metadata": {
        "colab": {
          "base_uri": "https://localhost:8080/"
        },
        "id": "HGE-kKDZ3Sla",
        "outputId": "c66f2eed-8233-4cad-a0a2-36354e923fe5"
      },
      "source": [
        "from google.colab import drive\n",
        "drive.mount('/content/drive')"
      ],
      "execution_count": null,
      "outputs": [
        {
          "output_type": "stream",
          "text": [
            "Mounted at /content/drive\n"
          ],
          "name": "stdout"
        }
      ]
    },
    {
      "cell_type": "markdown",
      "metadata": {
        "id": "wdExAX7D2vtO"
      },
      "source": [
        "# Dependencies"
      ]
    },
    {
      "cell_type": "code",
      "metadata": {
        "id": "Z0Lzri_qzyT0"
      },
      "source": [
        "# cnn model\n",
        "import numpy as np\n",
        "import pandas as pd\n",
        "from matplotlib import pyplot\n",
        "from joblib import load, dump\n",
        "from tqdm.notebook import tqdm\n",
        "from keras.models import Sequential\n",
        "from keras.layers import Dense\n",
        "from keras.layers import Flatten\n",
        "from keras.layers import Dropout\n",
        "from keras.layers import LSTM\n",
        "from keras.utils import to_categorical"
      ],
      "execution_count": null,
      "outputs": []
    },
    {
      "cell_type": "markdown",
      "metadata": {
        "id": "CI3_XJduyfUJ"
      },
      "source": [
        "# Process Windowed Dataset for LSTM"
      ]
    },
    {
      "cell_type": "code",
      "metadata": {
        "id": "N14xoSGVU0ga"
      },
      "source": [
        "# load a single file as a numpy array\r\n",
        "def load_file(filepath):\r\n",
        "  dataframe = load(filepath)\r\n",
        "  return dataframe.values\r\n",
        " \r\n",
        "# load a list of files and return as a 3d numpy array\r\n",
        "def load_group(filenames, path):\r\n",
        "\tloaded = list()\r\n",
        "\tfor name in filenames:\r\n",
        "\t\tdata = load_file(path + name)\r\n",
        "\t\tloaded.append(data)\r\n",
        "\t# stack group so that features are the 3rd dimension\r\n",
        "\tloaded = np.dstack(loaded)\r\n",
        "\treturn loaded\r\n",
        " \r\n",
        "# load a dataset group, such as train or test\r\n",
        "def load_dataset_group(group, path):\r\n",
        "\t# load all 3 files as a single array\r\n",
        "\tfilenames = ['acc_x_' + group + '.joblib', 'acc_y_' + group + '.joblib', \r\n",
        "              'acc_z_' + group + '.joblib']\r\n",
        "\t# load input data\r\n",
        "\tX = load_group(filenames, path)\r\n",
        "\t# load class output\r\n",
        "\ty = load_file(path + 'label_' + group + '.joblib')\r\n",
        "\treturn X, y\r\n",
        " \r\n",
        "# load the dataset, returns train and test X and y elements\r\n",
        "def load_dataset(path):\r\n",
        "  # load all train\r\n",
        "  trainX, trainy = load_dataset_group('train', path)\r\n",
        "  print('trainX shape: ', trainX.shape, '   |   trainy shape: ', trainy.shape)\r\n",
        "  # load all test\r\n",
        "  testX, testy = load_dataset_group('test', path)\r\n",
        "  print('testX shape: ', testX.shape, '   |   testy shape: ', testy.shape)\r\n",
        "  # zero-offset class values\r\n",
        "  trainy = trainy - 1\r\n",
        "  testy = testy - 1\r\n",
        "  # one hot encode y\r\n",
        "  trainy = to_categorical(trainy)\r\n",
        "  testy = to_categorical(testy)\r\n",
        "  print('Final Dataset shape: \\n\\nTrain Set: ', end='')\r\n",
        "  print(trainX.shape, '<----->', trainy.shape, '\\nTest Set: ', testX.shape, '<----->', testy.shape)\r\n",
        "  return trainX, trainy, testX, testy"
      ],
      "execution_count": null,
      "outputs": []
    },
    {
      "cell_type": "code",
      "metadata": {
        "colab": {
          "base_uri": "https://localhost:8080/"
        },
        "id": "f-ASwCghRSJd",
        "outputId": "574b1fd7-cb14-4b57-bcc1-dce0b617b7f0"
      },
      "source": [
        "# load data\r\n",
        "dataset_path = '/content/drive/MyDrive/NCC Train Test Set (Resampled 20Hz)/Split 80 20/Windowed 250/'\r\n",
        "trainX, trainy, testX, testy = load_dataset(dataset_path)"
      ],
      "execution_count": null,
      "outputs": [
        {
          "output_type": "stream",
          "text": [
            "trainX shape:  (93838, 250, 3)    |   trainy shape:  (93838,)\n",
            "testX shape:  (22775, 250, 3)    |   testy shape:  (22775,)\n",
            "Final Dataset shape: \n",
            "\n",
            "Train Set: (93838, 250, 3) <-----> (93838, 12) \n",
            "Test Set:  (22775, 250, 3) <-----> (22775, 12)\n"
          ],
          "name": "stdout"
        }
      ]
    },
    {
      "cell_type": "markdown",
      "metadata": {
        "id": "9Osl1Rt2VlOt"
      },
      "source": [
        "# LSTM Model"
      ]
    },
    {
      "cell_type": "code",
      "metadata": {
        "id": "3OVlA6CDRLWE"
      },
      "source": [
        "from keras import backend as K\r\n",
        "\r\n",
        "def recall_m(y_true, y_pred):\r\n",
        "  true_positives = K.sum(K.round(K.clip(y_true * y_pred, 0, 1)))\r\n",
        "  possible_positives = K.sum(K.round(K.clip(y_true, 0, 1)))\r\n",
        "  recall = true_positives / (possible_positives + K.epsilon())\r\n",
        "  return recall\r\n",
        "\r\n",
        "def precision_m(y_true, y_pred):\r\n",
        "  true_positives = K.sum(K.round(K.clip(y_true * y_pred, 0, 1)))\r\n",
        "  predicted_positives = K.sum(K.round(K.clip(y_pred, 0, 1)))\r\n",
        "  precision = true_positives / (predicted_positives + K.epsilon())\r\n",
        "  return precision\r\n",
        "\r\n",
        "def f1_m(y_true, y_pred):\r\n",
        "  precision = precision_m(y_true, y_pred)\r\n",
        "  recall = recall_m(y_true, y_pred)\r\n",
        "  return 2*((precision*recall)/(precision+recall+K.epsilon()))\r\n",
        "\r\n",
        "# fit and evaluate a model\r\n",
        "def evaluate_model(trainX, trainy, testX, testy, verbose, epochs, batch_size):\r\n",
        "  n_timesteps, n_features, n_outputs = trainX.shape[1], trainX.shape[2], trainy.shape[1]\r\n",
        "  model = Sequential()\r\n",
        "  model.add(LSTM(100, input_shape=(n_timesteps,n_features)))\r\n",
        "  model.add(Dropout(0.5))\r\n",
        "  model.add(Dense(100, activation='relu'))\r\n",
        "  model.add(Dense(n_outputs, activation='softmax'))\r\n",
        "  model.compile(loss='categorical_crossentropy', optimizer='adam', \r\n",
        "                metrics=['categorical_accuracy', f1_m, precision_m, recall_m])\r\n",
        "  # fit network\r\n",
        "  # model.fit(trainX, trainy, epochs=epochs, batch_size=batch_size, verbose=verbose)\r\n",
        "  # # evaluate model\r\n",
        "  # _, accuracy = model.evaluate(testX, testy, batch_size=batch_size, verbose=0)\r\n",
        "  import time\r\n",
        "  t_start = time.clock()\r\n",
        "  history = model.fit(trainX, trainy, epochs=epochs, batch_size=batch_size, verbose=verbose)\r\n",
        "\r\n",
        "  t_end = time.clock()\r\n",
        "\r\n",
        "  print('\\n\\n\\n')\r\n",
        "\r\n",
        "  #_, accuracy_train = model.evaluate(X_train, y_train)\r\n",
        "  loss_train, accuracy_train, f1_score_train, precision_train, recall_train = model.evaluate(trainX, trainy, verbose=1)\r\n",
        "  print('Train Accuracy: %.2f' % (accuracy_train*100))\r\n",
        "  print('Train F1 Score: %.2f' % (f1_score_train*100))\r\n",
        "  print('Train Time: ', t_end - t_start)\r\n",
        "\r\n",
        "  t_start = time.clock()\r\n",
        "  #_, accuracy_test = model.evaluate(X_test, y_test)\r\n",
        "  loss_test, accuracy_test, f1_score_test, precision_test, recall_test = model.evaluate(testX, testy, verbose=1)\r\n",
        "  print('Test Accuracy: %.2f' % (accuracy_test*100))\r\n",
        "  print('Test F1 Score: %.2f' % (f1_score_test*100))\r\n",
        "  t_end = time.clock()\r\n",
        "  print('Test Time: ', t_end - t_start)\r\n",
        "\r\n",
        "  return f1_score_test, history\r\n",
        " \r\n",
        "# summarize scores\r\n",
        "def summarize_results(scores):\r\n",
        "\tprint(scores)\r\n",
        "\tm, s = np.mean(scores), np.std(scores)\r\n",
        "\tprint('Accuracy: %.3f%% (+/-%.3f)' % (m, s))\r\n",
        " \r\n",
        "# run an experiment\r\n",
        "def run_experiment(repeats=10, verbose=True, epochs=10, batch_size=32):\r\n",
        "  # repeat experiment\r\n",
        "  scores = list()\r\n",
        "  for r in tqdm(range(repeats)):\r\n",
        "    score, history = evaluate_model(trainX, trainy, testX, testy, verbose, epochs, batch_size)\r\n",
        "    print('%.3f' % (score * 100.0))\r\n",
        "    scores.append(score)\r\n",
        "  # summarize results\r\n",
        "  summarize_results(scores)"
      ],
      "execution_count": null,
      "outputs": []
    },
    {
      "cell_type": "markdown",
      "metadata": {
        "id": "bI39XiUQXvqc"
      },
      "source": [
        "## Train"
      ]
    },
    {
      "cell_type": "code",
      "metadata": {
        "colab": {
          "base_uri": "https://localhost:8080/",
          "height": 1000
        },
        "id": "q1ghlsSpVu9S",
        "outputId": "5ce45f9d-1747-40b3-dfb4-c4ab4de34598"
      },
      "source": [
        "# for single iteration\r\n",
        "score, history = evaluate_model(trainX, trainy, testX, testy, verbose=True, epochs=100, batch_size=32)\r\n",
        "print('Score:', '%.3f' % (score * 100.0))"
      ],
      "execution_count": null,
      "outputs": [
        {
          "output_type": "stream",
          "text": [
            "Epoch 1/100\n",
            "2933/2933 [==============================] - 43s 12ms/step - loss: 1.0858 - categorical_accuracy: 0.6016 - f1_m: 0.5388 - precision_m: 0.7268 - recall_m: 0.4341\n",
            "Epoch 2/100\n",
            "2933/2933 [==============================] - 35s 12ms/step - loss: 0.9606 - categorical_accuracy: 0.6353 - f1_m: 0.5836 - precision_m: 0.7627 - recall_m: 0.4767\n",
            "Epoch 3/100\n",
            "2933/2933 [==============================] - 35s 12ms/step - loss: 0.9356 - categorical_accuracy: 0.6380 - f1_m: 0.5957 - precision_m: 0.7562 - recall_m: 0.4953\n",
            "Epoch 4/100\n",
            "2933/2933 [==============================] - 35s 12ms/step - loss: 0.8892 - categorical_accuracy: 0.6480 - f1_m: 0.6175 - precision_m: 0.7543 - recall_m: 0.5261\n",
            "Epoch 5/100\n",
            "2933/2933 [==============================] - 36s 12ms/step - loss: 0.8725 - categorical_accuracy: 0.6622 - f1_m: 0.6409 - precision_m: 0.7591 - recall_m: 0.5577\n",
            "Epoch 6/100\n",
            "2933/2933 [==============================] - 35s 12ms/step - loss: 0.8854 - categorical_accuracy: 0.6541 - f1_m: 0.6357 - precision_m: 0.7381 - recall_m: 0.5611\n",
            "Epoch 7/100\n",
            "2933/2933 [==============================] - 35s 12ms/step - loss: 0.8523 - categorical_accuracy: 0.6670 - f1_m: 0.6544 - precision_m: 0.7508 - recall_m: 0.5826\n",
            "Epoch 8/100\n",
            "2933/2933 [==============================] - 35s 12ms/step - loss: 0.8214 - categorical_accuracy: 0.6747 - f1_m: 0.6671 - precision_m: 0.7537 - recall_m: 0.6007\n",
            "Epoch 9/100\n",
            "2933/2933 [==============================] - 34s 12ms/step - loss: 0.8136 - categorical_accuracy: 0.6783 - f1_m: 0.6695 - precision_m: 0.7593 - recall_m: 0.6010\n",
            "Epoch 10/100\n",
            "2933/2933 [==============================] - 35s 12ms/step - loss: 0.7797 - categorical_accuracy: 0.6959 - f1_m: 0.6917 - precision_m: 0.7746 - recall_m: 0.6272\n",
            "Epoch 11/100\n",
            "2933/2933 [==============================] - 34s 12ms/step - loss: 0.7922 - categorical_accuracy: 0.6849 - f1_m: 0.6790 - precision_m: 0.7560 - recall_m: 0.6183\n",
            "Epoch 12/100\n",
            "2933/2933 [==============================] - 34s 12ms/step - loss: 0.7536 - categorical_accuracy: 0.6997 - f1_m: 0.6989 - precision_m: 0.7760 - recall_m: 0.6378\n",
            "Epoch 13/100\n",
            "2933/2933 [==============================] - 34s 12ms/step - loss: 0.7563 - categorical_accuracy: 0.6927 - f1_m: 0.6884 - precision_m: 0.7653 - recall_m: 0.6278\n",
            "Epoch 14/100\n",
            "2933/2933 [==============================] - 34s 12ms/step - loss: 0.7315 - categorical_accuracy: 0.7110 - f1_m: 0.7102 - precision_m: 0.7900 - recall_m: 0.6473\n",
            "Epoch 15/100\n",
            "2933/2933 [==============================] - 34s 12ms/step - loss: 0.7278 - categorical_accuracy: 0.7092 - f1_m: 0.7098 - precision_m: 0.7891 - recall_m: 0.6470\n",
            "Epoch 16/100\n",
            "2933/2933 [==============================] - 35s 12ms/step - loss: 0.7095 - categorical_accuracy: 0.7169 - f1_m: 0.7152 - precision_m: 0.7948 - recall_m: 0.6522\n",
            "Epoch 17/100\n",
            "2933/2933 [==============================] - 34s 12ms/step - loss: 0.7121 - categorical_accuracy: 0.7190 - f1_m: 0.7176 - precision_m: 0.7975 - recall_m: 0.6545\n",
            "Epoch 18/100\n",
            "2933/2933 [==============================] - 34s 12ms/step - loss: 0.7064 - categorical_accuracy: 0.7167 - f1_m: 0.7139 - precision_m: 0.7944 - recall_m: 0.6504\n",
            "Epoch 19/100\n",
            "2933/2933 [==============================] - 34s 11ms/step - loss: 0.7028 - categorical_accuracy: 0.7053 - f1_m: 0.7021 - precision_m: 0.7789 - recall_m: 0.6411\n",
            "Epoch 20/100\n",
            "2933/2933 [==============================] - 34s 12ms/step - loss: 0.6921 - categorical_accuracy: 0.7192 - f1_m: 0.7185 - precision_m: 0.7918 - recall_m: 0.6596\n",
            "Epoch 21/100\n",
            "2933/2933 [==============================] - 34s 12ms/step - loss: 0.6674 - categorical_accuracy: 0.7323 - f1_m: 0.7318 - precision_m: 0.8044 - recall_m: 0.6731\n",
            "Epoch 22/100\n",
            "2933/2933 [==============================] - 34s 12ms/step - loss: 0.6559 - categorical_accuracy: 0.7391 - f1_m: 0.7405 - precision_m: 0.8098 - recall_m: 0.6841\n",
            "Epoch 23/100\n",
            "2933/2933 [==============================] - 35s 12ms/step - loss: 0.6588 - categorical_accuracy: 0.7353 - f1_m: 0.7357 - precision_m: 0.8025 - recall_m: 0.6810\n",
            "Epoch 24/100\n",
            "2933/2933 [==============================] - 34s 12ms/step - loss: 0.6494 - categorical_accuracy: 0.7417 - f1_m: 0.7414 - precision_m: 0.8105 - recall_m: 0.6850\n",
            "Epoch 25/100\n",
            "2933/2933 [==============================] - 34s 12ms/step - loss: 0.6522 - categorical_accuracy: 0.7361 - f1_m: 0.7365 - precision_m: 0.8012 - recall_m: 0.6833\n",
            "Epoch 26/100\n",
            "2933/2933 [==============================] - 34s 12ms/step - loss: 0.6358 - categorical_accuracy: 0.7454 - f1_m: 0.7455 - precision_m: 0.8115 - recall_m: 0.6913\n",
            "Epoch 27/100\n",
            "2933/2933 [==============================] - 34s 12ms/step - loss: 0.6514 - categorical_accuracy: 0.7368 - f1_m: 0.7349 - precision_m: 0.8036 - recall_m: 0.6789\n",
            "Epoch 28/100\n",
            "2933/2933 [==============================] - 34s 12ms/step - loss: 0.6436 - categorical_accuracy: 0.7429 - f1_m: 0.7397 - precision_m: 0.8083 - recall_m: 0.6838\n",
            "Epoch 29/100\n",
            "2933/2933 [==============================] - 34s 12ms/step - loss: 0.6241 - categorical_accuracy: 0.7490 - f1_m: 0.7484 - precision_m: 0.8107 - recall_m: 0.6967\n",
            "Epoch 30/100\n",
            "2933/2933 [==============================] - 34s 12ms/step - loss: 0.6318 - categorical_accuracy: 0.7471 - f1_m: 0.7455 - precision_m: 0.8089 - recall_m: 0.6932\n",
            "Epoch 31/100\n",
            "2933/2933 [==============================] - 34s 12ms/step - loss: 0.6307 - categorical_accuracy: 0.7457 - f1_m: 0.7452 - precision_m: 0.8081 - recall_m: 0.6932\n",
            "Epoch 32/100\n",
            "2933/2933 [==============================] - 35s 12ms/step - loss: 0.6634 - categorical_accuracy: 0.7366 - f1_m: 0.7366 - precision_m: 0.8023 - recall_m: 0.6827\n",
            "Epoch 33/100\n",
            "2933/2933 [==============================] - 34s 12ms/step - loss: 0.6091 - categorical_accuracy: 0.7540 - f1_m: 0.7539 - precision_m: 0.8178 - recall_m: 0.7009\n",
            "Epoch 34/100\n",
            "2933/2933 [==============================] - 34s 12ms/step - loss: 0.6716 - categorical_accuracy: 0.7323 - f1_m: 0.7293 - precision_m: 0.8024 - recall_m: 0.6704\n",
            "Epoch 35/100\n",
            "2933/2933 [==============================] - 34s 12ms/step - loss: 0.7518 - categorical_accuracy: 0.7058 - f1_m: 0.6968 - precision_m: 0.7839 - recall_m: 0.6297\n",
            "Epoch 36/100\n",
            "2933/2933 [==============================] - 34s 12ms/step - loss: 0.7214 - categorical_accuracy: 0.7099 - f1_m: 0.7061 - precision_m: 0.7900 - recall_m: 0.6405\n",
            "Epoch 37/100\n",
            "2933/2933 [==============================] - 34s 12ms/step - loss: 0.7123 - categorical_accuracy: 0.7156 - f1_m: 0.7097 - precision_m: 0.7928 - recall_m: 0.6446\n",
            "Epoch 38/100\n",
            "2933/2933 [==============================] - 34s 12ms/step - loss: 0.7106 - categorical_accuracy: 0.7172 - f1_m: 0.7100 - precision_m: 0.8017 - recall_m: 0.6397\n",
            "Epoch 39/100\n",
            "2933/2933 [==============================] - 34s 12ms/step - loss: 0.6662 - categorical_accuracy: 0.7319 - f1_m: 0.7286 - precision_m: 0.8008 - recall_m: 0.6703\n",
            "Epoch 40/100\n",
            "2933/2933 [==============================] - 35s 12ms/step - loss: 0.6402 - categorical_accuracy: 0.7416 - f1_m: 0.7376 - precision_m: 0.8064 - recall_m: 0.6816\n",
            "Epoch 41/100\n",
            "2933/2933 [==============================] - 34s 12ms/step - loss: 0.6172 - categorical_accuracy: 0.7534 - f1_m: 0.7526 - precision_m: 0.8171 - recall_m: 0.6992\n",
            "Epoch 42/100\n",
            "2933/2933 [==============================] - 34s 12ms/step - loss: 0.6221 - categorical_accuracy: 0.7512 - f1_m: 0.7523 - precision_m: 0.8136 - recall_m: 0.7013\n",
            "Epoch 43/100\n",
            "2933/2933 [==============================] - 34s 12ms/step - loss: 0.6078 - categorical_accuracy: 0.7558 - f1_m: 0.7546 - precision_m: 0.8180 - recall_m: 0.7021\n",
            "Epoch 44/100\n",
            "2933/2933 [==============================] - 34s 12ms/step - loss: 0.6167 - categorical_accuracy: 0.7508 - f1_m: 0.7501 - precision_m: 0.8105 - recall_m: 0.6997\n",
            "Epoch 45/100\n",
            "2933/2933 [==============================] - 34s 12ms/step - loss: 0.5863 - categorical_accuracy: 0.7617 - f1_m: 0.7620 - precision_m: 0.8213 - recall_m: 0.7123\n",
            "Epoch 46/100\n",
            "2933/2933 [==============================] - 34s 12ms/step - loss: 0.5890 - categorical_accuracy: 0.7615 - f1_m: 0.7604 - precision_m: 0.8187 - recall_m: 0.7116\n",
            "Epoch 47/100\n",
            "2933/2933 [==============================] - 34s 12ms/step - loss: 0.5852 - categorical_accuracy: 0.7616 - f1_m: 0.7604 - precision_m: 0.8205 - recall_m: 0.7102\n",
            "Epoch 48/100\n",
            "2933/2933 [==============================] - 34s 12ms/step - loss: 0.5858 - categorical_accuracy: 0.7611 - f1_m: 0.7602 - precision_m: 0.8217 - recall_m: 0.7091\n",
            "Epoch 49/100\n",
            "2933/2933 [==============================] - 34s 12ms/step - loss: 0.5751 - categorical_accuracy: 0.7644 - f1_m: 0.7623 - precision_m: 0.8254 - recall_m: 0.7099\n",
            "Epoch 50/100\n",
            "2933/2933 [==============================] - 35s 12ms/step - loss: 0.5628 - categorical_accuracy: 0.7685 - f1_m: 0.7681 - precision_m: 0.8276 - recall_m: 0.7183\n",
            "Epoch 51/100\n",
            "2933/2933 [==============================] - 35s 12ms/step - loss: 0.5944 - categorical_accuracy: 0.7581 - f1_m: 0.7567 - precision_m: 0.8221 - recall_m: 0.7032\n",
            "Epoch 52/100\n",
            "2933/2933 [==============================] - 34s 12ms/step - loss: 0.7287 - categorical_accuracy: 0.7106 - f1_m: 0.7013 - precision_m: 0.8060 - recall_m: 0.6236\n",
            "Epoch 53/100\n",
            "2933/2933 [==============================] - 34s 12ms/step - loss: 0.6837 - categorical_accuracy: 0.7251 - f1_m: 0.7200 - precision_m: 0.8019 - recall_m: 0.6555\n",
            "Epoch 54/100\n",
            "2933/2933 [==============================] - 34s 12ms/step - loss: 0.6436 - categorical_accuracy: 0.7425 - f1_m: 0.7392 - precision_m: 0.8151 - recall_m: 0.6783\n",
            "Epoch 55/100\n",
            "2933/2933 [==============================] - 34s 12ms/step - loss: 0.6149 - categorical_accuracy: 0.7507 - f1_m: 0.7494 - precision_m: 0.8158 - recall_m: 0.6947\n",
            "Epoch 56/100\n",
            "2933/2933 [==============================] - 34s 12ms/step - loss: 0.5939 - categorical_accuracy: 0.7572 - f1_m: 0.7569 - precision_m: 0.8199 - recall_m: 0.7046\n",
            "Epoch 57/100\n",
            "2933/2933 [==============================] - 34s 12ms/step - loss: 0.5800 - categorical_accuracy: 0.7629 - f1_m: 0.7618 - precision_m: 0.8219 - recall_m: 0.7117\n",
            "Epoch 58/100\n",
            "2933/2933 [==============================] - 34s 12ms/step - loss: 0.5589 - categorical_accuracy: 0.7702 - f1_m: 0.7692 - precision_m: 0.8299 - recall_m: 0.7185\n",
            "Epoch 59/100\n",
            "2933/2933 [==============================] - 35s 12ms/step - loss: 0.5842 - categorical_accuracy: 0.7605 - f1_m: 0.7611 - precision_m: 0.8227 - recall_m: 0.7098\n",
            "Epoch 60/100\n",
            "2933/2933 [==============================] - 34s 12ms/step - loss: 0.5590 - categorical_accuracy: 0.7693 - f1_m: 0.7692 - precision_m: 0.8296 - recall_m: 0.7187\n",
            "Epoch 61/100\n",
            "2933/2933 [==============================] - 34s 12ms/step - loss: 0.5635 - categorical_accuracy: 0.7680 - f1_m: 0.7673 - precision_m: 0.8244 - recall_m: 0.7192\n",
            "Epoch 62/100\n",
            "2933/2933 [==============================] - 34s 12ms/step - loss: 0.5608 - categorical_accuracy: 0.7689 - f1_m: 0.7694 - precision_m: 0.8298 - recall_m: 0.7191\n",
            "Epoch 63/100\n",
            "2933/2933 [==============================] - 35s 12ms/step - loss: 0.5878 - categorical_accuracy: 0.7588 - f1_m: 0.7566 - precision_m: 0.8241 - recall_m: 0.7012\n",
            "Epoch 64/100\n",
            "2933/2933 [==============================] - 34s 12ms/step - loss: 0.6116 - categorical_accuracy: 0.7489 - f1_m: 0.7471 - precision_m: 0.8174 - recall_m: 0.6901\n",
            "Epoch 65/100\n",
            "2933/2933 [==============================] - 34s 12ms/step - loss: 0.6157 - categorical_accuracy: 0.7516 - f1_m: 0.7502 - precision_m: 0.8184 - recall_m: 0.6943\n",
            "Epoch 66/100\n",
            "2933/2933 [==============================] - 34s 12ms/step - loss: 0.5594 - categorical_accuracy: 0.7696 - f1_m: 0.7684 - precision_m: 0.8322 - recall_m: 0.7153\n",
            "Epoch 67/100\n",
            "2933/2933 [==============================] - 34s 12ms/step - loss: 0.5685 - categorical_accuracy: 0.7635 - f1_m: 0.7635 - precision_m: 0.8292 - recall_m: 0.7093\n",
            "Epoch 68/100\n",
            "2933/2933 [==============================] - 35s 12ms/step - loss: 0.5593 - categorical_accuracy: 0.7677 - f1_m: 0.7672 - precision_m: 0.8284 - recall_m: 0.7160\n",
            "Epoch 69/100\n",
            "2933/2933 [==============================] - 35s 12ms/step - loss: 0.5398 - categorical_accuracy: 0.7775 - f1_m: 0.7777 - precision_m: 0.8374 - recall_m: 0.7277\n",
            "Epoch 70/100\n",
            "2933/2933 [==============================] - 35s 12ms/step - loss: 0.5358 - categorical_accuracy: 0.7794 - f1_m: 0.7778 - precision_m: 0.8374 - recall_m: 0.7278\n",
            "Epoch 71/100\n",
            "2933/2933 [==============================] - 34s 12ms/step - loss: 0.5263 - categorical_accuracy: 0.7784 - f1_m: 0.7796 - precision_m: 0.8376 - recall_m: 0.7307\n",
            "Epoch 72/100\n",
            "2933/2933 [==============================] - 34s 12ms/step - loss: 0.5299 - categorical_accuracy: 0.7748 - f1_m: 0.7753 - precision_m: 0.8369 - recall_m: 0.7239\n",
            "Epoch 73/100\n",
            "2933/2933 [==============================] - 34s 12ms/step - loss: 0.5312 - categorical_accuracy: 0.7788 - f1_m: 0.7778 - precision_m: 0.8381 - recall_m: 0.7273\n",
            "Epoch 74/100\n",
            "2933/2933 [==============================] - 34s 12ms/step - loss: 0.5245 - categorical_accuracy: 0.7795 - f1_m: 0.7800 - precision_m: 0.8408 - recall_m: 0.7291\n",
            "Epoch 75/100\n",
            "2933/2933 [==============================] - 34s 12ms/step - loss: 0.5672 - categorical_accuracy: 0.7658 - f1_m: 0.7661 - precision_m: 0.8292 - recall_m: 0.7137\n",
            "Epoch 76/100\n",
            "2933/2933 [==============================] - 35s 12ms/step - loss: 0.5204 - categorical_accuracy: 0.7788 - f1_m: 0.7801 - precision_m: 0.8369 - recall_m: 0.7320\n",
            "Epoch 77/100\n",
            "2933/2933 [==============================] - 35s 12ms/step - loss: 0.5272 - categorical_accuracy: 0.7787 - f1_m: 0.7791 - precision_m: 0.8390 - recall_m: 0.7289\n",
            "Epoch 78/100\n",
            "2933/2933 [==============================] - 34s 12ms/step - loss: 0.5158 - categorical_accuracy: 0.7836 - f1_m: 0.7819 - precision_m: 0.8421 - recall_m: 0.7314\n",
            "Epoch 79/100\n",
            "2933/2933 [==============================] - 34s 12ms/step - loss: 0.5539 - categorical_accuracy: 0.7690 - f1_m: 0.7664 - precision_m: 0.8309 - recall_m: 0.7130\n",
            "Epoch 80/100\n",
            "2933/2933 [==============================] - 34s 12ms/step - loss: 0.5140 - categorical_accuracy: 0.7845 - f1_m: 0.7851 - precision_m: 0.8414 - recall_m: 0.7376\n",
            "Epoch 81/100\n",
            "2933/2933 [==============================] - 34s 12ms/step - loss: 0.5291 - categorical_accuracy: 0.7786 - f1_m: 0.7790 - precision_m: 0.8337 - recall_m: 0.7327\n",
            "Epoch 82/100\n",
            "2933/2933 [==============================] - 35s 12ms/step - loss: 0.5099 - categorical_accuracy: 0.7858 - f1_m: 0.7856 - precision_m: 0.8427 - recall_m: 0.7372\n",
            "Epoch 83/100\n",
            "2933/2933 [==============================] - 34s 12ms/step - loss: 0.5067 - categorical_accuracy: 0.7862 - f1_m: 0.7871 - precision_m: 0.8431 - recall_m: 0.7397\n",
            "Epoch 84/100\n",
            "2933/2933 [==============================] - 34s 12ms/step - loss: 0.5450 - categorical_accuracy: 0.7737 - f1_m: 0.7724 - precision_m: 0.8373 - recall_m: 0.7189\n",
            "Epoch 85/100\n",
            "2933/2933 [==============================] - 34s 12ms/step - loss: 0.5807 - categorical_accuracy: 0.7660 - f1_m: 0.7661 - precision_m: 0.8306 - recall_m: 0.7127\n",
            "Epoch 86/100\n",
            "2933/2933 [==============================] - 35s 12ms/step - loss: 0.5206 - categorical_accuracy: 0.7792 - f1_m: 0.7803 - precision_m: 0.8393 - recall_m: 0.7307\n",
            "Epoch 87/100\n",
            "2933/2933 [==============================] - 34s 12ms/step - loss: 0.5060 - categorical_accuracy: 0.7851 - f1_m: 0.7863 - precision_m: 0.8448 - recall_m: 0.7370\n",
            "Epoch 88/100\n",
            "2933/2933 [==============================] - 34s 12ms/step - loss: 0.5733 - categorical_accuracy: 0.7669 - f1_m: 0.7659 - precision_m: 0.8313 - recall_m: 0.7118\n",
            "Epoch 89/100\n",
            "2933/2933 [==============================] - 34s 12ms/step - loss: 0.5687 - categorical_accuracy: 0.7667 - f1_m: 0.7662 - precision_m: 0.8321 - recall_m: 0.7118\n",
            "Epoch 90/100\n",
            "2933/2933 [==============================] - 34s 12ms/step - loss: 0.5584 - categorical_accuracy: 0.7717 - f1_m: 0.7705 - precision_m: 0.8331 - recall_m: 0.7186\n",
            "Epoch 91/100\n",
            "2933/2933 [==============================] - 34s 11ms/step - loss: 0.5722 - categorical_accuracy: 0.7615 - f1_m: 0.7600 - precision_m: 0.8239 - recall_m: 0.7069\n",
            "Epoch 92/100\n",
            "2933/2933 [==============================] - 34s 12ms/step - loss: 0.5536 - categorical_accuracy: 0.7707 - f1_m: 0.7713 - precision_m: 0.8326 - recall_m: 0.7202\n",
            "Epoch 93/100\n",
            "2933/2933 [==============================] - 34s 12ms/step - loss: 0.6267 - categorical_accuracy: 0.7499 - f1_m: 0.7486 - precision_m: 0.8212 - recall_m: 0.6898\n",
            "Epoch 94/100\n",
            "2933/2933 [==============================] - 34s 11ms/step - loss: 0.5780 - categorical_accuracy: 0.7608 - f1_m: 0.7612 - precision_m: 0.8254 - recall_m: 0.7081\n",
            "Epoch 95/100\n",
            "2933/2933 [==============================] - 34s 12ms/step - loss: 0.5625 - categorical_accuracy: 0.7664 - f1_m: 0.7655 - precision_m: 0.8331 - recall_m: 0.7101\n",
            "Epoch 96/100\n",
            "2933/2933 [==============================] - 34s 12ms/step - loss: 0.5920 - categorical_accuracy: 0.7637 - f1_m: 0.7602 - precision_m: 0.8262 - recall_m: 0.7058\n",
            "Epoch 97/100\n",
            "2933/2933 [==============================] - 34s 12ms/step - loss: 0.5281 - categorical_accuracy: 0.7801 - f1_m: 0.7794 - precision_m: 0.8409 - recall_m: 0.7280\n",
            "Epoch 98/100\n",
            "2933/2933 [==============================] - 34s 12ms/step - loss: 0.5667 - categorical_accuracy: 0.7688 - f1_m: 0.7674 - precision_m: 0.8336 - recall_m: 0.7130\n",
            "Epoch 99/100\n",
            "2933/2933 [==============================] - 34s 12ms/step - loss: 0.5318 - categorical_accuracy: 0.7773 - f1_m: 0.7782 - precision_m: 0.8401 - recall_m: 0.7266\n",
            "Epoch 100/100\n",
            "2933/2933 [==============================] - 34s 11ms/step - loss: 0.5379 - categorical_accuracy: 0.7744 - f1_m: 0.7744 - precision_m: 0.8363 - recall_m: 0.7229\n",
            "\n",
            "\n",
            "\n",
            "\n",
            "2933/2933 [==============================] - 18s 6ms/step - loss: 0.5709 - categorical_accuracy: 0.7615 - f1_m: 0.7288 - precision_m: 0.7738 - recall_m: 0.7057\n",
            "Train Accuracy: 76.15\n",
            "Train F1 Score: 72.88\n",
            "Train Time:  3794.4624440000007\n",
            "712/712 [==============================] - 4s 6ms/step - loss: 1.3527 - categorical_accuracy: 0.6923 - f1_m: 0.6779 - precision_m: 0.6956 - recall_m: 0.6671\n",
            "Test Accuracy: 69.23\n",
            "Test F1 Score: 67.79\n",
            "Test Time:  5.017310999999609\n"
          ],
          "name": "stdout"
        },
        {
          "output_type": "error",
          "ename": "KeyError",
          "evalue": "ignored",
          "traceback": [
            "\u001b[0;31m---------------------------------------------------------------------------\u001b[0m",
            "\u001b[0;31mKeyError\u001b[0m                                  Traceback (most recent call last)",
            "\u001b[0;32m<ipython-input-20-5145bcc0f194>\u001b[0m in \u001b[0;36m<module>\u001b[0;34m()\u001b[0m\n\u001b[1;32m      1\u001b[0m \u001b[0;31m# for single iteration\u001b[0m\u001b[0;34m\u001b[0m\u001b[0;34m\u001b[0m\u001b[0;34m\u001b[0m\u001b[0m\n\u001b[0;32m----> 2\u001b[0;31m \u001b[0mscore\u001b[0m\u001b[0;34m,\u001b[0m \u001b[0mhistory\u001b[0m \u001b[0;34m=\u001b[0m \u001b[0mevaluate_model\u001b[0m\u001b[0;34m(\u001b[0m\u001b[0mtrainX\u001b[0m\u001b[0;34m,\u001b[0m \u001b[0mtrainy\u001b[0m\u001b[0;34m,\u001b[0m \u001b[0mtestX\u001b[0m\u001b[0;34m,\u001b[0m \u001b[0mtesty\u001b[0m\u001b[0;34m,\u001b[0m \u001b[0mverbose\u001b[0m\u001b[0;34m=\u001b[0m\u001b[0;32mTrue\u001b[0m\u001b[0;34m,\u001b[0m \u001b[0mepochs\u001b[0m\u001b[0;34m=\u001b[0m\u001b[0;36m100\u001b[0m\u001b[0;34m,\u001b[0m \u001b[0mbatch_size\u001b[0m\u001b[0;34m=\u001b[0m\u001b[0;36m32\u001b[0m\u001b[0;34m)\u001b[0m\u001b[0;34m\u001b[0m\u001b[0;34m\u001b[0m\u001b[0m\n\u001b[0m\u001b[1;32m      3\u001b[0m \u001b[0mprint\u001b[0m\u001b[0;34m(\u001b[0m\u001b[0;34m'Score:'\u001b[0m\u001b[0;34m,\u001b[0m \u001b[0;34m'%.3f'\u001b[0m \u001b[0;34m%\u001b[0m \u001b[0;34m(\u001b[0m\u001b[0mscore\u001b[0m \u001b[0;34m*\u001b[0m \u001b[0;36m100.0\u001b[0m\u001b[0;34m)\u001b[0m\u001b[0;34m)\u001b[0m\u001b[0;34m\u001b[0m\u001b[0;34m\u001b[0m\u001b[0m\n",
            "\u001b[0;32m<ipython-input-16-530972e1e945>\u001b[0m in \u001b[0;36mevaluate_model\u001b[0;34m(trainX, trainy, testX, testy, verbose, epochs, batch_size)\u001b[0m\n\u001b[1;32m     61\u001b[0m \u001b[0;34m\u001b[0m\u001b[0m\n\u001b[1;32m     62\u001b[0m   \u001b[0mplt\u001b[0m\u001b[0;34m.\u001b[0m\u001b[0mplot\u001b[0m\u001b[0;34m(\u001b[0m\u001b[0mhistory\u001b[0m\u001b[0;34m.\u001b[0m\u001b[0mhistory\u001b[0m\u001b[0;34m[\u001b[0m\u001b[0;34m'categorical_accuracy'\u001b[0m\u001b[0;34m]\u001b[0m\u001b[0;34m)\u001b[0m\u001b[0;34m\u001b[0m\u001b[0;34m\u001b[0m\u001b[0m\n\u001b[0;32m---> 63\u001b[0;31m   \u001b[0mplt\u001b[0m\u001b[0;34m.\u001b[0m\u001b[0mplot\u001b[0m\u001b[0;34m(\u001b[0m\u001b[0mhistory\u001b[0m\u001b[0;34m.\u001b[0m\u001b[0mhistory\u001b[0m\u001b[0;34m[\u001b[0m\u001b[0;34m'val_categorical_accuracy'\u001b[0m\u001b[0;34m]\u001b[0m\u001b[0;34m)\u001b[0m\u001b[0;34m\u001b[0m\u001b[0;34m\u001b[0m\u001b[0m\n\u001b[0m\u001b[1;32m     64\u001b[0m   \u001b[0mplt\u001b[0m\u001b[0;34m.\u001b[0m\u001b[0mtitle\u001b[0m\u001b[0;34m(\u001b[0m\u001b[0;34m'Model Accuracy'\u001b[0m\u001b[0;34m)\u001b[0m\u001b[0;34m\u001b[0m\u001b[0;34m\u001b[0m\u001b[0m\n\u001b[1;32m     65\u001b[0m   \u001b[0mplt\u001b[0m\u001b[0;34m.\u001b[0m\u001b[0mylabel\u001b[0m\u001b[0;34m(\u001b[0m\u001b[0;34m'accuracy'\u001b[0m\u001b[0;34m)\u001b[0m\u001b[0;34m\u001b[0m\u001b[0;34m\u001b[0m\u001b[0m\n",
            "\u001b[0;31mKeyError\u001b[0m: 'val_categorical_accuracy'"
          ]
        },
        {
          "output_type": "display_data",
          "data": {
            "image/png": "[encoded data removed]",
            "text/plain": [
              "<Figure size 432x288 with 1 Axes>"
            ]
          },
          "metadata": {
            "tags": [],
            "needs_background": "light"
          }
        }
      ]
    },
    {
      "cell_type": "markdown",
      "metadata": {
        "id": "DM0bejafiVXK"
      },
      "source": [
        "##### Epoch = 100, Batch Size = 32\r\n",
        "```\r\n",
        "\r\n",
        "2933/2933 [==============================] - 18s 6ms/step - loss: 0.5709 - categorical_accuracy: 0.7615 - f1_m: 0.7288 - precision_m: 0.7738 - recall_m: 0.7057\r\n",
        "Train Accuracy: 76.15\r\n",
        "Train F1 Score: 72.88\r\n",
        "Train Time:  3794.4624440000007\r\n",
        "712/712 [==============================] - 4s 6ms/step - loss: 1.3527 - categorical_accuracy: 0.6923 - f1_m: 0.6779 - precision_m: 0.6956 - recall_m: 0.6671\r\n",
        "Test Accuracy: 69.23\r\n",
        "Test F1 Score: 67.79\r\n",
        "Test Time:  5.017310999999609\r\n",
        "```"
      ]
    },
    {
      "cell_type": "code",
      "metadata": {
        "id": "yOzgB6yIlx_3"
      },
      "source": [
        "import matplotlib.pyplot as plt\r\n",
        "plt.plot(history.history['categorical_accuracy'])\r\n",
        "#plt.plot(history.history['val_categorical_accuracy'])\r\n",
        "plt.title('Model Accuracy')\r\n",
        "plt.ylabel('accuracy')\r\n",
        "plt.xlabel('epoch')\r\n",
        "plt.legend(['train', 'test'], loc='upper left')\r\n",
        "plt.show()"
      ],
      "execution_count": null,
      "outputs": []
    },
    {
      "cell_type": "code",
      "metadata": {
        "id": "lVm4ma-dy3ie",
        "colab": {
          "base_uri": "https://localhost:8080/",
          "height": 1000,
          "referenced_widgets": [
            "f5fb00dcbed04eda90479cf88d95d9df",
            "fa5d064b03024750a0c60881f97d7733",
            "3c3495b20f254d53baffd49dbd0590ce",
            "fa6e418089c04d03932765090282e55d",
            "ae12c2b8b39c4dda884a9f8ddf0ec2aa",
            "cc772d7188754cd6ab2e31808514fc74",
            "dea0a8c5c50440d5aca69341c2a61226",
            "e1ccdec4a2084e72a21fdbbeb5d03773"
          ]
        },
        "outputId": "ad9b4bb4-f21f-4aa7-883c-4708b35a7d4c"
      },
      "source": [
        "# run the experiment for interations\n",
        "run_experiment(10, verbose=False, epochs=80, batch_size=32)"
      ],
      "execution_count": null,
      "outputs": [
        {
          "output_type": "display_data",
          "data": {
            "application/vnd.jupyter.widget-view+json": {
              "model_id": "f5fb00dcbed04eda90479cf88d95d9df",
              "version_minor": 0,
              "version_major": 2
            },
            "text/plain": [
              "HBox(children=(FloatProgress(value=0.0, max=10.0), HTML(value='')))"
            ]
          },
          "metadata": {
            "tags": []
          }
        },
        {
          "output_type": "stream",
          "text": [
            "\n",
            "\n",
            "\n",
            "\n",
            "2933/2933 [==============================] - 18s 6ms/step - loss: 0.5617 - categorical_accuracy: 0.7728 - f1_m: 0.7457 - precision_m: 0.7828 - recall_m: 0.7272\n",
            "Train Accuracy: 77.28\n",
            "Train F1 Score: 74.57\n",
            "Train Time:  2611.6818349999994\n",
            "712/712 [==============================] - 4s 6ms/step - loss: 1.0947 - categorical_accuracy: 0.7244 - f1_m: 0.7114 - precision_m: 0.7332 - recall_m: 0.6977\n",
            "Test Accuracy: 72.44\n",
            "Test F1 Score: 71.14\n",
            "Test Time:  5.214239000000816\n",
            "71.142\n",
            "\n",
            "\n",
            "\n",
            "\n",
            "2933/2933 [==============================] - 19s 6ms/step - loss: 0.6983 - categorical_accuracy: 0.7242 - f1_m: 0.6495 - precision_m: 0.7287 - recall_m: 0.6209\n",
            "Train Accuracy: 72.42\n",
            "Train F1 Score: 64.95\n",
            "Train Time:  2593.2486659999995\n",
            "712/712 [==============================] - 4s 6ms/step - loss: 1.0228 - categorical_accuracy: 0.6784 - f1_m: 0.6370 - precision_m: 0.6721 - recall_m: 0.6261\n",
            "Test Accuracy: 67.84\n",
            "Test F1 Score: 63.70\n",
            "Test Time:  5.240935999998328\n",
            "63.703\n",
            "\n",
            "\n",
            "\n",
            "\n",
            "2933/2933 [==============================] - 20s 7ms/step - loss: 0.5328 - categorical_accuracy: 0.7702 - f1_m: 0.7390 - precision_m: 0.7821 - recall_m: 0.7195\n",
            "Train Accuracy: 77.02\n",
            "Train F1 Score: 73.90\n",
            "Train Time:  2672.128213\n",
            "712/712 [==============================] - 5s 6ms/step - loss: 1.2584 - categorical_accuracy: 0.6990 - f1_m: 0.6838 - precision_m: 0.7040 - recall_m: 0.6706\n",
            "Test Accuracy: 69.90\n",
            "Test F1 Score: 68.38\n",
            "Test Time:  5.439109000002645\n",
            "68.381\n",
            "\n",
            "\n",
            "\n",
            "\n",
            "2933/2933 [==============================] - 18s 6ms/step - loss: 0.4983 - categorical_accuracy: 0.7892 - f1_m: 0.7636 - precision_m: 0.7943 - recall_m: 0.7473\n",
            "Train Accuracy: 78.92\n",
            "Train F1 Score: 76.36\n",
            "Train Time:  2634.5350670000007\n",
            "712/712 [==============================] - 5s 6ms/step - loss: 1.3741 - categorical_accuracy: 0.7034 - f1_m: 0.6936 - precision_m: 0.7082 - recall_m: 0.6836\n",
            "Test Accuracy: 70.34\n",
            "Test F1 Score: 69.36\n",
            "Test Time:  5.299841000000015\n",
            "69.363\n",
            "\n",
            "\n",
            "\n",
            "\n",
            "2933/2933 [==============================] - 19s 6ms/step - loss: 0.5202 - categorical_accuracy: 0.7818 - f1_m: 0.7484 - precision_m: 0.7923 - recall_m: 0.7277\n",
            "Train Accuracy: 78.18\n",
            "Train F1 Score: 74.84\n",
            "Train Time:  2601.677321000003\n",
            "712/712 [==============================] - 5s 7ms/step - loss: 1.2476 - categorical_accuracy: 0.7127 - f1_m: 0.7010 - precision_m: 0.7187 - recall_m: 0.6900\n",
            "Test Accuracy: 71.27\n",
            "Test F1 Score: 70.10\n",
            "Test Time:  5.534380999997666\n",
            "70.097\n",
            "\n",
            "\n",
            "\n",
            "\n",
            "2933/2933 [==============================] - 19s 6ms/step - loss: 0.5811 - categorical_accuracy: 0.7623 - f1_m: 0.7175 - precision_m: 0.7677 - recall_m: 0.6943\n",
            "Train Accuracy: 76.23\n",
            "Train F1 Score: 71.75\n",
            "Train Time:  2601.9067069999983\n",
            "712/712 [==============================] - 4s 6ms/step - loss: 1.1751 - categorical_accuracy: 0.7235 - f1_m: 0.7063 - precision_m: 0.7297 - recall_m: 0.6926\n",
            "Test Accuracy: 72.35\n",
            "Test F1 Score: 70.63\n",
            "Test Time:  5.268138999999792\n",
            "70.633\n",
            "\n",
            "\n",
            "\n",
            "\n",
            "2933/2933 [==============================] - 19s 6ms/step - loss: 0.6161 - categorical_accuracy: 0.7457 - f1_m: 0.7087 - precision_m: 0.7456 - recall_m: 0.6891\n",
            "Train Accuracy: 74.57\n",
            "Train F1 Score: 70.87\n",
            "Train Time:  2591.209372000001\n",
            "712/712 [==============================] - 4s 6ms/step - loss: 1.1351 - categorical_accuracy: 0.6997 - f1_m: 0.6804 - precision_m: 0.7022 - recall_m: 0.6683\n",
            "Test Accuracy: 69.97\n",
            "Test F1 Score: 68.04\n",
            "Test Time:  5.2685399999973015\n",
            "68.037\n"
          ],
          "name": "stdout"
        }
      ]
    },
    {
      "cell_type": "markdown",
      "metadata": {
        "id": "R3yrtIFOYyMM"
      },
      "source": [
        "# Random Forest Model"
      ]
    },
    {
      "cell_type": "code",
      "metadata": {
        "id": "Q_siG1bHY11-"
      },
      "source": [
        "from sklearn.model_selection import train_test_split, cross_val_score\r\n",
        "from sklearn.metrics import classification_report, confusion_matrix, accuracy_score\r\n",
        "from sklearn.ensemble import RandomForestClassifier\r\n",
        "\r\n",
        "# load label set again\r\n",
        "trainy_2 = load_file(dataset_path + 'label_train.joblib')\r\n",
        "testy_2 = load_file(dataset_path + 'label_test.joblib')\r\n",
        "\r\n",
        "clf = RandomForestClassifier(verbose=True,n_jobs=-1)\r\n",
        "\r\n",
        "clf.fit(trainX, trainy_2)\r\n",
        "y_pred = clf.predict(testX)\r\n",
        "\r\n",
        "# Evaluate Algorithm\r\n",
        "print(\"\\n\\nConfusion Matrix: \\n\\n\",confusion_matrix(testy_2,y_pred))\r\n",
        "print(\"\\n\\nReport: \\n\\n\",classification_report(testy_2,y_pred))\r\n",
        "print(\"Accuracy: \",accuracy_score(testy_2,y_pred))"
      ],
      "execution_count": null,
      "outputs": []
    }
  ]
}