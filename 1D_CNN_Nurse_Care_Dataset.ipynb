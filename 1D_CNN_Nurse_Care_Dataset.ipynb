{
  "nbformat": 4,
  "nbformat_minor": 0,
  "metadata": {
    "colab": {
      "name": "1D_CNN_Nurse_Care_Dataset.ipynb",
      "provenance": [],
      "authorship_tag": "ABX9TyMDdMNoDf6sLdLIl/H1OH95",
      "include_colab_link": true
    },
    "kernelspec": {
      "name": "python3",
      "display_name": "Python 3"
    },
    "accelerator": "GPU",
    "widgets": {
      "application/vnd.jupyter.widget-state+json": {
        "1c80400a678a4c8aafc7c1d4b8a5bbfd": {
          "model_module": "@jupyter-widgets/controls",
          "model_name": "HBoxModel",
          "state": {
            "_view_name": "HBoxView",
            "_dom_classes": [],
            "_model_name": "HBoxModel",
            "_view_module": "@jupyter-widgets/controls",
            "_model_module_version": "1.5.0",
            "_view_count": null,
            "_view_module_version": "1.5.0",
            "box_style": "",
            "layout": "IPY_MODEL_eeb6b76a36fc4b78a7506ab23dec7b6b",
            "_model_module": "@jupyter-widgets/controls",
            "children": [
              "IPY_MODEL_4e16c2e4679748a9be54ecdb794b62ad",
              "IPY_MODEL_7be9b28703634faebcab0e0b7f1813d6"
            ]
          }
        },
        "eeb6b76a36fc4b78a7506ab23dec7b6b": {
          "model_module": "@jupyter-widgets/base",
          "model_name": "LayoutModel",
          "state": {
            "_view_name": "LayoutView",
            "grid_template_rows": null,
            "right": null,
            "justify_content": null,
            "_view_module": "@jupyter-widgets/base",
            "overflow": null,
            "_model_module_version": "1.2.0",
            "_view_count": null,
            "flex_flow": null,
            "width": null,
            "min_width": null,
            "border": null,
            "align_items": null,
            "bottom": null,
            "_model_module": "@jupyter-widgets/base",
            "top": null,
            "grid_column": null,
            "overflow_y": null,
            "overflow_x": null,
            "grid_auto_flow": null,
            "grid_area": null,
            "grid_template_columns": null,
            "flex": null,
            "_model_name": "LayoutModel",
            "justify_items": null,
            "grid_row": null,
            "max_height": null,
            "align_content": null,
            "visibility": null,
            "align_self": null,
            "height": null,
            "min_height": null,
            "padding": null,
            "grid_auto_rows": null,
            "grid_gap": null,
            "max_width": null,
            "order": null,
            "_view_module_version": "1.2.0",
            "grid_template_areas": null,
            "object_position": null,
            "object_fit": null,
            "grid_auto_columns": null,
            "margin": null,
            "display": null,
            "left": null
          }
        },
        "4e16c2e4679748a9be54ecdb794b62ad": {
          "model_module": "@jupyter-widgets/controls",
          "model_name": "FloatProgressModel",
          "state": {
            "_view_name": "ProgressView",
            "style": "IPY_MODEL_8886ff6707b74c1fb4853083e6a8ade8",
            "_dom_classes": [],
            "description": "100%",
            "_model_name": "FloatProgressModel",
            "bar_style": "success",
            "max": 10,
            "_view_module": "@jupyter-widgets/controls",
            "_model_module_version": "1.5.0",
            "value": 10,
            "_view_count": null,
            "_view_module_version": "1.5.0",
            "orientation": "horizontal",
            "min": 0,
            "description_tooltip": null,
            "_model_module": "@jupyter-widgets/controls",
            "layout": "IPY_MODEL_d4aa373ba1064882b10e80cd0551d0dd"
          }
        },
        "7be9b28703634faebcab0e0b7f1813d6": {
          "model_module": "@jupyter-widgets/controls",
          "model_name": "HTMLModel",
          "state": {
            "_view_name": "HTMLView",
            "style": "IPY_MODEL_65af1f00edb14ed182567f899b7b0e97",
            "_dom_classes": [],
            "description": "",
            "_model_name": "HTMLModel",
            "placeholder": "​",
            "_view_module": "@jupyter-widgets/controls",
            "_model_module_version": "1.5.0",
            "value": " 10/10 [1:34:42&lt;00:00, 568.30s/it]",
            "_view_count": null,
            "_view_module_version": "1.5.0",
            "description_tooltip": null,
            "_model_module": "@jupyter-widgets/controls",
            "layout": "IPY_MODEL_3c47b13355f5415db34afab34f8bade6"
          }
        },
        "8886ff6707b74c1fb4853083e6a8ade8": {
          "model_module": "@jupyter-widgets/controls",
          "model_name": "ProgressStyleModel",
          "state": {
            "_view_name": "StyleView",
            "_model_name": "ProgressStyleModel",
            "description_width": "initial",
            "_view_module": "@jupyter-widgets/base",
            "_model_module_version": "1.5.0",
            "_view_count": null,
            "_view_module_version": "1.2.0",
            "bar_color": null,
            "_model_module": "@jupyter-widgets/controls"
          }
        },
        "d4aa373ba1064882b10e80cd0551d0dd": {
          "model_module": "@jupyter-widgets/base",
          "model_name": "LayoutModel",
          "state": {
            "_view_name": "LayoutView",
            "grid_template_rows": null,
            "right": null,
            "justify_content": null,
            "_view_module": "@jupyter-widgets/base",
            "overflow": null,
            "_model_module_version": "1.2.0",
            "_view_count": null,
            "flex_flow": null,
            "width": null,
            "min_width": null,
            "border": null,
            "align_items": null,
            "bottom": null,
            "_model_module": "@jupyter-widgets/base",
            "top": null,
            "grid_column": null,
            "overflow_y": null,
            "overflow_x": null,
            "grid_auto_flow": null,
            "grid_area": null,
            "grid_template_columns": null,
            "flex": null,
            "_model_name": "LayoutModel",
            "justify_items": null,
            "grid_row": null,
            "max_height": null,
            "align_content": null,
            "visibility": null,
            "align_self": null,
            "height": null,
            "min_height": null,
            "padding": null,
            "grid_auto_rows": null,
            "grid_gap": null,
            "max_width": null,
            "order": null,
            "_view_module_version": "1.2.0",
            "grid_template_areas": null,
            "object_position": null,
            "object_fit": null,
            "grid_auto_columns": null,
            "margin": null,
            "display": null,
            "left": null
          }
        },
        "65af1f00edb14ed182567f899b7b0e97": {
          "model_module": "@jupyter-widgets/controls",
          "model_name": "DescriptionStyleModel",
          "state": {
            "_view_name": "StyleView",
            "_model_name": "DescriptionStyleModel",
            "description_width": "",
            "_view_module": "@jupyter-widgets/base",
            "_model_module_version": "1.5.0",
            "_view_count": null,
            "_view_module_version": "1.2.0",
            "_model_module": "@jupyter-widgets/controls"
          }
        },
        "3c47b13355f5415db34afab34f8bade6": {
          "model_module": "@jupyter-widgets/base",
          "model_name": "LayoutModel",
          "state": {
            "_view_name": "LayoutView",
            "grid_template_rows": null,
            "right": null,
            "justify_content": null,
            "_view_module": "@jupyter-widgets/base",
            "overflow": null,
            "_model_module_version": "1.2.0",
            "_view_count": null,
            "flex_flow": null,
            "width": null,
            "min_width": null,
            "border": null,
            "align_items": null,
            "bottom": null,
            "_model_module": "@jupyter-widgets/base",
            "top": null,
            "grid_column": null,
            "overflow_y": null,
            "overflow_x": null,
            "grid_auto_flow": null,
            "grid_area": null,
            "grid_template_columns": null,
            "flex": null,
            "_model_name": "LayoutModel",
            "justify_items": null,
            "grid_row": null,
            "max_height": null,
            "align_content": null,
            "visibility": null,
            "align_self": null,
            "height": null,
            "min_height": null,
            "padding": null,
            "grid_auto_rows": null,
            "grid_gap": null,
            "max_width": null,
            "order": null,
            "_view_module_version": "1.2.0",
            "grid_template_areas": null,
            "object_position": null,
            "object_fit": null,
            "grid_auto_columns": null,
            "margin": null,
            "display": null,
            "left": null
          }
        }
      }
    }
  },
  "cells": [
    {
      "cell_type": "markdown",
      "metadata": {
        "id": "view-in-github",
        "colab_type": "text"
      },
      "source": [
        "<a href=\"https://colab.research.google.com/github/farhanfuadabir/Nurse-Care-Challenge-2020/blob/main/1D_CNN_Nurse_Care_Dataset.ipynb\" target=\"_parent\"><img src=\"https://colab.research.google.com/assets/colab-badge.svg\" alt=\"Open In Colab\"/></a>"
      ]
    },
    {
      "cell_type": "code",
      "metadata": {
        "colab": {
          "base_uri": "https://localhost:8080/"
        },
        "id": "HGE-kKDZ3Sla",
        "outputId": "5420d132-e432-4c4c-d49b-d82899dd57f3"
      },
      "source": [
        "from google.colab import drive\n",
        "drive.mount('/content/drive')"
      ],
      "execution_count": 1,
      "outputs": [
        {
          "output_type": "stream",
          "text": [
            "Mounted at /content/drive\n"
          ],
          "name": "stdout"
        }
      ]
    },
    {
      "cell_type": "markdown",
      "metadata": {
        "id": "wdExAX7D2vtO"
      },
      "source": [
        "# Dependencies"
      ]
    },
    {
      "cell_type": "code",
      "metadata": {
        "id": "Z0Lzri_qzyT0"
      },
      "source": [
        "# cnn model\n",
        "import numpy as np\n",
        "import pandas as pd\n",
        "from matplotlib import pyplot\n",
        "from joblib import load, dump\n",
        "from tqdm.notebook import tqdm\n",
        "from keras.models import Sequential\n",
        "from keras.layers import Dense\n",
        "from keras.layers import Flatten\n",
        "from keras.layers import Dropout\n",
        "from keras.layers.convolutional import Conv1D\n",
        "from keras.layers.convolutional import MaxPooling1D\n",
        "from keras.utils import to_categorical"
      ],
      "execution_count": 2,
      "outputs": []
    },
    {
      "cell_type": "markdown",
      "metadata": {
        "id": "CI3_XJduyfUJ"
      },
      "source": [
        "# Process Windowed Dataset for CNN"
      ]
    },
    {
      "cell_type": "code",
      "metadata": {
        "id": "N14xoSGVU0ga"
      },
      "source": [
        "# load a single file as a numpy array\r\n",
        "def load_file(filepath):\r\n",
        "  dataframe = load(filepath)\r\n",
        "  return dataframe.values\r\n",
        " \r\n",
        "# load a list of files and return as a 3d numpy array\r\n",
        "def load_group(filenames, path):\r\n",
        "\tloaded = list()\r\n",
        "\tfor name in filenames:\r\n",
        "\t\tdata = load_file(path + name)\r\n",
        "\t\tloaded.append(data)\r\n",
        "\t# stack group so that features are the 3rd dimension\r\n",
        "\tloaded = np.dstack(loaded)\r\n",
        "\treturn loaded\r\n",
        " \r\n",
        "# load a dataset group, such as train or test\r\n",
        "def load_dataset_group(group, path):\r\n",
        "\t# load all 3 files as a single array\r\n",
        "\tfilenames = ['acc_x_' + group + '.joblib', 'acc_y_' + group + '.joblib', \r\n",
        "              'acc_z_' + group + '.joblib']\r\n",
        "\t# load input data\r\n",
        "\tX = load_group(filenames, path)\r\n",
        "\t# load class output\r\n",
        "\ty = load_file(path + 'label_' + group + '.joblib')\r\n",
        "\treturn X, y\r\n",
        " \r\n",
        "# load the dataset, returns train and test X and y elements\r\n",
        "def load_dataset(path):\r\n",
        "  # load all train\r\n",
        "  trainX, trainy = load_dataset_group('train', path)\r\n",
        "  print('trainX shape: ', trainX.shape, '   |   trainy shape: ', trainy.shape)\r\n",
        "  # load all test\r\n",
        "  testX, testy = load_dataset_group('test', path)\r\n",
        "  print('testX shape: ', testX.shape, '   |   testy shape: ', testy.shape)\r\n",
        "  # zero-offset class values\r\n",
        "  trainy = trainy - 1\r\n",
        "  testy = testy - 1\r\n",
        "  # one hot encode y\r\n",
        "  trainy = to_categorical(trainy)\r\n",
        "  testy = to_categorical(testy)\r\n",
        "  print('Final Dataset shape: \\n\\nTrain Set: ', end='')\r\n",
        "  print(trainX.shape, '<----->', trainy.shape, '\\nTest Set: ', testX.shape, '<----->', testy.shape)\r\n",
        "  return trainX, trainy, testX, testy"
      ],
      "execution_count": 3,
      "outputs": []
    },
    {
      "cell_type": "code",
      "metadata": {
        "colab": {
          "base_uri": "https://localhost:8080/"
        },
        "id": "f-ASwCghRSJd",
        "outputId": "a688d308-9c59-4fc3-fd4a-cc73aa235371"
      },
      "source": [
        "# load data\r\n",
        "dataset_path = '/content/drive/MyDrive/Research/NCC Train Test Set (Resampled 20Hz)/Split 80 20/Windowed 1000/'\r\n",
        "trainX, trainy, testX, testy = load_dataset(dataset_path)"
      ],
      "execution_count": 4,
      "outputs": [
        {
          "output_type": "stream",
          "text": [
            "trainX shape:  (85612, 1000, 3)    |   trainy shape:  (85612,)\n",
            "testX shape:  (20485, 1000, 3)    |   testy shape:  (20485,)\n",
            "Final Dataset shape: \n",
            "\n",
            "Train Set: (85612, 1000, 3) <-----> (85612, 12) \n",
            "Test Set:  (20485, 1000, 3) <-----> (20485, 12)\n"
          ],
          "name": "stdout"
        }
      ]
    },
    {
      "cell_type": "markdown",
      "metadata": {
        "id": "9Osl1Rt2VlOt"
      },
      "source": [
        "# CNN Model"
      ]
    },
    {
      "cell_type": "code",
      "metadata": {
        "id": "3OVlA6CDRLWE"
      },
      "source": [
        "from keras import backend as K\r\n",
        "\r\n",
        "def recall_m(y_true, y_pred):\r\n",
        "  true_positives = K.sum(K.round(K.clip(y_true * y_pred, 0, 1)))\r\n",
        "  possible_positives = K.sum(K.round(K.clip(y_true, 0, 1)))\r\n",
        "  recall = true_positives / (possible_positives + K.epsilon())\r\n",
        "  return recall\r\n",
        "\r\n",
        "def precision_m(y_true, y_pred):\r\n",
        "  true_positives = K.sum(K.round(K.clip(y_true * y_pred, 0, 1)))\r\n",
        "  predicted_positives = K.sum(K.round(K.clip(y_pred, 0, 1)))\r\n",
        "  precision = true_positives / (predicted_positives + K.epsilon())\r\n",
        "  return precision\r\n",
        "\r\n",
        "def f1_m(y_true, y_pred):\r\n",
        "  precision = precision_m(y_true, y_pred)\r\n",
        "  recall = recall_m(y_true, y_pred)\r\n",
        "  return 2*((precision*recall)/(precision+recall+K.epsilon()))\r\n",
        "\r\n",
        "# fit and evaluate a model\r\n",
        "def evaluate_model(trainX, trainy, testX, testy, verbose, epochs, batch_size):\r\n",
        "  n_timesteps, n_features, n_outputs = trainX.shape[1], trainX.shape[2], trainy.shape[1]\r\n",
        "  model = Sequential()\r\n",
        "  model.add(Conv1D(filters=64, kernel_size=3, activation='relu', input_shape=(n_timesteps,n_features)))\r\n",
        "  model.add(Conv1D(filters=64, kernel_size=3, activation='relu'))\r\n",
        "  model.add(Dropout(0.5))\r\n",
        "  model.add(MaxPooling1D(pool_size=2))\r\n",
        "  model.add(Flatten())\r\n",
        "  model.add(Dense(100, activation='relu'))\r\n",
        "  model.add(Dense(n_outputs, activation='softmax'))\r\n",
        "  model.compile(loss='categorical_crossentropy', optimizer='adam', \r\n",
        "                metrics=['categorical_accuracy', f1_m, precision_m, recall_m])\r\n",
        "  # fit network\r\n",
        "  # model.fit(trainX, trainy, epochs=epochs, batch_size=batch_size, verbose=verbose)\r\n",
        "  # # evaluate model\r\n",
        "  # _, accuracy = model.evaluate(testX, testy, batch_size=batch_size, verbose=0)\r\n",
        "  import time\r\n",
        "  t_start = time.clock()\r\n",
        "  from keras import callbacks \r\n",
        "  earlystopping = callbacks.EarlyStopping(monitor =\"val_loss\", mode =\"min\", \r\n",
        "                                          patience = 50, verbose = 1, \r\n",
        "                                          restore_best_weights = True) \r\n",
        "\r\n",
        "  history = model.fit(trainX, trainy, batch_size = batch_size,  \r\n",
        "                      epochs = epochs, validation_data =(testX, testy),  \r\n",
        "                      callbacks =[earlystopping]) \r\n",
        "  #history = model.fit(trainX, trainy, epochs=epochs, batch_size=batch_size, verbose=verbose)\r\n",
        "\r\n",
        "  t_end = time.clock()\r\n",
        "\r\n",
        "  print('\\n-------------------\\n')\r\n",
        "\r\n",
        "  #_, accuracy_train = model.evaluate(X_train, y_train)\r\n",
        "  loss_train, accuracy_train, f1_score_train, precision_train, recall_train = model.evaluate(trainX, trainy, verbose=1)\r\n",
        "  print('Train Accuracy: %.2f' % (accuracy_train*100))\r\n",
        "  print('Train F1 Score: %.2f' % (f1_score_train*100))\r\n",
        "  print('Train Time: ', t_end - t_start)\r\n",
        "\r\n",
        "  t_start = time.clock()\r\n",
        "  #_, accuracy_test = model.evaluate(X_test, y_test)\r\n",
        "  loss_test, accuracy_test, f1_score_test, precision_test, recall_test = model.evaluate(testX, testy, verbose=1)\r\n",
        "  print('Test Accuracy: %.2f' % (accuracy_test*100))\r\n",
        "  print('Test F1 Score: %.2f' % (f1_score_test*100))\r\n",
        "  t_end = time.clock()\r\n",
        "  print('Test Time: ', t_end - t_start)\r\n",
        "\r\n",
        "  return f1_score_test, history\r\n",
        " \r\n",
        "# summarize scores\r\n",
        "def summarize_results(scores):\r\n",
        "\tprint(scores)\r\n",
        "\tm, s = np.mean(scores), np.std(scores)\r\n",
        "\tprint('Accuracy: %.3f%% (+/-%.3f)' % (m, s))\r\n",
        " \r\n",
        "# run an experiment\r\n",
        "def run_experiment(repeats=10, verbose=False, epochs=10, batch_size=32):\r\n",
        "  # repeat experiment\r\n",
        "  scores = list()\r\n",
        "  for r in tqdm(range(repeats)):\r\n",
        "    score, history = evaluate_model(trainX, trainy, testX, testy, verbose, epochs, batch_size)\r\n",
        "    print('Score:', '%.3f' % (score * 100.0))\r\n",
        "    scores.append(score)\r\n",
        "  # summarize results\r\n",
        "  summarize_results(scores)"
      ],
      "execution_count": 12,
      "outputs": []
    },
    {
      "cell_type": "markdown",
      "metadata": {
        "id": "bI39XiUQXvqc"
      },
      "source": [
        "## Train"
      ]
    },
    {
      "cell_type": "code",
      "metadata": {
        "id": "q1ghlsSpVu9S",
        "colab": {
          "base_uri": "https://localhost:8080/"
        },
        "outputId": "4a57e88e-9f6e-49ce-a8e7-e8015888a635"
      },
      "source": [
        "# for single iteration\r\n",
        "score, history = evaluate_model(trainX, trainy, testX, testy, verbose=True, epochs=150, batch_size=16)\r\n",
        "print('Score:', '%.3f' % (score * 100.0))"
      ],
      "execution_count": null,
      "outputs": [
        {
          "output_type": "stream",
          "text": [
            "Epoch 1/150\n",
            "5351/5351 [==============================] - 29s 5ms/step - loss: 1.0412 - categorical_accuracy: 0.6508 - f1_m: 0.6057 - precision_m: 0.7572 - recall_m: 0.5144 - val_loss: 0.7426 - val_categorical_accuracy: 0.6920 - val_f1_m: 0.6600 - val_precision_m: 0.6702 - val_recall_m: 0.6575\n",
            "Epoch 2/150\n",
            "5351/5351 [==============================] - 28s 5ms/step - loss: 0.7203 - categorical_accuracy: 0.7015 - f1_m: 0.6849 - precision_m: 0.7730 - recall_m: 0.6206 - val_loss: 0.8082 - val_categorical_accuracy: 0.6958 - val_f1_m: 0.6767 - val_precision_m: 0.6883 - val_recall_m: 0.6730\n",
            "Epoch 3/150\n",
            "5351/5351 [==============================] - 27s 5ms/step - loss: 0.7430 - categorical_accuracy: 0.7006 - f1_m: 0.6805 - precision_m: 0.7712 - recall_m: 0.6154 - val_loss: 1.0604 - val_categorical_accuracy: 0.7126 - val_f1_m: 0.6802 - val_precision_m: 0.6956 - val_recall_m: 0.6758\n",
            "Epoch 4/150\n",
            "5351/5351 [==============================] - 27s 5ms/step - loss: 0.7999 - categorical_accuracy: 0.6988 - f1_m: 0.6857 - precision_m: 0.7496 - recall_m: 0.6357 - val_loss: 1.1111 - val_categorical_accuracy: 0.7066 - val_f1_m: 0.6721 - val_precision_m: 0.6921 - val_recall_m: 0.6665\n",
            "Epoch 5/150\n",
            "5351/5351 [==============================] - 28s 5ms/step - loss: 0.8401 - categorical_accuracy: 0.6869 - f1_m: 0.6757 - precision_m: 0.7340 - recall_m: 0.6292 - val_loss: 0.9207 - val_categorical_accuracy: 0.7396 - val_f1_m: 0.7040 - val_precision_m: 0.7310 - val_recall_m: 0.6965\n",
            "Epoch 6/150\n",
            "5351/5351 [==============================] - 28s 5ms/step - loss: 0.7343 - categorical_accuracy: 0.7140 - f1_m: 0.7089 - precision_m: 0.7657 - recall_m: 0.6633 - val_loss: 1.1843 - val_categorical_accuracy: 0.7244 - val_f1_m: 0.7010 - val_precision_m: 0.7258 - val_recall_m: 0.6931\n",
            "Epoch 7/150\n",
            "5351/5351 [==============================] - 27s 5ms/step - loss: 0.8292 - categorical_accuracy: 0.6891 - f1_m: 0.6801 - precision_m: 0.7332 - recall_m: 0.6371 - val_loss: 1.2147 - val_categorical_accuracy: 0.6949 - val_f1_m: 0.6831 - val_precision_m: 0.6931 - val_recall_m: 0.6796\n",
            "Epoch 8/150\n",
            "5351/5351 [==============================] - 28s 5ms/step - loss: 0.8280 - categorical_accuracy: 0.6913 - f1_m: 0.6850 - precision_m: 0.7318 - recall_m: 0.6466 - val_loss: 1.2186 - val_categorical_accuracy: 0.7108 - val_f1_m: 0.6840 - val_precision_m: 0.7084 - val_recall_m: 0.6774\n",
            "Epoch 9/150\n",
            "5351/5351 [==============================] - 28s 5ms/step - loss: 0.8143 - categorical_accuracy: 0.6970 - f1_m: 0.6916 - precision_m: 0.7373 - recall_m: 0.6540 - val_loss: 1.0820 - val_categorical_accuracy: 0.7442 - val_f1_m: 0.7006 - val_precision_m: 0.7375 - val_recall_m: 0.6904\n",
            "Epoch 10/150\n",
            "5351/5351 [==============================] - 27s 5ms/step - loss: 0.8784 - categorical_accuracy: 0.6971 - f1_m: 0.6921 - precision_m: 0.7370 - recall_m: 0.6551 - val_loss: 1.2459 - val_categorical_accuracy: 0.6983 - val_f1_m: 0.6749 - val_precision_m: 0.6879 - val_recall_m: 0.6703\n",
            "Epoch 11/150\n",
            "5351/5351 [==============================] - 28s 5ms/step - loss: 0.8073 - categorical_accuracy: 0.7029 - f1_m: 0.7015 - precision_m: 0.7422 - recall_m: 0.6676 - val_loss: 1.1338 - val_categorical_accuracy: 0.7305 - val_f1_m: 0.7114 - val_precision_m: 0.7322 - val_recall_m: 0.7034\n",
            "Epoch 12/150\n",
            "5351/5351 [==============================] - 28s 5ms/step - loss: 0.8537 - categorical_accuracy: 0.7067 - f1_m: 0.7049 - precision_m: 0.7453 - recall_m: 0.6713 - val_loss: 1.1722 - val_categorical_accuracy: 0.7318 - val_f1_m: 0.7046 - val_precision_m: 0.7278 - val_recall_m: 0.6959\n",
            "Epoch 13/150\n",
            "5351/5351 [==============================] - 28s 5ms/step - loss: 0.8271 - categorical_accuracy: 0.7175 - f1_m: 0.7163 - precision_m: 0.7517 - recall_m: 0.6863 - val_loss: 1.1844 - val_categorical_accuracy: 0.7256 - val_f1_m: 0.6909 - val_precision_m: 0.7190 - val_recall_m: 0.6827\n",
            "Epoch 14/150\n",
            "5351/5351 [==============================] - 28s 5ms/step - loss: 0.8412 - categorical_accuracy: 0.7118 - f1_m: 0.7109 - precision_m: 0.7476 - recall_m: 0.6799 - val_loss: 1.1797 - val_categorical_accuracy: 0.7086 - val_f1_m: 0.6848 - val_precision_m: 0.7027 - val_recall_m: 0.6788\n",
            "Epoch 15/150\n",
            "5351/5351 [==============================] - 28s 5ms/step - loss: 0.8390 - categorical_accuracy: 0.7176 - f1_m: 0.7158 - precision_m: 0.7517 - recall_m: 0.6854 - val_loss: 1.2197 - val_categorical_accuracy: 0.7198 - val_f1_m: 0.6888 - val_precision_m: 0.7057 - val_recall_m: 0.6831\n",
            "Epoch 16/150\n",
            "5351/5351 [==============================] - 28s 5ms/step - loss: 0.8028 - categorical_accuracy: 0.7235 - f1_m: 0.7218 - precision_m: 0.7573 - recall_m: 0.6916 - val_loss: 1.1774 - val_categorical_accuracy: 0.7798 - val_f1_m: 0.7216 - val_precision_m: 0.7614 - val_recall_m: 0.7095\n",
            "Epoch 17/150\n",
            "5351/5351 [==============================] - 28s 5ms/step - loss: 0.8102 - categorical_accuracy: 0.7201 - f1_m: 0.7207 - precision_m: 0.7530 - recall_m: 0.6929 - val_loss: 1.1546 - val_categorical_accuracy: 0.7228 - val_f1_m: 0.6953 - val_precision_m: 0.7147 - val_recall_m: 0.6888\n",
            "Epoch 18/150\n",
            "5351/5351 [==============================] - 28s 5ms/step - loss: 0.8117 - categorical_accuracy: 0.7209 - f1_m: 0.7204 - precision_m: 0.7546 - recall_m: 0.6912 - val_loss: 1.2933 - val_categorical_accuracy: 0.7229 - val_f1_m: 0.6962 - val_precision_m: 0.7178 - val_recall_m: 0.6888\n",
            "Epoch 19/150\n",
            "5351/5351 [==============================] - 28s 5ms/step - loss: 0.7805 - categorical_accuracy: 0.7283 - f1_m: 0.7285 - precision_m: 0.7613 - recall_m: 0.7005 - val_loss: 1.3652 - val_categorical_accuracy: 0.7228 - val_f1_m: 0.6938 - val_precision_m: 0.7111 - val_recall_m: 0.6876\n",
            "Epoch 20/150\n",
            "5351/5351 [==============================] - 28s 5ms/step - loss: 0.8062 - categorical_accuracy: 0.7256 - f1_m: 0.7245 - precision_m: 0.7580 - recall_m: 0.6959 - val_loss: 1.2330 - val_categorical_accuracy: 0.7948 - val_f1_m: 0.7204 - val_precision_m: 0.7648 - val_recall_m: 0.7076\n",
            "Epoch 21/150\n",
            "5351/5351 [==============================] - 28s 5ms/step - loss: 0.8036 - categorical_accuracy: 0.7277 - f1_m: 0.7255 - precision_m: 0.7584 - recall_m: 0.6974 - val_loss: 1.3333 - val_categorical_accuracy: 0.7417 - val_f1_m: 0.7050 - val_precision_m: 0.7297 - val_recall_m: 0.6969\n",
            "Epoch 22/150\n",
            "5351/5351 [==============================] - 28s 5ms/step - loss: 0.7767 - categorical_accuracy: 0.7323 - f1_m: 0.7316 - precision_m: 0.7632 - recall_m: 0.7044 - val_loss: 1.4557 - val_categorical_accuracy: 0.7378 - val_f1_m: 0.6914 - val_precision_m: 0.7112 - val_recall_m: 0.6850\n",
            "Epoch 23/150\n",
            "5351/5351 [==============================] - 28s 5ms/step - loss: 0.7881 - categorical_accuracy: 0.7306 - f1_m: 0.7326 - precision_m: 0.7650 - recall_m: 0.7047 - val_loss: 1.5301 - val_categorical_accuracy: 0.7547 - val_f1_m: 0.7164 - val_precision_m: 0.7400 - val_recall_m: 0.7073\n",
            "Epoch 24/150\n",
            "5351/5351 [==============================] - 28s 5ms/step - loss: 0.7361 - categorical_accuracy: 0.7284 - f1_m: 0.7286 - precision_m: 0.7631 - recall_m: 0.6993 - val_loss: 1.8799 - val_categorical_accuracy: 0.7081 - val_f1_m: 0.6890 - val_precision_m: 0.7006 - val_recall_m: 0.6850\n",
            "Epoch 25/150\n",
            "5351/5351 [==============================] - 28s 5ms/step - loss: 0.7795 - categorical_accuracy: 0.7329 - f1_m: 0.7337 - precision_m: 0.7670 - recall_m: 0.7052 - val_loss: 1.4743 - val_categorical_accuracy: 0.7210 - val_f1_m: 0.7031 - val_precision_m: 0.7201 - val_recall_m: 0.6975\n",
            "Epoch 26/150\n",
            "5351/5351 [==============================] - 28s 5ms/step - loss: 0.7716 - categorical_accuracy: 0.7319 - f1_m: 0.7327 - precision_m: 0.7653 - recall_m: 0.7048 - val_loss: 1.6094 - val_categorical_accuracy: 0.7609 - val_f1_m: 0.7215 - val_precision_m: 0.7485 - val_recall_m: 0.7132\n",
            "Epoch 27/150\n",
            "5351/5351 [==============================] - 28s 5ms/step - loss: 0.7715 - categorical_accuracy: 0.7349 - f1_m: 0.7369 - precision_m: 0.7685 - recall_m: 0.7098 - val_loss: 1.4006 - val_categorical_accuracy: 0.7819 - val_f1_m: 0.7280 - val_precision_m: 0.7625 - val_recall_m: 0.7171\n",
            "Epoch 28/150\n",
            "5351/5351 [==============================] - 28s 5ms/step - loss: 0.7727 - categorical_accuracy: 0.7362 - f1_m: 0.7375 - precision_m: 0.7699 - recall_m: 0.7097 - val_loss: 1.5727 - val_categorical_accuracy: 0.7936 - val_f1_m: 0.7685 - val_precision_m: 0.7915 - val_recall_m: 0.7592\n",
            "Epoch 29/150\n",
            "5351/5351 [==============================] - 28s 5ms/step - loss: 0.8009 - categorical_accuracy: 0.7302 - f1_m: 0.7298 - precision_m: 0.7676 - recall_m: 0.6979 - val_loss: 2.1743 - val_categorical_accuracy: 0.7457 - val_f1_m: 0.7120 - val_precision_m: 0.7347 - val_recall_m: 0.7036\n",
            "Epoch 30/150\n",
            "3983/5351 [=====================>........] - ETA: 6s - loss: 0.7857 - categorical_accuracy: 0.7339 - f1_m: 0.7358 - precision_m: 0.7671 - recall_m: 0.7089"
          ],
          "name": "stdout"
        }
      ]
    },
    {
      "cell_type": "markdown",
      "metadata": {
        "id": "YrA_FnerC3xe"
      },
      "source": [
        "## **1D CNN Model Summary**\r\n",
        "\r\n",
        "| Window | Batch Size | Optimal Epoch | Train Accuracy | Train F1 | Train Time | Validation Accuracy | Validation F1 | Validation Time |\r\n",
        "| :---: | :----: | :---: | :---: | :----: | :---: | :---: | :---: | :---: |\r\n",
        "| 1000pt - 20Hz | 16 |||||||\r\n",
        "| 1000pt - 20Hz | 25 |||||||\r\n",
        "| 1000pt - 20Hz | 32 |||||||\r\n",
        "| 250pt - 20Hz | 16 |||||||\r\n",
        "| 250pt - 20Hz | 25 |||||||\r\n",
        "| 250pt - 20Hz | 32 |||||||"
      ]
    },
    {
      "cell_type": "markdown",
      "metadata": {
        "id": "DM0bejafiVXK"
      },
      "source": [
        "\r\n",
        "\r\n",
        "\r\n",
        "##### Optimal Epoch = 53, Batch Size = 32\r\n",
        "```\r\n",
        "2676/2676 [==============================] - 11s 4ms/step - loss: 0.5618 - categorical_accuracy: 0.7734 - f1_m: 0.6865 - precision_m: 0.7623 - recall_m: 0.6639\r\n",
        "Train Accuracy: 77.34\r\n",
        "Train F1 Score: 68.65\r\n",
        "Train Time:  1015.086157\r\n",
        "641/641 [==============================] - 2s 4ms/step - loss: 0.7160 - categorical_accuracy: 0.7338 - f1_m: 0.6913 - precision_m: 0.7218 - recall_m: 0.6833\r\n",
        "Test Accuracy: 73.38\r\n",
        "Test F1 Score: 69.13\r\n",
        "Test Time:  2.7324439999999868\r\n",
        "```\r\n",
        "##### Epoch = 100, Batch Size = 16\r\n",
        "```\r\n",
        "6058/6058 [==============================] - 16s 3ms/step - loss: 0.8060 - categorical_accuracy: 0.7124 - f1_m: 0.6629 - precision_m: 0.7169 - recall_m: 0.6431\r\n",
        "Train Accuracy: 71.24\r\n",
        "Train F1 Score: 66.29\r\n",
        "Train Time:  5139.016927000001\r\n",
        "1507/1507 [==============================] - 4s 3ms/step - loss: 1.3907 - categorical_accuracy: 0.6718 - f1_m: 0.6433 - precision_m: 0.6773 - recall_m: 0.6312\r\n",
        "Test Accuracy: 67.18\r\n",
        "Test F1 Score: 64.33\r\n",
        "Test Time:  5.47839599999952\r\n",
        "Score: 64.328\r\n",
        "```\r\n"
      ]
    },
    {
      "cell_type": "code",
      "metadata": {
        "colab": {
          "base_uri": "https://localhost:8080/",
          "height": 295
        },
        "id": "DZwbf5Zq3kAT",
        "outputId": "f249439f-c445-4082-827b-e69eabf7f1bc"
      },
      "source": [
        "import matplotlib.pyplot as plt\r\n",
        "plt.plot(history.history['loss'])\r\n",
        "plt.plot(history.history['val_loss'])\r\n",
        "plt.title('Model Accuracy')\r\n",
        "plt.ylabel('accuracy')\r\n",
        "plt.xlabel('epoch')\r\n",
        "plt.legend(['train', 'test'], loc='upper left')\r\n",
        "plt.show()"
      ],
      "execution_count": 11,
      "outputs": [
        {
          "output_type": "display_data",
          "data": {
            "image/png": "[encoded data removed]",
            "text/plain": [
              "<Figure size 432x288 with 1 Axes>"
            ]
          },
          "metadata": {
            "tags": [],
            "needs_background": "light"
          }
        }
      ]
    },
    {
      "cell_type": "code",
      "metadata": {
        "id": "lVm4ma-dy3ie",
        "colab": {
          "base_uri": "https://localhost:8080/",
          "height": 1000,
          "referenced_widgets": [
            "1c80400a678a4c8aafc7c1d4b8a5bbfd",
            "eeb6b76a36fc4b78a7506ab23dec7b6b",
            "4e16c2e4679748a9be54ecdb794b62ad",
            "7be9b28703634faebcab0e0b7f1813d6",
            "8886ff6707b74c1fb4853083e6a8ade8",
            "d4aa373ba1064882b10e80cd0551d0dd",
            "65af1f00edb14ed182567f899b7b0e97",
            "3c47b13355f5415db34afab34f8bade6"
          ]
        },
        "outputId": "d415b158-6bd4-4dca-ef94-6504d21a0f1a"
      },
      "source": [
        "# run the experiment for interations\n",
        "run_experiment(10, verbose=False, epochs=40, batch_size=32)"
      ],
      "execution_count": null,
      "outputs": [
        {
          "output_type": "display_data",
          "data": {
            "application/vnd.jupyter.widget-view+json": {
              "model_id": "1c80400a678a4c8aafc7c1d4b8a5bbfd",
              "version_minor": 0,
              "version_major": 2
            },
            "text/plain": [
              "HBox(children=(FloatProgress(value=0.0, max=10.0), HTML(value='')))"
            ]
          },
          "metadata": {
            "tags": []
          }
        },
        {
          "output_type": "stream",
          "text": [
            "\n",
            "-------------------\n",
            "\n",
            "6058/6058 [==============================] - 15s 2ms/step - loss: 0.6889 - categorical_accuracy: 0.7361 - f1_m: 0.6779 - precision_m: 0.7449 - recall_m: 0.6560\n",
            "Train Accuracy: 73.61\n",
            "Train F1 Score: 67.79\n",
            "Train Time:  748.2750169999999\n",
            "1507/1507 [==============================] - 4s 2ms/step - loss: 1.2579 - categorical_accuracy: 0.6757 - f1_m: 0.6431 - precision_m: 0.6928 - recall_m: 0.6246\n",
            "Test Accuracy: 67.57\n",
            "Test F1 Score: 64.31\n",
            "Test Time:  4.866907999999967\n",
            "Score: 6430.920\n",
            "\n",
            "-------------------\n",
            "\n",
            "6058/6058 [==============================] - 15s 2ms/step - loss: 0.6836 - categorical_accuracy: 0.7371 - f1_m: 0.6850 - precision_m: 0.7489 - recall_m: 0.6637\n",
            "Train Accuracy: 73.71\n",
            "Train F1 Score: 68.50\n",
            "Train Time:  745.265728\n",
            "1507/1507 [==============================] - 4s 2ms/step - loss: 1.2347 - categorical_accuracy: 0.6818 - f1_m: 0.6520 - precision_m: 0.6941 - recall_m: 0.6330\n",
            "Test Accuracy: 68.18\n",
            "Test F1 Score: 65.20\n",
            "Test Time:  4.843038999999862\n",
            "Score: 6519.679\n",
            "\n",
            "-------------------\n",
            "\n",
            "6058/6058 [==============================] - 15s 2ms/step - loss: 0.7073 - categorical_accuracy: 0.7344 - f1_m: 0.6804 - precision_m: 0.7451 - recall_m: 0.6550\n",
            "Train Accuracy: 73.44\n",
            "Train F1 Score: 68.04\n",
            "Train Time:  746.228059\n",
            "1507/1507 [==============================] - 4s 2ms/step - loss: 1.2786 - categorical_accuracy: 0.6578 - f1_m: 0.6298 - precision_m: 0.6651 - recall_m: 0.6158\n",
            "Test Accuracy: 65.78\n",
            "Test F1 Score: 62.98\n",
            "Test Time:  4.849640000000363\n",
            "Score: 6297.508\n",
            "\n",
            "-------------------\n",
            "\n",
            "6058/6058 [==============================] - 15s 2ms/step - loss: 0.6810 - categorical_accuracy: 0.7371 - f1_m: 0.6710 - precision_m: 0.7466 - recall_m: 0.6423\n",
            "Train Accuracy: 73.71\n",
            "Train F1 Score: 67.10\n",
            "Train Time:  748.1489569999999\n",
            "1507/1507 [==============================] - 4s 2ms/step - loss: 1.5204 - categorical_accuracy: 0.6496 - f1_m: 0.6143 - precision_m: 0.6670 - recall_m: 0.5943\n",
            "Test Accuracy: 64.96\n",
            "Test F1 Score: 61.43\n",
            "Test Time:  4.869331000000329\n",
            "Score: 6142.884\n",
            "\n",
            "-------------------\n",
            "\n",
            "6058/6058 [==============================] - 15s 2ms/step - loss: 0.6756 - categorical_accuracy: 0.7411 - f1_m: 0.6810 - precision_m: 0.7535 - recall_m: 0.6563\n",
            "Train Accuracy: 74.11\n",
            "Train F1 Score: 68.10\n",
            "Train Time:  759.7769090000002\n",
            "1507/1507 [==============================] - 4s 2ms/step - loss: 1.2220 - categorical_accuracy: 0.6603 - f1_m: 0.6266 - precision_m: 0.6736 - recall_m: 0.6086\n",
            "Test Accuracy: 66.03\n",
            "Test F1 Score: 62.66\n",
            "Test Time:  4.872718000000077\n",
            "Score: 6265.892\n",
            "\n",
            "-------------------\n",
            "\n",
            "6058/6058 [==============================] - 15s 2ms/step - loss: 0.7204 - categorical_accuracy: 0.7260 - f1_m: 0.6552 - precision_m: 0.7389 - recall_m: 0.6250\n",
            "Train Accuracy: 72.60\n",
            "Train F1 Score: 65.52\n",
            "Train Time:  755.7374979999995\n",
            "1507/1507 [==============================] - 4s 2ms/step - loss: 1.2267 - categorical_accuracy: 0.6774 - f1_m: 0.6397 - precision_m: 0.6928 - recall_m: 0.6214\n",
            "Test Accuracy: 67.74\n",
            "Test F1 Score: 63.97\n",
            "Test Time:  4.881212000000232\n",
            "Score: 6397.259\n",
            "\n",
            "-------------------\n",
            "\n",
            "6058/6058 [==============================] - 15s 2ms/step - loss: 0.6898 - categorical_accuracy: 0.7370 - f1_m: 0.6747 - precision_m: 0.7483 - recall_m: 0.6477\n",
            "Train Accuracy: 73.70\n",
            "Train F1 Score: 67.47\n",
            "Train Time:  747.8278490000002\n",
            "1507/1507 [==============================] - 4s 3ms/step - loss: 1.2509 - categorical_accuracy: 0.6871 - f1_m: 0.6543 - precision_m: 0.7012 - recall_m: 0.6357\n",
            "Test Accuracy: 68.71\n",
            "Test F1 Score: 65.43\n",
            "Test Time:  4.901785000000018\n",
            "Score: 6542.745\n",
            "\n",
            "-------------------\n",
            "\n",
            "6058/6058 [==============================] - 15s 2ms/step - loss: 0.6844 - categorical_accuracy: 0.7408 - f1_m: 0.6772 - precision_m: 0.7506 - recall_m: 0.6534\n",
            "Train Accuracy: 74.08\n",
            "Train F1 Score: 67.72\n",
            "Train Time:  747.5787040000005\n",
            "1507/1507 [==============================] - 4s 2ms/step - loss: 1.4777 - categorical_accuracy: 0.6706 - f1_m: 0.6272 - precision_m: 0.6800 - recall_m: 0.6076\n",
            "Test Accuracy: 67.06\n",
            "Test F1 Score: 62.72\n",
            "Test Time:  4.875426999999945\n",
            "Score: 6272.326\n",
            "\n",
            "-------------------\n",
            "\n",
            "6058/6058 [==============================] - 15s 2ms/step - loss: 0.6845 - categorical_accuracy: 0.7370 - f1_m: 0.6834 - precision_m: 0.7492 - recall_m: 0.6615\n",
            "Train Accuracy: 73.70\n",
            "Train F1 Score: 68.34\n",
            "Train Time:  750.2016519999997\n",
            "1507/1507 [==============================] - 4s 2ms/step - loss: 1.2694 - categorical_accuracy: 0.6912 - f1_m: 0.6639 - precision_m: 0.7042 - recall_m: 0.6476\n",
            "Test Accuracy: 69.12\n",
            "Test F1 Score: 66.39\n",
            "Test Time:  4.850257000000056\n",
            "Score: 6639.267\n",
            "\n",
            "-------------------\n",
            "\n",
            "6058/6058 [==============================] - 15s 2ms/step - loss: 0.6921 - categorical_accuracy: 0.7323 - f1_m: 0.6791 - precision_m: 0.7440 - recall_m: 0.6546\n",
            "Train Accuracy: 73.23\n",
            "Train F1 Score: 67.91\n",
            "Train Time:  749.3242440000004\n",
            "1507/1507 [==============================] - 4s 2ms/step - loss: 1.3363 - categorical_accuracy: 0.6672 - f1_m: 0.6342 - precision_m: 0.6790 - recall_m: 0.6162\n",
            "Test Accuracy: 66.72\n",
            "Test F1 Score: 63.42\n",
            "Test Time:  4.880282000000079\n",
            "Score: 6341.572\n",
            "\n",
            "[64.30919766426086, 65.19678831100464, 62.97507882118225, 61.428844928741455, 62.65891790390015, 63.97258639335632, 65.42744636535645, 62.7232551574707, 66.39267206192017, 63.41571807861328]\n",
            "Accuracy: 63.850% (+/-1.432)\n"
          ],
          "name": "stdout"
        }
      ]
    },
    {
      "cell_type": "markdown",
      "metadata": {
        "id": "R3yrtIFOYyMM"
      },
      "source": [
        "# Random Forest Model"
      ]
    },
    {
      "cell_type": "code",
      "metadata": {
        "id": "Q_siG1bHY11-"
      },
      "source": [
        "from sklearn.model_selection import train_test_split, cross_val_score\r\n",
        "from sklearn.metrics import classification_report, confusion_matrix, accuracy_score\r\n",
        "from sklearn.ensemble import RandomForestClassifier\r\n",
        "\r\n",
        "# load label set again\r\n",
        "trainy_2 = load_file(dataset_path + 'label_train.joblib')\r\n",
        "testy_2 = load_file(dataset_path + 'label_test.joblib')\r\n",
        "\r\n",
        "clf = RandomForestClassifier(verbose=True,n_jobs=-1)\r\n",
        "\r\n",
        "clf.fit(trainX, trainy_2)\r\n",
        "y_pred = clf.predict(testX)\r\n",
        "\r\n",
        "# Evaluate Algorithm\r\n",
        "print(\"\\n\\nConfusion Matrix: \\n\\n\",confusion_matrix(testy_2,y_pred))\r\n",
        "print(\"\\n\\nReport: \\n\\n\",classification_report(testy_2,y_pred))\r\n",
        "print(\"Accuracy: \",accuracy_score(testy_2,y_pred))"
      ],
      "execution_count": null,
      "outputs": []
    }
  ]
}