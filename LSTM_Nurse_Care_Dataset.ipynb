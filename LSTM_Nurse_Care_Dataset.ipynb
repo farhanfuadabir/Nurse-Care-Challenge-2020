{
  "nbformat": 4,
  "nbformat_minor": 0,
  "metadata": {
    "colab": {
      "name": "LSTM_Nurse_Care_Dataset.ipynb",
      "provenance": [],
      "collapsed_sections": [],
      "authorship_tag": "ABX9TyPrRn4WpFQWHgguSukecRNT",
      "include_colab_link": true
    },
    "kernelspec": {
      "name": "python3",
      "display_name": "Python 3"
    },
    "accelerator": "GPU",
    "widgets": {
      "application/vnd.jupyter.widget-state+json": {
        "81fa1cbdeef445fea1a1947219e6236d": {
          "model_module": "@jupyter-widgets/controls",
          "model_name": "HBoxModel",
          "state": {
            "_view_name": "HBoxView",
            "_dom_classes": [],
            "_model_name": "HBoxModel",
            "_view_module": "@jupyter-widgets/controls",
            "_model_module_version": "1.5.0",
            "_view_count": null,
            "_view_module_version": "1.5.0",
            "box_style": "",
            "layout": "IPY_MODEL_eecaa5eaf49d443ebaf98e5db123deed",
            "_model_module": "@jupyter-widgets/controls",
            "children": [
              "IPY_MODEL_fbdf53b379344b1195c637e45e7f3ac6",
              "IPY_MODEL_10c33d85994646468770c9c31e2a52ae"
            ]
          }
        },
        "eecaa5eaf49d443ebaf98e5db123deed": {
          "model_module": "@jupyter-widgets/base",
          "model_name": "LayoutModel",
          "state": {
            "_view_name": "LayoutView",
            "grid_template_rows": null,
            "right": null,
            "justify_content": null,
            "_view_module": "@jupyter-widgets/base",
            "overflow": null,
            "_model_module_version": "1.2.0",
            "_view_count": null,
            "flex_flow": null,
            "width": null,
            "min_width": null,
            "border": null,
            "align_items": null,
            "bottom": null,
            "_model_module": "@jupyter-widgets/base",
            "top": null,
            "grid_column": null,
            "overflow_y": null,
            "overflow_x": null,
            "grid_auto_flow": null,
            "grid_area": null,
            "grid_template_columns": null,
            "flex": null,
            "_model_name": "LayoutModel",
            "justify_items": null,
            "grid_row": null,
            "max_height": null,
            "align_content": null,
            "visibility": null,
            "align_self": null,
            "height": null,
            "min_height": null,
            "padding": null,
            "grid_auto_rows": null,
            "grid_gap": null,
            "max_width": null,
            "order": null,
            "_view_module_version": "1.2.0",
            "grid_template_areas": null,
            "object_position": null,
            "object_fit": null,
            "grid_auto_columns": null,
            "margin": null,
            "display": null,
            "left": null
          }
        },
        "fbdf53b379344b1195c637e45e7f3ac6": {
          "model_module": "@jupyter-widgets/controls",
          "model_name": "FloatProgressModel",
          "state": {
            "_view_name": "ProgressView",
            "style": "IPY_MODEL_7336cd5f710845779697d62f5b7ee87e",
            "_dom_classes": [],
            "description": " 10%",
            "_model_name": "FloatProgressModel",
            "bar_style": "",
            "max": 10,
            "_view_module": "@jupyter-widgets/controls",
            "_model_module_version": "1.5.0",
            "value": 1,
            "_view_count": null,
            "_view_module_version": "1.5.0",
            "orientation": "horizontal",
            "min": 0,
            "description_tooltip": null,
            "_model_module": "@jupyter-widgets/controls",
            "layout": "IPY_MODEL_0ecd17a6a40240e0a76b9cc2cfd45026"
          }
        },
        "10c33d85994646468770c9c31e2a52ae": {
          "model_module": "@jupyter-widgets/controls",
          "model_name": "HTMLModel",
          "state": {
            "_view_name": "HTMLView",
            "style": "IPY_MODEL_ebd784007ed94138a3a3a5face3d9e7d",
            "_dom_classes": [],
            "description": "",
            "_model_name": "HTMLModel",
            "placeholder": "​",
            "_view_module": "@jupyter-widgets/controls",
            "_model_module_version": "1.5.0",
            "value": " 1/10 [2:00:28&lt;18:04:19, 7228.85s/it]",
            "_view_count": null,
            "_view_module_version": "1.5.0",
            "description_tooltip": null,
            "_model_module": "@jupyter-widgets/controls",
            "layout": "IPY_MODEL_29df74b78c464eb9a439f85e45704304"
          }
        },
        "7336cd5f710845779697d62f5b7ee87e": {
          "model_module": "@jupyter-widgets/controls",
          "model_name": "ProgressStyleModel",
          "state": {
            "_view_name": "StyleView",
            "_model_name": "ProgressStyleModel",
            "description_width": "initial",
            "_view_module": "@jupyter-widgets/base",
            "_model_module_version": "1.5.0",
            "_view_count": null,
            "_view_module_version": "1.2.0",
            "bar_color": null,
            "_model_module": "@jupyter-widgets/controls"
          }
        },
        "0ecd17a6a40240e0a76b9cc2cfd45026": {
          "model_module": "@jupyter-widgets/base",
          "model_name": "LayoutModel",
          "state": {
            "_view_name": "LayoutView",
            "grid_template_rows": null,
            "right": null,
            "justify_content": null,
            "_view_module": "@jupyter-widgets/base",
            "overflow": null,
            "_model_module_version": "1.2.0",
            "_view_count": null,
            "flex_flow": null,
            "width": null,
            "min_width": null,
            "border": null,
            "align_items": null,
            "bottom": null,
            "_model_module": "@jupyter-widgets/base",
            "top": null,
            "grid_column": null,
            "overflow_y": null,
            "overflow_x": null,
            "grid_auto_flow": null,
            "grid_area": null,
            "grid_template_columns": null,
            "flex": null,
            "_model_name": "LayoutModel",
            "justify_items": null,
            "grid_row": null,
            "max_height": null,
            "align_content": null,
            "visibility": null,
            "align_self": null,
            "height": null,
            "min_height": null,
            "padding": null,
            "grid_auto_rows": null,
            "grid_gap": null,
            "max_width": null,
            "order": null,
            "_view_module_version": "1.2.0",
            "grid_template_areas": null,
            "object_position": null,
            "object_fit": null,
            "grid_auto_columns": null,
            "margin": null,
            "display": null,
            "left": null
          }
        },
        "ebd784007ed94138a3a3a5face3d9e7d": {
          "model_module": "@jupyter-widgets/controls",
          "model_name": "DescriptionStyleModel",
          "state": {
            "_view_name": "StyleView",
            "_model_name": "DescriptionStyleModel",
            "description_width": "",
            "_view_module": "@jupyter-widgets/base",
            "_model_module_version": "1.5.0",
            "_view_count": null,
            "_view_module_version": "1.2.0",
            "_model_module": "@jupyter-widgets/controls"
          }
        },
        "29df74b78c464eb9a439f85e45704304": {
          "model_module": "@jupyter-widgets/base",
          "model_name": "LayoutModel",
          "state": {
            "_view_name": "LayoutView",
            "grid_template_rows": null,
            "right": null,
            "justify_content": null,
            "_view_module": "@jupyter-widgets/base",
            "overflow": null,
            "_model_module_version": "1.2.0",
            "_view_count": null,
            "flex_flow": null,
            "width": null,
            "min_width": null,
            "border": null,
            "align_items": null,
            "bottom": null,
            "_model_module": "@jupyter-widgets/base",
            "top": null,
            "grid_column": null,
            "overflow_y": null,
            "overflow_x": null,
            "grid_auto_flow": null,
            "grid_area": null,
            "grid_template_columns": null,
            "flex": null,
            "_model_name": "LayoutModel",
            "justify_items": null,
            "grid_row": null,
            "max_height": null,
            "align_content": null,
            "visibility": null,
            "align_self": null,
            "height": null,
            "min_height": null,
            "padding": null,
            "grid_auto_rows": null,
            "grid_gap": null,
            "max_width": null,
            "order": null,
            "_view_module_version": "1.2.0",
            "grid_template_areas": null,
            "object_position": null,
            "object_fit": null,
            "grid_auto_columns": null,
            "margin": null,
            "display": null,
            "left": null
          }
        }
      }
    }
  },
  "cells": [
    {
      "cell_type": "markdown",
      "metadata": {
        "id": "view-in-github",
        "colab_type": "text"
      },
      "source": [
        "<a href=\"https://colab.research.google.com/github/farhanfuadabir/Nurse-Care-Challenge-2020/blob/main/LSTM_Nurse_Care_Dataset.ipynb\" target=\"_parent\"><img src=\"https://colab.research.google.com/assets/colab-badge.svg\" alt=\"Open In Colab\"/></a>"
      ]
    },
    {
      "cell_type": "code",
      "metadata": {
        "colab": {
          "base_uri": "https://localhost:8080/"
        },
        "id": "HGE-kKDZ3Sla",
        "outputId": "f70a2850-3b23-42b9-ee9e-bc0829239608"
      },
      "source": [
        "from google.colab import drive\n",
        "drive.mount('/content/drive')"
      ],
      "execution_count": null,
      "outputs": [
        {
          "output_type": "stream",
          "text": [
            "Mounted at /content/drive\n"
          ],
          "name": "stdout"
        }
      ]
    },
    {
      "cell_type": "markdown",
      "metadata": {
        "id": "wdExAX7D2vtO"
      },
      "source": [
        "# Dependencies"
      ]
    },
    {
      "cell_type": "code",
      "metadata": {
        "id": "Z0Lzri_qzyT0"
      },
      "source": [
        "# cnn model\n",
        "import numpy as np\n",
        "import pandas as pd\n",
        "from matplotlib import pyplot\n",
        "from joblib import load, dump\n",
        "from tqdm.notebook import tqdm\n",
        "from keras.models import Sequential\n",
        "from keras.layers import Dense\n",
        "from keras.layers import Flatten\n",
        "from keras.layers import Dropout\n",
        "from keras.layers import LSTM\n",
        "from keras.utils import to_categorical"
      ],
      "execution_count": null,
      "outputs": []
    },
    {
      "cell_type": "markdown",
      "metadata": {
        "id": "CI3_XJduyfUJ"
      },
      "source": [
        "# Process Windowed Dataset for LSTM"
      ]
    },
    {
      "cell_type": "code",
      "metadata": {
        "id": "N14xoSGVU0ga"
      },
      "source": [
        "# load a single file as a numpy array\r\n",
        "def load_file(filepath):\r\n",
        "  dataframe = load(filepath)\r\n",
        "  return dataframe.values\r\n",
        " \r\n",
        "# load a list of files and return as a 3d numpy array\r\n",
        "def load_group(filenames, path):\r\n",
        "\tloaded = list()\r\n",
        "\tfor name in filenames:\r\n",
        "\t\tdata = load_file(path + name)\r\n",
        "\t\tloaded.append(data)\r\n",
        "\t# stack group so that features are the 3rd dimension\r\n",
        "\tloaded = np.dstack(loaded)\r\n",
        "\treturn loaded\r\n",
        " \r\n",
        "# load a dataset group, such as train or test\r\n",
        "def load_dataset_group(group, path):\r\n",
        "\t# load all 3 files as a single array\r\n",
        "\tfilenames = ['acc_x_' + group + '.joblib', 'acc_y_' + group + '.joblib', \r\n",
        "              'acc_z_' + group + '.joblib']\r\n",
        "\t# load input data\r\n",
        "\tX = load_group(filenames, path)\r\n",
        "\t# load class output\r\n",
        "\ty = load_file(path + 'label_' + group + '.joblib')\r\n",
        "\treturn X, y\r\n",
        " \r\n",
        "# load the dataset, returns train and test X and y elements\r\n",
        "def load_dataset(path):\r\n",
        "  # load all train\r\n",
        "  trainX, trainy = load_dataset_group('train', path)\r\n",
        "  print('trainX shape: ', trainX.shape, '   |   trainy shape: ', trainy.shape)\r\n",
        "  # load all test\r\n",
        "  testX, testy = load_dataset_group('test', path)\r\n",
        "  print('testX shape: ', testX.shape, '   |   testy shape: ', testy.shape)\r\n",
        "  # zero-offset class values\r\n",
        "  trainy = trainy - 1\r\n",
        "  testy = testy - 1\r\n",
        "  # one hot encode y\r\n",
        "  trainy = to_categorical(trainy)\r\n",
        "  testy = to_categorical(testy)\r\n",
        "  print('Final Dataset shape: \\n\\nTrain Set: ', end='')\r\n",
        "  print(trainX.shape, '<----->', trainy.shape, '\\nTest Set: ', testX.shape, '<----->', testy.shape)\r\n",
        "  return trainX, trainy, testX, testy"
      ],
      "execution_count": null,
      "outputs": []
    },
    {
      "cell_type": "code",
      "metadata": {
        "colab": {
          "base_uri": "https://localhost:8080/"
        },
        "id": "f-ASwCghRSJd",
        "outputId": "bacfde72-3685-49a1-84a3-21bf02470e8f"
      },
      "source": [
        "# load data\r\n",
        "dataset_path = '/content/drive/MyDrive/Research/NCC Train Test Set (Resampled 20Hz)/Split 80 20/Windowed 1000/'\r\n",
        "trainX, trainy, testX, testy = load_dataset(dataset_path)"
      ],
      "execution_count": null,
      "outputs": [
        {
          "output_type": "stream",
          "text": [
            "trainX shape:  (85612, 1000, 3)    |   trainy shape:  (85612,)\n",
            "testX shape:  (20485, 1000, 3)    |   testy shape:  (20485,)\n",
            "Final Dataset shape: \n",
            "\n",
            "Train Set: (85612, 1000, 3) <-----> (85612, 12) \n",
            "Test Set:  (20485, 1000, 3) <-----> (20485, 12)\n"
          ],
          "name": "stdout"
        }
      ]
    },
    {
      "cell_type": "markdown",
      "metadata": {
        "id": "9Osl1Rt2VlOt"
      },
      "source": [
        "# LSTM Model"
      ]
    },
    {
      "cell_type": "code",
      "metadata": {
        "id": "3OVlA6CDRLWE"
      },
      "source": [
        "from keras import backend as K\r\n",
        "\r\n",
        "def recall_m(y_true, y_pred):\r\n",
        "  true_positives = K.sum(K.round(K.clip(y_true * y_pred, 0, 1)))\r\n",
        "  possible_positives = K.sum(K.round(K.clip(y_true, 0, 1)))\r\n",
        "  recall = true_positives / (possible_positives + K.epsilon())\r\n",
        "  return recall\r\n",
        "\r\n",
        "def precision_m(y_true, y_pred):\r\n",
        "  true_positives = K.sum(K.round(K.clip(y_true * y_pred, 0, 1)))\r\n",
        "  predicted_positives = K.sum(K.round(K.clip(y_pred, 0, 1)))\r\n",
        "  precision = true_positives / (predicted_positives + K.epsilon())\r\n",
        "  return precision\r\n",
        "\r\n",
        "def f1_m(y_true, y_pred):\r\n",
        "  precision = precision_m(y_true, y_pred)\r\n",
        "  recall = recall_m(y_true, y_pred)\r\n",
        "  return 2*((precision*recall)/(precision+recall+K.epsilon()))\r\n",
        "\r\n",
        "# fit and evaluate a model\r\n",
        "def evaluate_model(trainX, trainy, testX, testy, verbose, epochs, batch_size):\r\n",
        "  n_timesteps, n_features, n_outputs = trainX.shape[1], trainX.shape[2], trainy.shape[1]\r\n",
        "  model = Sequential()\r\n",
        "  model.add(LSTM(100, input_shape=(n_timesteps,n_features)))\r\n",
        "  model.add(Dropout(0.5))\r\n",
        "  model.add(Dense(100, activation='relu'))\r\n",
        "  model.add(Dense(n_outputs, activation='softmax'))\r\n",
        "  model.compile(loss='categorical_crossentropy', optimizer='adam', \r\n",
        "                metrics=['accuracy', f1_m, precision_m, recall_m])\r\n",
        "  print(model.summary())\r\n",
        "  print('\\n\\n')\r\n",
        "  # fit network\r\n",
        "  # model.fit(trainX, trainy, epochs=epochs, batch_size=batch_size, verbose=verbose)\r\n",
        "  # # evaluate model\r\n",
        "  # _, accuracy = model.evaluate(testX, testy, batch_size=batch_size, verbose=0)\r\n",
        "  import time\r\n",
        "  t_start = time.clock()\r\n",
        "  from keras import callbacks \r\n",
        "  earlystopping = callbacks.EarlyStopping(monitor =\"val_loss\", mode =\"min\", \r\n",
        "                                          patience = 20, verbose = 1, \r\n",
        "                                          restore_best_weights = True) \r\n",
        "\r\n",
        "  history = model.fit(trainX, trainy, batch_size = batch_size,  \r\n",
        "                      epochs = epochs, validation_data =(testX, testy),  \r\n",
        "                      callbacks =[earlystopping])\r\n",
        "  #history = model.fit(trainX, trainy, epochs=epochs, batch_size=batch_size, verbose=verbose)\r\n",
        "\r\n",
        "  t_end = time.clock()\r\n",
        "\r\n",
        "  print('\\n\\n\\n')\r\n",
        "\r\n",
        "  #_, accuracy_train = model.evaluate(X_train, y_train)\r\n",
        "  loss_train, accuracy_train, f1_score_train, precision_train, recall_train = model.evaluate(trainX, trainy, verbose=1)\r\n",
        "  print('Train Accuracy: %.2f' % (accuracy_train*100))\r\n",
        "  print('Train F1 Score: %.2f' % (f1_score_train*100))\r\n",
        "  print('Train Time: ', t_end - t_start)\r\n",
        "\r\n",
        "  t_start = time.clock()\r\n",
        "  #_, accuracy_test = model.evaluate(X_test, y_test)\r\n",
        "  loss_test, accuracy_test, f1_score_test, precision_test, recall_test = model.evaluate(testX, testy, verbose=1)\r\n",
        "  print('Test Accuracy: %.2f' % (accuracy_test*100))\r\n",
        "  print('Test F1 Score: %.2f' % (f1_score_test*100))\r\n",
        "  t_end = time.clock()\r\n",
        "  print('Test Time: ', t_end - t_start)\r\n",
        "\r\n",
        "  return f1_score_test, history\r\n",
        " \r\n",
        "# summarize scores\r\n",
        "def summarize_results(scores):\r\n",
        "\tprint(scores)\r\n",
        "\tm, s = np.mean(scores), np.std(scores)\r\n",
        "\tprint('Accuracy: %.3f%% (+/-%.3f)' % (m, s))\r\n",
        " \r\n",
        "# run an experiment\r\n",
        "def run_experiment(repeats=10, verbose=True, epochs=10, batch_size=32):\r\n",
        "  # repeat experiment\r\n",
        "  scores = list()\r\n",
        "  for r in tqdm(range(repeats)):\r\n",
        "    score, history = evaluate_model(trainX, trainy, testX, testy, verbose, epochs, batch_size)\r\n",
        "    print('%.3f' % (score * 100.0))\r\n",
        "    scores.append(score)\r\n",
        "  # summarize results\r\n",
        "  summarize_results(scores)"
      ],
      "execution_count": null,
      "outputs": []
    },
    {
      "cell_type": "markdown",
      "metadata": {
        "id": "bI39XiUQXvqc"
      },
      "source": [
        "## Train"
      ]
    },
    {
      "cell_type": "code",
      "metadata": {
        "colab": {
          "base_uri": "https://localhost:8080/"
        },
        "id": "q1ghlsSpVu9S",
        "outputId": "34d3e796-7883-426d-ba6f-a6f5fa28c309"
      },
      "source": [
        "# for single iteration\r\n",
        "score, history = evaluate_model(trainX, trainy, testX, testy, verbose=2, epochs=100, batch_size=16)\r\n",
        "print('Score:', '%.3f' % (score * 100.0))"
      ],
      "execution_count": null,
      "outputs": [
        {
          "output_type": "stream",
          "text": [
            "Epoch 1/100\n",
            "5351/5351 [==============================] - 175s 33ms/step - loss: 0.9275 - accuracy: 0.6362 - f1_m: 0.5825 - precision_m: 0.7453 - recall_m: 0.4881 - val_loss: 0.7332 - val_accuracy: 0.7019 - val_f1_m: 0.6620 - val_precision_m: 0.6783 - val_recall_m: 0.6592\n",
            "Epoch 2/100\n",
            "5351/5351 [==============================] - 174s 32ms/step - loss: 0.8067 - accuracy: 0.6701 - f1_m: 0.6255 - precision_m: 0.7633 - recall_m: 0.5372 - val_loss: 0.7669 - val_accuracy: 0.6589 - val_f1_m: 0.6312 - val_precision_m: 0.6463 - val_recall_m: 0.6278\n",
            "Epoch 3/100\n",
            "5351/5351 [==============================] - 177s 33ms/step - loss: 0.7817 - accuracy: 0.6833 - f1_m: 0.6460 - precision_m: 0.7742 - recall_m: 0.5615 - val_loss: 0.7448 - val_accuracy: 0.6899 - val_f1_m: 0.6729 - val_precision_m: 0.6883 - val_recall_m: 0.6679\n",
            "Epoch 4/100\n",
            "5351/5351 [==============================] - 176s 33ms/step - loss: 0.7559 - accuracy: 0.7012 - f1_m: 0.6695 - precision_m: 0.7750 - recall_m: 0.5950 - val_loss: 0.8012 - val_accuracy: 0.6561 - val_f1_m: 0.6446 - val_precision_m: 0.6541 - val_recall_m: 0.6413\n",
            "Epoch 5/100\n",
            "5351/5351 [==============================] - 172s 32ms/step - loss: 0.7478 - accuracy: 0.6971 - f1_m: 0.6753 - precision_m: 0.7624 - recall_m: 0.6106 - val_loss: 0.7857 - val_accuracy: 0.6649 - val_f1_m: 0.6547 - val_precision_m: 0.6621 - val_recall_m: 0.6519\n",
            "Epoch 6/100\n",
            "5351/5351 [==============================] - 176s 33ms/step - loss: 0.7612 - accuracy: 0.6875 - f1_m: 0.6634 - precision_m: 0.7546 - recall_m: 0.5976 - val_loss: 0.8053 - val_accuracy: 0.7420 - val_f1_m: 0.7117 - val_precision_m: 0.7401 - val_recall_m: 0.7037\n",
            "Epoch 7/100\n",
            "5351/5351 [==============================] - 176s 33ms/step - loss: 0.7379 - accuracy: 0.6954 - f1_m: 0.6745 - precision_m: 0.7611 - recall_m: 0.6108 - val_loss: 0.8038 - val_accuracy: 0.6895 - val_f1_m: 0.6431 - val_precision_m: 0.6524 - val_recall_m: 0.6400\n",
            "Epoch 8/100\n",
            "5351/5351 [==============================] - 174s 33ms/step - loss: 0.7364 - accuracy: 0.6891 - f1_m: 0.6705 - precision_m: 0.7521 - recall_m: 0.6093 - val_loss: 0.7842 - val_accuracy: 0.6920 - val_f1_m: 0.6814 - val_precision_m: 0.6900 - val_recall_m: 0.6783\n",
            "Epoch 9/100\n",
            "5351/5351 [==============================] - 174s 33ms/step - loss: 0.7091 - accuracy: 0.7044 - f1_m: 0.6906 - precision_m: 0.7585 - recall_m: 0.6375 - val_loss: 0.7542 - val_accuracy: 0.6932 - val_f1_m: 0.6775 - val_precision_m: 0.6913 - val_recall_m: 0.6733\n",
            "Epoch 10/100\n",
            "5351/5351 [==============================] - 176s 33ms/step - loss: 0.6928 - accuracy: 0.7153 - f1_m: 0.7044 - precision_m: 0.7689 - recall_m: 0.6535 - val_loss: 0.8125 - val_accuracy: 0.6989 - val_f1_m: 0.6855 - val_precision_m: 0.6944 - val_recall_m: 0.6821\n",
            "Epoch 11/100\n",
            "5351/5351 [==============================] - 176s 33ms/step - loss: 0.7070 - accuracy: 0.7036 - f1_m: 0.6941 - precision_m: 0.7547 - recall_m: 0.6460 - val_loss: 0.8303 - val_accuracy: 0.6666 - val_f1_m: 0.6573 - val_precision_m: 0.6668 - val_recall_m: 0.6540\n",
            "Epoch 12/100\n",
            "5351/5351 [==============================] - 176s 33ms/step - loss: 0.6967 - accuracy: 0.7107 - f1_m: 0.7017 - precision_m: 0.7618 - recall_m: 0.6540 - val_loss: 0.8055 - val_accuracy: 0.6958 - val_f1_m: 0.6886 - val_precision_m: 0.6943 - val_recall_m: 0.6860\n",
            "Epoch 13/100\n",
            "5351/5351 [==============================] - 174s 33ms/step - loss: 0.6848 - accuracy: 0.7112 - f1_m: 0.7038 - precision_m: 0.7603 - recall_m: 0.6586 - val_loss: 0.8389 - val_accuracy: 0.6984 - val_f1_m: 0.6896 - val_precision_m: 0.6974 - val_recall_m: 0.6867\n",
            "Epoch 14/100\n",
            "5351/5351 [==============================] - 177s 33ms/step - loss: 0.6758 - accuracy: 0.7138 - f1_m: 0.7052 - precision_m: 0.7592 - recall_m: 0.6614 - val_loss: 0.8331 - val_accuracy: 0.7052 - val_f1_m: 0.6940 - val_precision_m: 0.7060 - val_recall_m: 0.6889\n",
            "Epoch 15/100\n",
            "5351/5351 [==============================] - 177s 33ms/step - loss: 0.6498 - accuracy: 0.7199 - f1_m: 0.7140 - precision_m: 0.7616 - recall_m: 0.6746 - val_loss: 0.8802 - val_accuracy: 0.6702 - val_f1_m: 0.6587 - val_precision_m: 0.6688 - val_recall_m: 0.6550\n",
            "Epoch 16/100\n",
            "5351/5351 [==============================] - 171s 32ms/step - loss: 0.6532 - accuracy: 0.7236 - f1_m: 0.7176 - precision_m: 0.7679 - recall_m: 0.6765 - val_loss: 0.8491 - val_accuracy: 0.7155 - val_f1_m: 0.6990 - val_precision_m: 0.7121 - val_recall_m: 0.6934\n",
            "Epoch 17/100\n",
            "5351/5351 [==============================] - 172s 32ms/step - loss: 0.6418 - accuracy: 0.7224 - f1_m: 0.7151 - precision_m: 0.7687 - recall_m: 0.6716 - val_loss: 0.8618 - val_accuracy: 0.6721 - val_f1_m: 0.6554 - val_precision_m: 0.6642 - val_recall_m: 0.6520\n",
            "Epoch 18/100\n",
            "5351/5351 [==============================] - 173s 32ms/step - loss: 0.6356 - accuracy: 0.7248 - f1_m: 0.7183 - precision_m: 0.7673 - recall_m: 0.6783 - val_loss: 0.8591 - val_accuracy: 0.7105 - val_f1_m: 0.6972 - val_precision_m: 0.7038 - val_recall_m: 0.6940\n",
            "Epoch 19/100\n",
            "5351/5351 [==============================] - 172s 32ms/step - loss: 0.6283 - accuracy: 0.7294 - f1_m: 0.7244 - precision_m: 0.7745 - recall_m: 0.6833 - val_loss: 0.8531 - val_accuracy: 0.7189 - val_f1_m: 0.6988 - val_precision_m: 0.7102 - val_recall_m: 0.6945\n",
            "Epoch 20/100\n",
            "5351/5351 [==============================] - 172s 32ms/step - loss: 0.6081 - accuracy: 0.7370 - f1_m: 0.7326 - precision_m: 0.7778 - recall_m: 0.6951 - val_loss: 0.8274 - val_accuracy: 0.7432 - val_f1_m: 0.7231 - val_precision_m: 0.7410 - val_recall_m: 0.7161\n",
            "Epoch 21/100\n",
            "5351/5351 [==============================] - 172s 32ms/step - loss: 0.6038 - accuracy: 0.7374 - f1_m: 0.7330 - precision_m: 0.7745 - recall_m: 0.6981 - val_loss: 0.8714 - val_accuracy: 0.7150 - val_f1_m: 0.6957 - val_precision_m: 0.7149 - val_recall_m: 0.6875\n",
            "Restoring model weights from the end of the best epoch.\n",
            "Epoch 00021: early stopping\n",
            "\n",
            "\n",
            "\n",
            "\n",
            "2676/2676 [==============================] - 40s 15ms/step - loss: 0.7866 - accuracy: 0.6841 - f1_m: 0.5176 - precision_m: 0.6085 - recall_m: 0.5037\n",
            "Train Accuracy: 68.41\n",
            "Train F1 Score: 51.76\n",
            "Train Time:  3800.597692\n",
            "641/641 [==============================] - 9s 15ms/step - loss: 0.7332 - accuracy: 0.7019 - f1_m: 0.6622 - precision_m: 0.6880 - recall_m: 0.6587\n",
            "Test Accuracy: 70.19\n",
            "Test F1 Score: 66.22\n",
            "Test Time:  10.458802000000105\n",
            "Score: 66.219\n"
          ],
          "name": "stdout"
        }
      ]
    },
    {
      "cell_type": "markdown",
      "metadata": {
        "id": "iw8FSF8UXxwp"
      },
      "source": [
        "## **LSTM Model Summary**\r\n",
        "\r\n",
        "| Window [Datapoints - Overlapping - Sampling] | Batch Size | Optimal Epoch | Train Accuracy | Train F1 | Train Time | Validation Accuracy | Validation F1 | Validation Time |\r\n",
        "| :---: | :----: | :---: | :---: | :----: | :---: | :---: | :---: | :---: |\r\n",
        "| 1000pt - 95% - 20Hz | 16 | 2 | 68.41 | 51.76 | 3801 | 70.19 | 66.22 | 10 |\r\n",
        "| 1000pt - 95% - 20Hz | 25 | 3 | 71.28 | 56.93 | 3343 | 66.02 | 63.56 | 11 |\r\n",
        "| 1000pt - 95% - 20Hz | 32 | 7 | 69.33 | 59.01 | 3019 | 72.69 | 68.02 | 12 |\r\n",
        "| 250pt - 80% - 20Hz | 16 | 2 | 63.70 | 48.38 | 1620 | 66.28 | 59.56 | 5 |\r\n",
        "| 250pt - 80% - 20Hz | 25 | 7 | 67.80 | 61.68 | 1415 | 66.74 | 63.48 | 6 |\r\n",
        "| 250pt - 80% - 20Hz | 32 | 2 | 63.86 | 46.97 | 915 | 64.47 | 59.73 | 6 |"
      ]
    },
    {
      "cell_type": "markdown",
      "metadata": {
        "id": "DM0bejafiVXK"
      },
      "source": [
        "##### Epoch = 100, Batch Size = 32\r\n",
        "```\r\n",
        "\r\n",
        "2933/2933 [==============================] - 18s 6ms/step - loss: 0.5709 - categorical_accuracy: 0.7615 - f1_m: 0.7288 - precision_m: 0.7738 - recall_m: 0.7057\r\n",
        "Train Accuracy: 76.15\r\n",
        "Train F1 Score: 72.88\r\n",
        "Train Time:  3794.4624440000007\r\n",
        "712/712 [==============================] - 4s 6ms/step - loss: 1.3527 - categorical_accuracy: 0.6923 - f1_m: 0.6779 - precision_m: 0.6956 - recall_m: 0.6671\r\n",
        "Test Accuracy: 69.23\r\n",
        "Test F1 Score: 67.79\r\n",
        "Test Time:  5.017310999999609\r\n",
        "```"
      ]
    },
    {
      "cell_type": "code",
      "metadata": {
        "id": "yOzgB6yIlx_3",
        "colab": {
          "base_uri": "https://localhost:8080/",
          "height": 295
        },
        "outputId": "5ed1cb62-64f4-4b3b-f385-860bc70b8e9f"
      },
      "source": [
        "import matplotlib.pyplot as plt\r\n",
        "plt.plot(history.history['loss'])\r\n",
        "plt.plot(history.history['val_loss'])\r\n",
        "plt.title('Model Accuracy')\r\n",
        "plt.ylabel('accuracy')\r\n",
        "plt.xlabel('epoch')\r\n",
        "plt.legend(['train', 'test'], loc='upper left')\r\n",
        "plt.show()"
      ],
      "execution_count": null,
      "outputs": [
        {
          "output_type": "display_data",
          "data": {
            "image/png": "[encoded data removed]",
            "text/plain": [
              "<Figure size 432x288 with 1 Axes>"
            ]
          },
          "metadata": {
            "tags": [],
            "needs_background": "light"
          }
        }
      ]
    },
    {
      "cell_type": "code",
      "metadata": {
        "id": "lVm4ma-dy3ie",
        "colab": {
          "base_uri": "https://localhost:8080/",
          "height": 290,
          "referenced_widgets": [
            "81fa1cbdeef445fea1a1947219e6236d",
            "eecaa5eaf49d443ebaf98e5db123deed",
            "fbdf53b379344b1195c637e45e7f3ac6",
            "10c33d85994646468770c9c31e2a52ae",
            "7336cd5f710845779697d62f5b7ee87e",
            "0ecd17a6a40240e0a76b9cc2cfd45026",
            "ebd784007ed94138a3a3a5face3d9e7d",
            "29df74b78c464eb9a439f85e45704304"
          ]
        },
        "outputId": "4bd0edbf-7cea-493c-f8bb-62ff729dcea6"
      },
      "source": [
        "# run the experiment for interations\n",
        "run_experiment(10, verbose=False, epochs=80, batch_size=32)"
      ],
      "execution_count": null,
      "outputs": [
        {
          "output_type": "display_data",
          "data": {
            "application/vnd.jupyter.widget-view+json": {
              "model_id": "81fa1cbdeef445fea1a1947219e6236d",
              "version_minor": 0,
              "version_major": 2
            },
            "text/plain": [
              "HBox(children=(FloatProgress(value=0.0, max=10.0), HTML(value='')))"
            ]
          },
          "metadata": {
            "tags": []
          }
        },
        {
          "output_type": "stream",
          "text": [
            "\n",
            "\n",
            "\n",
            "\n",
            "2676/2676 [==============================] - 43s 16ms/step - loss: 0.4556 - categorical_accuracy: 0.7951 - f1_m: 0.7612 - precision_m: 0.8010 - recall_m: 0.7432\n",
            "Train Accuracy: 79.51\n",
            "Train F1 Score: 76.12\n",
            "Train Time:  6545.570133000001\n",
            "641/641 [==============================] - 10s 16ms/step - loss: 0.9231 - categorical_accuracy: 0.7458 - f1_m: 0.7267 - precision_m: 0.7505 - recall_m: 0.7163\n",
            "Test Accuracy: 74.58\n",
            "Test F1 Score: 72.67\n",
            "Test Time:  11.23248799999783\n",
            "72.666\n"
          ],
          "name": "stdout"
        }
      ]
    },
    {
      "cell_type": "markdown",
      "metadata": {
        "id": "R3yrtIFOYyMM"
      },
      "source": [
        "# Random Forest Model"
      ]
    },
    {
      "cell_type": "code",
      "metadata": {
        "id": "Q_siG1bHY11-"
      },
      "source": [
        "from sklearn.model_selection import train_test_split, cross_val_score\r\n",
        "from sklearn.metrics import classification_report, confusion_matrix, accuracy_score\r\n",
        "from sklearn.ensemble import RandomForestClassifier\r\n",
        "\r\n",
        "# load label set again\r\n",
        "trainy_2 = load_file(dataset_path + 'label_train.joblib')\r\n",
        "testy_2 = load_file(dataset_path + 'label_test.joblib')\r\n",
        "\r\n",
        "clf = RandomForestClassifier(verbose=True,n_jobs=-1)\r\n",
        "\r\n",
        "clf.fit(trainX, trainy_2)\r\n",
        "y_pred = clf.predict(testX)\r\n",
        "\r\n",
        "# Evaluate Algorithm\r\n",
        "print(\"\\n\\nConfusion Matrix: \\n\\n\",confusion_matrix(testy_2,y_pred))\r\n",
        "print(\"\\n\\nReport: \\n\\n\",classification_report(testy_2,y_pred))\r\n",
        "print(\"Accuracy: \",accuracy_score(testy_2,y_pred))"
      ],
      "execution_count": null,
      "outputs": []
    }
  ]
}