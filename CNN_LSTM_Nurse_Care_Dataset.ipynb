{
  "nbformat": 4,
  "nbformat_minor": 0,
  "metadata": {
    "colab": {
      "name": "CNN-LSTM_Nurse_Care_Dataset.ipynb",
      "provenance": [],
      "collapsed_sections": [],
      "authorship_tag": "ABX9TyO12HKhHoCBk/wYIKXBsPwg",
      "include_colab_link": true
    },
    "kernelspec": {
      "name": "python3",
      "display_name": "Python 3"
    },
    "accelerator": "GPU"
  },
  "cells": [
    {
      "cell_type": "markdown",
      "metadata": {
        "id": "view-in-github",
        "colab_type": "text"
      },
      "source": [
        "<a href=\"https://colab.research.google.com/github/farhanfuadabir/Nurse-Care-Challenge-2020/blob/main/CNN_LSTM_Nurse_Care_Dataset.ipynb\" target=\"_parent\"><img src=\"https://colab.research.google.com/assets/colab-badge.svg\" alt=\"Open In Colab\"/></a>"
      ]
    },
    {
      "cell_type": "code",
      "metadata": {
        "colab": {
          "base_uri": "https://localhost:8080/"
        },
        "id": "HGE-kKDZ3Sla",
        "outputId": "6b8e1a88-8303-4e00-9919-254c5025f2c7"
      },
      "source": [
        "from google.colab import drive\n",
        "drive.mount('/content/drive', force_remount=True)"
      ],
      "execution_count": null,
      "outputs": [
        {
          "output_type": "stream",
          "text": [
            "Mounted at /content/drive\n"
          ],
          "name": "stdout"
        }
      ]
    },
    {
      "cell_type": "markdown",
      "metadata": {
        "id": "wdExAX7D2vtO"
      },
      "source": [
        "# Dependencies"
      ]
    },
    {
      "cell_type": "code",
      "metadata": {
        "id": "Z0Lzri_qzyT0"
      },
      "source": [
        "# cnn model\n",
        "import numpy as np\n",
        "import pandas as pd\n",
        "from matplotlib import pyplot\n",
        "from joblib import load, dump\n",
        "from tqdm.notebook import tqdm\n",
        "from keras.models import Sequential\n",
        "from keras.layers import Dense\n",
        "from keras.layers import Flatten\n",
        "from keras.layers import Dropout\n",
        "from keras.layers import LSTM\n",
        "from keras.layers import TimeDistributed\n",
        "from keras.layers.convolutional import Conv1D\n",
        "from keras.layers.convolutional import MaxPooling1D\n",
        "from keras.utils import to_categorical"
      ],
      "execution_count": null,
      "outputs": []
    },
    {
      "cell_type": "markdown",
      "metadata": {
        "id": "CI3_XJduyfUJ"
      },
      "source": [
        "# Process Windowed Dataset for LSTM"
      ]
    },
    {
      "cell_type": "code",
      "metadata": {
        "id": "N14xoSGVU0ga"
      },
      "source": [
        "# load a single file as a numpy array\r\n",
        "def load_file(filepath):\r\n",
        "  dataframe = load(filepath)\r\n",
        "  return dataframe.values\r\n",
        " \r\n",
        "# load a list of files and return as a 3d numpy array\r\n",
        "def load_group(filenames, path):\r\n",
        "\tloaded = list()\r\n",
        "\tfor name in filenames:\r\n",
        "\t\tdata = load_file(path + name)\r\n",
        "\t\tloaded.append(data)\r\n",
        "\t# stack group so that features are the 3rd dimension\r\n",
        "\tloaded = np.dstack(loaded)\r\n",
        "\treturn loaded\r\n",
        " \r\n",
        "# load a dataset group, such as train or test\r\n",
        "def load_dataset_group(group, path):\r\n",
        "\t# load all 3 files as a single array\r\n",
        "\tfilenames = ['acc_x_' + group + '.joblib', 'acc_y_' + group + '.joblib', \r\n",
        "              'acc_z_' + group + '.joblib']\r\n",
        "\t# load input data\r\n",
        "\tX = load_group(filenames, path)\r\n",
        "\t# load class output\r\n",
        "\ty = load_file(path + 'label_' + group + '.joblib')\r\n",
        "\treturn X, y\r\n",
        " \r\n",
        "# load the dataset, returns train and test X and y elements\r\n",
        "def load_dataset(path):\r\n",
        "  # load all train\r\n",
        "  trainX, trainy = load_dataset_group('train', path)\r\n",
        "  print('trainX shape: ', trainX.shape, '   |   trainy shape: ', trainy.shape)\r\n",
        "  # load all test\r\n",
        "  testX, testy = load_dataset_group('test', path)\r\n",
        "  print('testX shape: ', testX.shape, '   |   testy shape: ', testy.shape)\r\n",
        "  # zero-offset class values\r\n",
        "  trainy = trainy - 1\r\n",
        "  testy = testy - 1\r\n",
        "  # one hot encode y\r\n",
        "  trainy = to_categorical(trainy)\r\n",
        "  testy = to_categorical(testy)\r\n",
        "  print('Final Dataset shape: \\n\\nTrain Set: ', end='')\r\n",
        "  print(trainX.shape, '<----->', trainy.shape, '\\nTest Set: ', testX.shape, '<----->', testy.shape)\r\n",
        "  return trainX, trainy, testX, testy"
      ],
      "execution_count": null,
      "outputs": []
    },
    {
      "cell_type": "code",
      "metadata": {
        "colab": {
          "base_uri": "https://localhost:8080/"
        },
        "id": "f-ASwCghRSJd",
        "outputId": "753caf28-2b95-4092-b83e-af99408168d1"
      },
      "source": [
        "# load data\r\n",
        "dataset_path = '/content/drive/MyDrive/Research/NCC Train Test Set (Resampled 20Hz)/Split 80 20/Windowed 250/'\r\n",
        "trainX, trainy, testX, testy = load_dataset(dataset_path)"
      ],
      "execution_count": null,
      "outputs": [
        {
          "output_type": "stream",
          "text": [
            "trainX shape:  (93838, 250, 3)    |   trainy shape:  (93838,)\n",
            "testX shape:  (22775, 250, 3)    |   testy shape:  (22775,)\n",
            "Final Dataset shape: \n",
            "\n",
            "Train Set: (93838, 250, 3) <-----> (93838, 12) \n",
            "Test Set:  (22775, 250, 3) <-----> (22775, 12)\n"
          ],
          "name": "stdout"
        }
      ]
    },
    {
      "cell_type": "markdown",
      "metadata": {
        "id": "9Osl1Rt2VlOt"
      },
      "source": [
        "# LSTM Model"
      ]
    },
    {
      "cell_type": "code",
      "metadata": {
        "id": "3OVlA6CDRLWE"
      },
      "source": [
        "from keras import backend as K\r\n",
        "\r\n",
        "def recall_m(y_true, y_pred):\r\n",
        "  true_positives = K.sum(K.round(K.clip(y_true * y_pred, 0, 1)))\r\n",
        "  possible_positives = K.sum(K.round(K.clip(y_true, 0, 1)))\r\n",
        "  recall = true_positives / (possible_positives + K.epsilon())\r\n",
        "  return recall\r\n",
        "\r\n",
        "def precision_m(y_true, y_pred):\r\n",
        "  true_positives = K.sum(K.round(K.clip(y_true * y_pred, 0, 1)))\r\n",
        "  predicted_positives = K.sum(K.round(K.clip(y_pred, 0, 1)))\r\n",
        "  precision = true_positives / (predicted_positives + K.epsilon())\r\n",
        "  return precision\r\n",
        "\r\n",
        "def f1_m(y_true, y_pred):\r\n",
        "  precision = precision_m(y_true, y_pred)\r\n",
        "  recall = recall_m(y_true, y_pred)\r\n",
        "  return 2*((precision*recall)/(precision+recall+K.epsilon()))\r\n",
        "\r\n",
        "# fit and evaluate a model\r\n",
        "def evaluate_model(trainX, trainy, testX, testy, verbose, epochs, batch_size):\r\n",
        "  n_timesteps, n_features, n_outputs = trainX.shape[1], trainX.shape[2], trainy.shape[1]\r\n",
        "  # reshape data into time steps of sub-sequences\r\n",
        "  # n_steps, n_length = 10, 100\r\n",
        "  n_steps, n_length = 5, 50\r\n",
        "  trainX = trainX.reshape((trainX.shape[0], n_steps, n_length, n_features))\r\n",
        "  testX = testX.reshape((testX.shape[0], n_steps, n_length, n_features))\r\n",
        "  # define model\r\n",
        "  model = Sequential()\r\n",
        "  model.add(TimeDistributed(Conv1D(filters=64, kernel_size=3, activation='relu'), input_shape=(None,n_length,n_features)))\r\n",
        "  model.add(TimeDistributed(Conv1D(filters=64, kernel_size=3, activation='relu')))\r\n",
        "  model.add(TimeDistributed(Dropout(0.5)))\r\n",
        "  model.add(TimeDistributed(MaxPooling1D(pool_size=2)))\r\n",
        "  model.add(TimeDistributed(Flatten()))\r\n",
        "  model.add(LSTM(100))\r\n",
        "  model.add(Dropout(0.5))\r\n",
        "  model.add(Dense(100, activation='relu'))\r\n",
        "  model.add(Dense(n_outputs, activation='softmax'))\r\n",
        "  model.compile(loss='categorical_crossentropy', optimizer='adam', \r\n",
        "                metrics=['accuracy', f1_m, precision_m, recall_m])\r\n",
        "  # fit network\r\n",
        "  # model.fit(trainX, trainy, epochs=epochs, batch_size=batch_size, verbose=verbose)\r\n",
        "  # # evaluate model\r\n",
        "  # _, accuracy = model.evaluate(testX, testy, batch_size=batch_size, verbose=0)\r\n",
        "  import time\r\n",
        "  t_start = time.clock()\r\n",
        "  from keras import callbacks \r\n",
        "  earlystopping = callbacks.EarlyStopping(monitor =\"val_loss\", mode =\"min\", \r\n",
        "                                          patience = 20, verbose = 1, \r\n",
        "                                          restore_best_weights = True) \r\n",
        "\r\n",
        "  history = model.fit(trainX, trainy, batch_size = batch_size,  \r\n",
        "                      epochs = epochs, validation_data =(testX, testy),  \r\n",
        "                      callbacks =[earlystopping]) \r\n",
        "  #history = model.fit(trainX, trainy, epochs=epochs, batch_size=batch_size, verbose=verbose)\r\n",
        "\r\n",
        "  t_end = time.clock()\r\n",
        "\r\n",
        "  print('\\n\\n\\n')\r\n",
        "\r\n",
        "  #_, accuracy_train = model.evaluate(X_train, y_train)\r\n",
        "  loss_train, accuracy_train, f1_score_train, precision_train, recall_train = model.evaluate(trainX, trainy, verbose=1)\r\n",
        "  print('Train Accuracy: %.2f' % (accuracy_train*100))\r\n",
        "  print('Train F1 Score: %.2f' % (f1_score_train*100))\r\n",
        "  print('Train Time: ', t_end - t_start)\r\n",
        "\r\n",
        "  t_start = time.clock()\r\n",
        "  #_, accuracy_test = model.evaluate(X_test, y_test)\r\n",
        "  loss_test, accuracy_test, f1_score_test, precision_test, recall_test = model.evaluate(testX, testy, verbose=1)\r\n",
        "  print('Test Accuracy: %.2f' % (accuracy_test*100))\r\n",
        "  print('Test F1 Score: %.2f' % (f1_score_test*100))\r\n",
        "  t_end = time.clock()\r\n",
        "  print('Test Time: ', t_end - t_start)\r\n",
        "\r\n",
        "  return f1_score_test, history\r\n",
        " \r\n",
        "# summarize scores\r\n",
        "def summarize_results(scores):\r\n",
        "\tprint(scores)\r\n",
        "\tm, s = np.mean(scores), np.std(scores)\r\n",
        "\tprint('Accuracy: %.3f%% (+/-%.3f)' % (m, s))\r\n",
        " \r\n",
        "# run an experiment\r\n",
        "def run_experiment(repeats=10, verbose=True, epochs=10, batch_size=32):\r\n",
        "  # repeat experiment\r\n",
        "  scores = list()\r\n",
        "  for r in tqdm(range(repeats)):\r\n",
        "    score, history = evaluate_model(trainX, trainy, testX, testy, verbose, epochs, batch_size)\r\n",
        "    print('%.3f' % (score * 100.0))\r\n",
        "    scores.append(score)\r\n",
        "  # summarize results\r\n",
        "  summarize_results(scores)"
      ],
      "execution_count": null,
      "outputs": []
    },
    {
      "cell_type": "markdown",
      "metadata": {
        "id": "bI39XiUQXvqc"
      },
      "source": [
        "## Train"
      ]
    },
    {
      "cell_type": "code",
      "metadata": {
        "colab": {
          "base_uri": "https://localhost:8080/"
        },
        "id": "q1ghlsSpVu9S",
        "outputId": "451a65c6-5a7b-446f-8e73-c48a7d0a8793"
      },
      "source": [
        "# for single iteration\r\n",
        "score, history = evaluate_model(trainX, trainy, testX, testy, verbose=2, epochs=150, batch_size=32)\r\n",
        "print('Score:', '%.3f' % (score * 100.0))"
      ],
      "execution_count": null,
      "outputs": [
        {
          "output_type": "stream",
          "text": [
            "Epoch 1/150\n",
            "2933/2933 [==============================] - 20s 6ms/step - loss: 1.0450 - accuracy: 0.6120 - f1_m: 0.5587 - precision_m: 0.7402 - recall_m: 0.4541 - val_loss: 0.8839 - val_accuracy: 0.6188 - val_f1_m: 0.5732 - val_precision_m: 0.6170 - val_recall_m: 0.5669\n",
            "Epoch 2/150\n",
            "2933/2933 [==============================] - 17s 6ms/step - loss: 0.8805 - accuracy: 0.6646 - f1_m: 0.6337 - precision_m: 0.7724 - recall_m: 0.5410 - val_loss: 0.9685 - val_accuracy: 0.6128 - val_f1_m: 0.5911 - val_precision_m: 0.6189 - val_recall_m: 0.5832\n",
            "Epoch 3/150\n",
            "2933/2933 [==============================] - 17s 6ms/step - loss: 0.8288 - accuracy: 0.6882 - f1_m: 0.6666 - precision_m: 0.7880 - recall_m: 0.5807 - val_loss: 0.8773 - val_accuracy: 0.6530 - val_f1_m: 0.6319 - val_precision_m: 0.6522 - val_recall_m: 0.6241\n",
            "Epoch 4/150\n",
            "2933/2933 [==============================] - 18s 6ms/step - loss: 0.7915 - accuracy: 0.6997 - f1_m: 0.6870 - precision_m: 0.7885 - recall_m: 0.6114 - val_loss: 0.9909 - val_accuracy: 0.6443 - val_f1_m: 0.6320 - val_precision_m: 0.6437 - val_recall_m: 0.6266\n",
            "Epoch 5/150\n",
            "2933/2933 [==============================] - 17s 6ms/step - loss: 0.7594 - accuracy: 0.7088 - f1_m: 0.7020 - precision_m: 0.7893 - recall_m: 0.6343 - val_loss: 1.0252 - val_accuracy: 0.6614 - val_f1_m: 0.6494 - val_precision_m: 0.6637 - val_recall_m: 0.6428\n",
            "Epoch 6/150\n",
            "2933/2933 [==============================] - 18s 6ms/step - loss: 0.7379 - accuracy: 0.7146 - f1_m: 0.7092 - precision_m: 0.7902 - recall_m: 0.6455 - val_loss: 1.0781 - val_accuracy: 0.6378 - val_f1_m: 0.6190 - val_precision_m: 0.6340 - val_recall_m: 0.6117\n",
            "Epoch 7/150\n",
            "2933/2933 [==============================] - 18s 6ms/step - loss: 0.7259 - accuracy: 0.7192 - f1_m: 0.7132 - precision_m: 0.7916 - recall_m: 0.6511 - val_loss: 1.0290 - val_accuracy: 0.6683 - val_f1_m: 0.6473 - val_precision_m: 0.6637 - val_recall_m: 0.6402\n",
            "Epoch 8/150\n",
            "2933/2933 [==============================] - 18s 6ms/step - loss: 0.7054 - accuracy: 0.7222 - f1_m: 0.7207 - precision_m: 0.7976 - recall_m: 0.6594 - val_loss: 1.1001 - val_accuracy: 0.6708 - val_f1_m: 0.6604 - val_precision_m: 0.6701 - val_recall_m: 0.6541\n",
            "Epoch 9/150\n",
            "2933/2933 [==============================] - 17s 6ms/step - loss: 0.6942 - accuracy: 0.7263 - f1_m: 0.7250 - precision_m: 0.8000 - recall_m: 0.6650 - val_loss: 1.0495 - val_accuracy: 0.6710 - val_f1_m: 0.6564 - val_precision_m: 0.6731 - val_recall_m: 0.6484\n",
            "Epoch 10/150\n",
            "2933/2933 [==============================] - 17s 6ms/step - loss: 0.7067 - accuracy: 0.7184 - f1_m: 0.7141 - precision_m: 0.7874 - recall_m: 0.6554 - val_loss: 1.1937 - val_accuracy: 0.6521 - val_f1_m: 0.6417 - val_precision_m: 0.6531 - val_recall_m: 0.6348\n",
            "Epoch 11/150\n",
            "2933/2933 [==============================] - 17s 6ms/step - loss: 0.6744 - accuracy: 0.7323 - f1_m: 0.7313 - precision_m: 0.8050 - recall_m: 0.6720 - val_loss: 1.0879 - val_accuracy: 0.6704 - val_f1_m: 0.6555 - val_precision_m: 0.6703 - val_recall_m: 0.6476\n",
            "Epoch 12/150\n",
            "2933/2933 [==============================] - 18s 6ms/step - loss: 0.6651 - accuracy: 0.7357 - f1_m: 0.7350 - precision_m: 0.8059 - recall_m: 0.6776 - val_loss: 1.1228 - val_accuracy: 0.6770 - val_f1_m: 0.6628 - val_precision_m: 0.6786 - val_recall_m: 0.6535\n",
            "Epoch 13/150\n",
            "2933/2933 [==============================] - 17s 6ms/step - loss: 0.6590 - accuracy: 0.7384 - f1_m: 0.7374 - precision_m: 0.8103 - recall_m: 0.6785 - val_loss: 1.1504 - val_accuracy: 0.6800 - val_f1_m: 0.6659 - val_precision_m: 0.6782 - val_recall_m: 0.6582\n",
            "Epoch 14/150\n",
            "2933/2933 [==============================] - 17s 6ms/step - loss: 0.6497 - accuracy: 0.7394 - f1_m: 0.7374 - precision_m: 0.8108 - recall_m: 0.6783 - val_loss: 1.2420 - val_accuracy: 0.6413 - val_f1_m: 0.6217 - val_precision_m: 0.6404 - val_recall_m: 0.6132\n",
            "Epoch 15/150\n",
            "2933/2933 [==============================] - 18s 6ms/step - loss: 0.6320 - accuracy: 0.7465 - f1_m: 0.7455 - precision_m: 0.8197 - recall_m: 0.6856 - val_loss: 1.1915 - val_accuracy: 0.6732 - val_f1_m: 0.6619 - val_precision_m: 0.6771 - val_recall_m: 0.6527\n",
            "Epoch 16/150\n",
            "2933/2933 [==============================] - 18s 6ms/step - loss: 0.6161 - accuracy: 0.7499 - f1_m: 0.7491 - precision_m: 0.8195 - recall_m: 0.6918 - val_loss: 1.2719 - val_accuracy: 0.6710 - val_f1_m: 0.6594 - val_precision_m: 0.6688 - val_recall_m: 0.6535\n",
            "Epoch 17/150\n",
            "2933/2933 [==============================] - 17s 6ms/step - loss: 0.6149 - accuracy: 0.7504 - f1_m: 0.7490 - precision_m: 0.8207 - recall_m: 0.6908 - val_loss: 1.2635 - val_accuracy: 0.6697 - val_f1_m: 0.6578 - val_precision_m: 0.6676 - val_recall_m: 0.6514\n",
            "Epoch 18/150\n",
            "2933/2933 [==============================] - 18s 6ms/step - loss: 0.6044 - accuracy: 0.7543 - f1_m: 0.7528 - precision_m: 0.8207 - recall_m: 0.6971 - val_loss: 1.2614 - val_accuracy: 0.6831 - val_f1_m: 0.6723 - val_precision_m: 0.6852 - val_recall_m: 0.6642\n",
            "Epoch 19/150\n",
            "2933/2933 [==============================] - 18s 6ms/step - loss: 0.5975 - accuracy: 0.7591 - f1_m: 0.7562 - precision_m: 0.8214 - recall_m: 0.7024 - val_loss: 1.1159 - val_accuracy: 0.7041 - val_f1_m: 0.6859 - val_precision_m: 0.7049 - val_recall_m: 0.6750\n",
            "Epoch 20/150\n",
            "2933/2933 [==============================] - 18s 6ms/step - loss: 0.5848 - accuracy: 0.7626 - f1_m: 0.7608 - precision_m: 0.8275 - recall_m: 0.7058 - val_loss: 1.2688 - val_accuracy: 0.6800 - val_f1_m: 0.6666 - val_precision_m: 0.6809 - val_recall_m: 0.6575\n",
            "Epoch 21/150\n",
            "2933/2933 [==============================] - 17s 6ms/step - loss: 0.5818 - accuracy: 0.7646 - f1_m: 0.7632 - precision_m: 0.8268 - recall_m: 0.7103 - val_loss: 1.3465 - val_accuracy: 0.6902 - val_f1_m: 0.6784 - val_precision_m: 0.6889 - val_recall_m: 0.6715\n",
            "Epoch 22/150\n",
            "2933/2933 [==============================] - 17s 6ms/step - loss: 0.5754 - accuracy: 0.7648 - f1_m: 0.7639 - precision_m: 0.8274 - recall_m: 0.7112 - val_loss: 1.3220 - val_accuracy: 0.6728 - val_f1_m: 0.6621 - val_precision_m: 0.6758 - val_recall_m: 0.6538\n",
            "Epoch 23/150\n",
            "2933/2933 [==============================] - 17s 6ms/step - loss: 0.5760 - accuracy: 0.7633 - f1_m: 0.7620 - precision_m: 0.8266 - recall_m: 0.7084 - val_loss: 1.3025 - val_accuracy: 0.6853 - val_f1_m: 0.6736 - val_precision_m: 0.6873 - val_recall_m: 0.6648\n",
            "Restoring model weights from the end of the best epoch.\n",
            "Epoch 00023: early stopping\n",
            "\n",
            "\n",
            "\n",
            "\n",
            "2933/2933 [==============================] - 11s 4ms/step - loss: 0.7575 - accuracy: 0.7099 - f1_m: 0.6440 - precision_m: 0.7099 - recall_m: 0.6165\n",
            "Train Accuracy: 70.99\n",
            "Train F1 Score: 64.40\n",
            "Train Time:  525.498943999999\n",
            "712/712 [==============================] - 3s 4ms/step - loss: 0.8773 - accuracy: 0.6530 - f1_m: 0.6319 - precision_m: 0.6522 - recall_m: 0.6241\n",
            "Test Accuracy: 65.30\n",
            "Test F1 Score: 63.19\n",
            "Test Time:  3.4961960000000545\n",
            "Score: 63.191\n"
          ],
          "name": "stdout"
        }
      ]
    },
    {
      "cell_type": "markdown",
      "metadata": {
        "id": "ABdoe1LABP7z"
      },
      "source": [
        "## **CNN-LSTM Model Summary**\r\n",
        "\r\n",
        "| Window | Batch Size | Optimal Epoch | Train Accuracy | Train F1 | Train Time | Validation Accuracy | Validation F1 | Validation Time |\r\n",
        "| :---: | :----: | :---: | :---: | :----: | :---: | :---: | :---: | :---: |\r\n",
        "| 1000pt - 95% - 20Hz | 16 | 60 | 63.82 | 45.98 | 2635 | 68.53 | 65.59 | 3 |\r\n",
        "| 1000pt - 95% - 20Hz | 25 | 55 | 69.31 | 50.59 | 1620 | 68.23 | 65.55 | 4 |\r\n",
        "| 1000pt - 95% - 20Hz | 32 | 53 | 70.96 | 50.32 | 1330 | 69.97 | 65.94 | 3 |\r\n",
        "| 250pt - 80% - 20Hz | 16 | 29 | 64.51 | 47.80 | 1245 | 62.41 | 59.38 | 3|\r\n",
        "| 250pt - 80% - 20Hz | 25 | 21 | 65.71 | 49.87 | 599 | 63.74 | 60.09 | 3 |\r\n",
        "| 250pt - 80% - 20Hz | 32 | 23 | 70.99 | 64.40 | 526 | 65.30 | 63.19 | 4 |"
      ]
    },
    {
      "cell_type": "markdown",
      "metadata": {
        "id": "DM0bejafiVXK"
      },
      "source": [
        "##### Epoch = 100, Batch Size = 32\r\n",
        "```\r\n",
        "\r\n",
        "2933/2933 [==============================] - 10s 3ms/step - loss: 0.2989 - categorical_accuracy: 0.8600 - f1_m: 0.8512 - precision_m: 0.8748 - recall_m: 0.8356\r\n",
        "Train Accuracy: 86.00\r\n",
        "Train F1 Score: 85.12\r\n",
        "Train Time:  1827.533109\r\n",
        "712/712 [==============================] - 2s 3ms/step - loss: 1.6941 - categorical_accuracy: 0.6865 - f1_m: 0.6793 - precision_m: 0.6880 - recall_m: 0.6734\r\n",
        "Test Accuracy: 68.65\r\n",
        "Test F1 Score: 67.93\r\n",
        "Test Time:  3.178812999999991\r\n",
        "Score: 67.926\r\n",
        "```"
      ]
    },
    {
      "cell_type": "code",
      "metadata": {
        "id": "yOzgB6yIlx_3",
        "colab": {
          "base_uri": "https://localhost:8080/",
          "height": 295
        },
        "outputId": "9c9454ae-80ad-464e-95f3-12f8899fc88a"
      },
      "source": [
        "import matplotlib.pyplot as plt\r\n",
        "plt.plot(history.history['loss'])\r\n",
        "plt.plot(history.history['val_loss'])\r\n",
        "plt.title('Model Accuracy')\r\n",
        "plt.ylabel('accuracy')\r\n",
        "plt.xlabel('epoch')\r\n",
        "plt.legend(['train', 'test'], loc='upper left')\r\n",
        "plt.show()"
      ],
      "execution_count": null,
      "outputs": [
        {
          "output_type": "display_data",
          "data": {
            "image/png": "[encoded data removed]",
            "text/plain": [
              "<Figure size 432x288 with 1 Axes>"
            ]
          },
          "metadata": {
            "tags": [],
            "needs_background": "light"
          }
        }
      ]
    },
    {
      "cell_type": "code",
      "metadata": {
        "id": "lVm4ma-dy3ie"
      },
      "source": [
        "# run the experiment for interations\n",
        "run_experiment(10, verbose=False, epochs=80, batch_size=32)"
      ],
      "execution_count": null,
      "outputs": []
    },
    {
      "cell_type": "markdown",
      "metadata": {
        "id": "R3yrtIFOYyMM"
      },
      "source": [
        "# Random Forest Model"
      ]
    },
    {
      "cell_type": "code",
      "metadata": {
        "colab": {
          "base_uri": "https://localhost:8080/",
          "height": 392
        },
        "id": "Q_siG1bHY11-",
        "outputId": "a94ff044-7070-40f1-bfd1-c7db68630451"
      },
      "source": [
        "from sklearn.model_selection import train_test_split, cross_val_score\r\n",
        "from sklearn.metrics import classification_report, confusion_matrix, accuracy_score\r\n",
        "from sklearn.ensemble import RandomForestClassifier\r\n",
        "\r\n",
        "# load label set again\r\n",
        "trainy_2 = load_file(dataset_path + 'label_train.joblib')\r\n",
        "testy_2 = load_file(dataset_path + 'label_test.joblib')\r\n",
        "\r\n",
        "clf = RandomForestClassifier(verbose=True,n_jobs=-1)\r\n",
        "\r\n",
        "clf.fit(trainX, trainy_2)\r\n",
        "y_pred = clf.predict(testX)\r\n",
        "\r\n",
        "# Evaluate Algorithm\r\n",
        "print(\"\\n\\nConfusion Matrix: \\n\\n\",confusion_matrix(testy_2,y_pred))\r\n",
        "print(\"\\n\\nReport: \\n\\n\",classification_report(testy_2,y_pred))\r\n",
        "print(\"Accuracy: \",accuracy_score(testy_2,y_pred))"
      ],
      "execution_count": null,
      "outputs": [
        {
          "output_type": "error",
          "ename": "ValueError",
          "evalue": "ignored",
          "traceback": [
            "\u001b[0;31m---------------------------------------------------------------------------\u001b[0m",
            "\u001b[0;31mValueError\u001b[0m                                Traceback (most recent call last)",
            "\u001b[0;32m<ipython-input-27-6bccb90cdde9>\u001b[0m in \u001b[0;36m<module>\u001b[0;34m()\u001b[0m\n\u001b[1;32m      9\u001b[0m \u001b[0mclf\u001b[0m \u001b[0;34m=\u001b[0m \u001b[0mRandomForestClassifier\u001b[0m\u001b[0;34m(\u001b[0m\u001b[0mverbose\u001b[0m\u001b[0;34m=\u001b[0m\u001b[0;32mTrue\u001b[0m\u001b[0;34m,\u001b[0m\u001b[0mn_jobs\u001b[0m\u001b[0;34m=\u001b[0m\u001b[0;34m-\u001b[0m\u001b[0;36m1\u001b[0m\u001b[0;34m)\u001b[0m\u001b[0;34m\u001b[0m\u001b[0;34m\u001b[0m\u001b[0m\n\u001b[1;32m     10\u001b[0m \u001b[0;34m\u001b[0m\u001b[0m\n\u001b[0;32m---> 11\u001b[0;31m \u001b[0mclf\u001b[0m\u001b[0;34m.\u001b[0m\u001b[0mfit\u001b[0m\u001b[0;34m(\u001b[0m\u001b[0mtrainX\u001b[0m\u001b[0;34m,\u001b[0m \u001b[0mtrainy_2\u001b[0m\u001b[0;34m)\u001b[0m\u001b[0;34m\u001b[0m\u001b[0;34m\u001b[0m\u001b[0m\n\u001b[0m\u001b[1;32m     12\u001b[0m \u001b[0my_pred\u001b[0m \u001b[0;34m=\u001b[0m \u001b[0mclf\u001b[0m\u001b[0;34m.\u001b[0m\u001b[0mpredict\u001b[0m\u001b[0;34m(\u001b[0m\u001b[0mtestX\u001b[0m\u001b[0;34m)\u001b[0m\u001b[0;34m\u001b[0m\u001b[0;34m\u001b[0m\u001b[0m\n\u001b[1;32m     13\u001b[0m \u001b[0;34m\u001b[0m\u001b[0m\n",
            "\u001b[0;32m/usr/local/lib/python3.6/dist-packages/sklearn/ensemble/_forest.py\u001b[0m in \u001b[0;36mfit\u001b[0;34m(self, X, y, sample_weight)\u001b[0m\n\u001b[1;32m    293\u001b[0m         \"\"\"\n\u001b[1;32m    294\u001b[0m         \u001b[0;31m# Validate or convert input data\u001b[0m\u001b[0;34m\u001b[0m\u001b[0;34m\u001b[0m\u001b[0;34m\u001b[0m\u001b[0m\n\u001b[0;32m--> 295\u001b[0;31m         \u001b[0mX\u001b[0m \u001b[0;34m=\u001b[0m \u001b[0mcheck_array\u001b[0m\u001b[0;34m(\u001b[0m\u001b[0mX\u001b[0m\u001b[0;34m,\u001b[0m \u001b[0maccept_sparse\u001b[0m\u001b[0;34m=\u001b[0m\u001b[0;34m\"csc\"\u001b[0m\u001b[0;34m,\u001b[0m \u001b[0mdtype\u001b[0m\u001b[0;34m=\u001b[0m\u001b[0mDTYPE\u001b[0m\u001b[0;34m)\u001b[0m\u001b[0;34m\u001b[0m\u001b[0;34m\u001b[0m\u001b[0m\n\u001b[0m\u001b[1;32m    296\u001b[0m         \u001b[0my\u001b[0m \u001b[0;34m=\u001b[0m \u001b[0mcheck_array\u001b[0m\u001b[0;34m(\u001b[0m\u001b[0my\u001b[0m\u001b[0;34m,\u001b[0m \u001b[0maccept_sparse\u001b[0m\u001b[0;34m=\u001b[0m\u001b[0;34m'csc'\u001b[0m\u001b[0;34m,\u001b[0m \u001b[0mensure_2d\u001b[0m\u001b[0;34m=\u001b[0m\u001b[0;32mFalse\u001b[0m\u001b[0;34m,\u001b[0m \u001b[0mdtype\u001b[0m\u001b[0;34m=\u001b[0m\u001b[0;32mNone\u001b[0m\u001b[0;34m)\u001b[0m\u001b[0;34m\u001b[0m\u001b[0;34m\u001b[0m\u001b[0m\n\u001b[1;32m    297\u001b[0m         \u001b[0;32mif\u001b[0m \u001b[0msample_weight\u001b[0m \u001b[0;32mis\u001b[0m \u001b[0;32mnot\u001b[0m \u001b[0;32mNone\u001b[0m\u001b[0;34m:\u001b[0m\u001b[0;34m\u001b[0m\u001b[0;34m\u001b[0m\u001b[0m\n",
            "\u001b[0;32m/usr/local/lib/python3.6/dist-packages/sklearn/utils/validation.py\u001b[0m in \u001b[0;36mcheck_array\u001b[0;34m(array, accept_sparse, accept_large_sparse, dtype, order, copy, force_all_finite, ensure_2d, allow_nd, ensure_min_samples, ensure_min_features, warn_on_dtype, estimator)\u001b[0m\n\u001b[1;32m    572\u001b[0m         \u001b[0;32mif\u001b[0m \u001b[0;32mnot\u001b[0m \u001b[0mallow_nd\u001b[0m \u001b[0;32mand\u001b[0m \u001b[0marray\u001b[0m\u001b[0;34m.\u001b[0m\u001b[0mndim\u001b[0m \u001b[0;34m>=\u001b[0m \u001b[0;36m3\u001b[0m\u001b[0;34m:\u001b[0m\u001b[0;34m\u001b[0m\u001b[0;34m\u001b[0m\u001b[0m\n\u001b[1;32m    573\u001b[0m             raise ValueError(\"Found array with dim %d. %s expected <= 2.\"\n\u001b[0;32m--> 574\u001b[0;31m                              % (array.ndim, estimator_name))\n\u001b[0m\u001b[1;32m    575\u001b[0m \u001b[0;34m\u001b[0m\u001b[0m\n\u001b[1;32m    576\u001b[0m         \u001b[0;32mif\u001b[0m \u001b[0mforce_all_finite\u001b[0m\u001b[0;34m:\u001b[0m\u001b[0;34m\u001b[0m\u001b[0;34m\u001b[0m\u001b[0m\n",
            "\u001b[0;31mValueError\u001b[0m: Found array with dim 3. Estimator expected <= 2."
          ]
        }
      ]
    }
  ]
}