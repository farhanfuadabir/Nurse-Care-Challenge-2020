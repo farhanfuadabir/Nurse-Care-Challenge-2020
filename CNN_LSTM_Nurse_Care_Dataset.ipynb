{
  "nbformat": 4,
  "nbformat_minor": 0,
  "metadata": {
    "colab": {
      "name": "CNN-LSTM_Nurse_Care_Dataset.ipynb",
      "provenance": [],
      "collapsed_sections": [],
      "authorship_tag": "ABX9TyOYZ0spRswLLkj7ZnbJNeT1",
      "include_colab_link": true
    },
    "kernelspec": {
      "name": "python3",
      "display_name": "Python 3"
    },
    "accelerator": "GPU"
  },
  "cells": [
    {
      "cell_type": "markdown",
      "metadata": {
        "id": "view-in-github",
        "colab_type": "text"
      },
      "source": [
        "<a href=\"https://colab.research.google.com/github/farhanfuadabir/Nurse-Care-Challenge-2020/blob/main/CNN_LSTM_Nurse_Care_Dataset.ipynb\" target=\"_parent\"><img src=\"https://colab.research.google.com/assets/colab-badge.svg\" alt=\"Open In Colab\"/></a>"
      ]
    },
    {
      "cell_type": "code",
      "metadata": {
        "colab": {
          "base_uri": "https://localhost:8080/"
        },
        "id": "HGE-kKDZ3Sla",
        "outputId": "6b8e1a88-8303-4e00-9919-254c5025f2c7"
      },
      "source": [
        "from google.colab import drive\n",
        "drive.mount('/content/drive', force_remount=True)"
      ],
      "execution_count": 4,
      "outputs": [
        {
          "output_type": "stream",
          "text": [
            "Mounted at /content/drive\n"
          ],
          "name": "stdout"
        }
      ]
    },
    {
      "cell_type": "markdown",
      "metadata": {
        "id": "wdExAX7D2vtO"
      },
      "source": [
        "# Dependencies"
      ]
    },
    {
      "cell_type": "code",
      "metadata": {
        "id": "Z0Lzri_qzyT0"
      },
      "source": [
        "# cnn model\n",
        "import numpy as np\n",
        "import pandas as pd\n",
        "from matplotlib import pyplot\n",
        "from joblib import load, dump\n",
        "from tqdm.notebook import tqdm\n",
        "from keras.models import Sequential\n",
        "from keras.layers import Dense\n",
        "from keras.layers import Flatten\n",
        "from keras.layers import Dropout\n",
        "from keras.layers import LSTM\n",
        "from keras.layers import TimeDistributed\n",
        "from keras.layers.convolutional import Conv1D\n",
        "from keras.layers.convolutional import MaxPooling1D\n",
        "from keras.utils import to_categorical"
      ],
      "execution_count": 5,
      "outputs": []
    },
    {
      "cell_type": "markdown",
      "metadata": {
        "id": "CI3_XJduyfUJ"
      },
      "source": [
        "# Process Windowed Dataset for LSTM"
      ]
    },
    {
      "cell_type": "code",
      "metadata": {
        "id": "N14xoSGVU0ga"
      },
      "source": [
        "# load a single file as a numpy array\r\n",
        "def load_file(filepath):\r\n",
        "  dataframe = load(filepath)\r\n",
        "  return dataframe.values\r\n",
        " \r\n",
        "# load a list of files and return as a 3d numpy array\r\n",
        "def load_group(filenames, path):\r\n",
        "\tloaded = list()\r\n",
        "\tfor name in filenames:\r\n",
        "\t\tdata = load_file(path + name)\r\n",
        "\t\tloaded.append(data)\r\n",
        "\t# stack group so that features are the 3rd dimension\r\n",
        "\tloaded = np.dstack(loaded)\r\n",
        "\treturn loaded\r\n",
        " \r\n",
        "# load a dataset group, such as train or test\r\n",
        "def load_dataset_group(group, path):\r\n",
        "\t# load all 3 files as a single array\r\n",
        "\tfilenames = ['acc_x_' + group + '.joblib', 'acc_y_' + group + '.joblib', \r\n",
        "              'acc_z_' + group + '.joblib']\r\n",
        "\t# load input data\r\n",
        "\tX = load_group(filenames, path)\r\n",
        "\t# load class output\r\n",
        "\ty = load_file(path + 'label_' + group + '.joblib')\r\n",
        "\treturn X, y\r\n",
        " \r\n",
        "# load the dataset, returns train and test X and y elements\r\n",
        "def load_dataset(path):\r\n",
        "  # load all train\r\n",
        "  trainX, trainy = load_dataset_group('train', path)\r\n",
        "  print('trainX shape: ', trainX.shape, '   |   trainy shape: ', trainy.shape)\r\n",
        "  # load all test\r\n",
        "  testX, testy = load_dataset_group('test', path)\r\n",
        "  print('testX shape: ', testX.shape, '   |   testy shape: ', testy.shape)\r\n",
        "  # zero-offset class values\r\n",
        "  trainy = trainy - 1\r\n",
        "  testy = testy - 1\r\n",
        "  # one hot encode y\r\n",
        "  trainy = to_categorical(trainy)\r\n",
        "  testy = to_categorical(testy)\r\n",
        "  print('Final Dataset shape: \\n\\nTrain Set: ', end='')\r\n",
        "  print(trainX.shape, '<----->', trainy.shape, '\\nTest Set: ', testX.shape, '<----->', testy.shape)\r\n",
        "  return trainX, trainy, testX, testy"
      ],
      "execution_count": 6,
      "outputs": []
    },
    {
      "cell_type": "code",
      "metadata": {
        "colab": {
          "base_uri": "https://localhost:8080/"
        },
        "id": "f-ASwCghRSJd",
        "outputId": "f415b47e-a412-48ac-9d42-44f5836f7232"
      },
      "source": [
        "# load data\r\n",
        "dataset_path = '/content/drive/MyDrive/Research/NCC Train Test Set (Resampled 20Hz)/Split 80 20/Windowed 1000/'\r\n",
        "trainX, trainy, testX, testy = load_dataset(dataset_path)"
      ],
      "execution_count": 7,
      "outputs": [
        {
          "output_type": "stream",
          "text": [
            "trainX shape:  (85612, 1000, 3)    |   trainy shape:  (85612,)\n",
            "testX shape:  (20485, 1000, 3)    |   testy shape:  (20485,)\n",
            "Final Dataset shape: \n",
            "\n",
            "Train Set: (85612, 1000, 3) <-----> (85612, 12) \n",
            "Test Set:  (20485, 1000, 3) <-----> (20485, 12)\n"
          ],
          "name": "stdout"
        }
      ]
    },
    {
      "cell_type": "markdown",
      "metadata": {
        "id": "9Osl1Rt2VlOt"
      },
      "source": [
        "# LSTM Model"
      ]
    },
    {
      "cell_type": "code",
      "metadata": {
        "id": "3OVlA6CDRLWE"
      },
      "source": [
        "from keras import backend as K\r\n",
        "\r\n",
        "def recall_m(y_true, y_pred):\r\n",
        "  true_positives = K.sum(K.round(K.clip(y_true * y_pred, 0, 1)))\r\n",
        "  possible_positives = K.sum(K.round(K.clip(y_true, 0, 1)))\r\n",
        "  recall = true_positives / (possible_positives + K.epsilon())\r\n",
        "  return recall\r\n",
        "\r\n",
        "def precision_m(y_true, y_pred):\r\n",
        "  true_positives = K.sum(K.round(K.clip(y_true * y_pred, 0, 1)))\r\n",
        "  predicted_positives = K.sum(K.round(K.clip(y_pred, 0, 1)))\r\n",
        "  precision = true_positives / (predicted_positives + K.epsilon())\r\n",
        "  return precision\r\n",
        "\r\n",
        "def f1_m(y_true, y_pred):\r\n",
        "  precision = precision_m(y_true, y_pred)\r\n",
        "  recall = recall_m(y_true, y_pred)\r\n",
        "  return 2*((precision*recall)/(precision+recall+K.epsilon()))\r\n",
        "\r\n",
        "# fit and evaluate a model\r\n",
        "def evaluate_model(trainX, trainy, testX, testy, verbose, epochs, batch_size):\r\n",
        "  n_timesteps, n_features, n_outputs = trainX.shape[1], trainX.shape[2], trainy.shape[1]\r\n",
        "  # reshape data into time steps of sub-sequences\r\n",
        "  n_steps, n_length = 10, 100\r\n",
        "  trainX = trainX.reshape((trainX.shape[0], n_steps, n_length, n_features))\r\n",
        "  testX = testX.reshape((testX.shape[0], n_steps, n_length, n_features))\r\n",
        "  # define model\r\n",
        "  model = Sequential()\r\n",
        "  model.add(TimeDistributed(Conv1D(filters=64, kernel_size=3, activation='relu'), input_shape=(None,n_length,n_features)))\r\n",
        "  model.add(TimeDistributed(Conv1D(filters=64, kernel_size=3, activation='relu')))\r\n",
        "  model.add(TimeDistributed(Dropout(0.5)))\r\n",
        "  model.add(TimeDistributed(MaxPooling1D(pool_size=2)))\r\n",
        "  model.add(TimeDistributed(Flatten()))\r\n",
        "  model.add(LSTM(100))\r\n",
        "  model.add(Dropout(0.5))\r\n",
        "  model.add(Dense(100, activation='relu'))\r\n",
        "  model.add(Dense(n_outputs, activation='softmax'))\r\n",
        "  model.compile(loss='categorical_crossentropy', optimizer='adam', \r\n",
        "                metrics=['accuracy', f1_m, precision_m, recall_m])\r\n",
        "  # fit network\r\n",
        "  # model.fit(trainX, trainy, epochs=epochs, batch_size=batch_size, verbose=verbose)\r\n",
        "  # # evaluate model\r\n",
        "  # _, accuracy = model.evaluate(testX, testy, batch_size=batch_size, verbose=0)\r\n",
        "  import time\r\n",
        "  t_start = time.clock()\r\n",
        "  from keras import callbacks \r\n",
        "  earlystopping = callbacks.EarlyStopping(monitor =\"val_loss\", mode =\"min\", \r\n",
        "                                          patience = 50, verbose = 1, \r\n",
        "                                          restore_best_weights = True) \r\n",
        "\r\n",
        "  history = model.fit(trainX, trainy, batch_size = batch_size,  \r\n",
        "                      epochs = epochs, validation_data =(testX, testy),  \r\n",
        "                      callbacks =[earlystopping]) \r\n",
        "  #history = model.fit(trainX, trainy, epochs=epochs, batch_size=batch_size, verbose=verbose)\r\n",
        "\r\n",
        "  t_end = time.clock()\r\n",
        "\r\n",
        "  print('\\n\\n\\n')\r\n",
        "\r\n",
        "  #_, accuracy_train = model.evaluate(X_train, y_train)\r\n",
        "  loss_train, accuracy_train, f1_score_train, precision_train, recall_train = model.evaluate(trainX, trainy, verbose=1)\r\n",
        "  print('Train Accuracy: %.2f' % (accuracy_train*100))\r\n",
        "  print('Train F1 Score: %.2f' % (f1_score_train*100))\r\n",
        "  print('Train Time: ', t_end - t_start)\r\n",
        "\r\n",
        "  t_start = time.clock()\r\n",
        "  #_, accuracy_test = model.evaluate(X_test, y_test)\r\n",
        "  loss_test, accuracy_test, f1_score_test, precision_test, recall_test = model.evaluate(testX, testy, verbose=1)\r\n",
        "  print('Test Accuracy: %.2f' % (accuracy_test*100))\r\n",
        "  print('Test F1 Score: %.2f' % (f1_score_test*100))\r\n",
        "  t_end = time.clock()\r\n",
        "  print('Test Time: ', t_end - t_start)\r\n",
        "\r\n",
        "  return f1_score_test, history\r\n",
        " \r\n",
        "# summarize scores\r\n",
        "def summarize_results(scores):\r\n",
        "\tprint(scores)\r\n",
        "\tm, s = np.mean(scores), np.std(scores)\r\n",
        "\tprint('Accuracy: %.3f%% (+/-%.3f)' % (m, s))\r\n",
        " \r\n",
        "# run an experiment\r\n",
        "def run_experiment(repeats=10, verbose=True, epochs=10, batch_size=32):\r\n",
        "  # repeat experiment\r\n",
        "  scores = list()\r\n",
        "  for r in tqdm(range(repeats)):\r\n",
        "    score, history = evaluate_model(trainX, trainy, testX, testy, verbose, epochs, batch_size)\r\n",
        "    print('%.3f' % (score * 100.0))\r\n",
        "    scores.append(score)\r\n",
        "  # summarize results\r\n",
        "  summarize_results(scores)"
      ],
      "execution_count": 23,
      "outputs": []
    },
    {
      "cell_type": "markdown",
      "metadata": {
        "id": "bI39XiUQXvqc"
      },
      "source": [
        "## Train"
      ]
    },
    {
      "cell_type": "code",
      "metadata": {
        "colab": {
          "base_uri": "https://localhost:8080/"
        },
        "id": "q1ghlsSpVu9S",
        "outputId": "13faab30-78ff-4688-910f-0e0f6ed07692"
      },
      "source": [
        "# for single iteration\r\n",
        "score, history = evaluate_model(trainX, trainy, testX, testy, verbose=2, epochs=150, batch_size=32)\r\n",
        "print('Score:', '%.3f' % (score * 100.0))"
      ],
      "execution_count": null,
      "outputs": [
        {
          "output_type": "stream",
          "text": [
            "Epoch 1/150\n",
            "2676/2676 [==============================] - 25s 9ms/step - loss: 0.9979 - accuracy: 0.6134 - f1_m: 0.5633 - precision_m: 0.7283 - recall_m: 0.4635 - val_loss: 0.7094 - val_accuracy: 0.6458 - val_f1_m: 0.6199 - val_precision_m: 0.6255 - val_recall_m: 0.6189\n",
            "Epoch 2/150\n",
            "2676/2676 [==============================] - 23s 8ms/step - loss: 0.8196 - accuracy: 0.6621 - f1_m: 0.6113 - precision_m: 0.7776 - recall_m: 0.5074 - val_loss: 0.7366 - val_accuracy: 0.6480 - val_f1_m: 0.6157 - val_precision_m: 0.6201 - val_recall_m: 0.6148\n",
            "Epoch 3/150\n",
            "2676/2676 [==============================] - 23s 8ms/step - loss: 0.7928 - accuracy: 0.6801 - f1_m: 0.6358 - precision_m: 0.7804 - recall_m: 0.5401 - val_loss: 0.7021 - val_accuracy: 0.6997 - val_f1_m: 0.6594 - val_precision_m: 0.6658 - val_recall_m: 0.6586\n",
            "Epoch 4/150\n",
            "2676/2676 [==============================] - 22s 8ms/step - loss: 0.7554 - accuracy: 0.6971 - f1_m: 0.6648 - precision_m: 0.7918 - recall_m: 0.5764 - val_loss: 0.7461 - val_accuracy: 0.6917 - val_f1_m: 0.6633 - val_precision_m: 0.6845 - val_recall_m: 0.6599\n",
            "Epoch 5/150\n",
            "2676/2676 [==============================] - 23s 8ms/step - loss: 0.7524 - accuracy: 0.6948 - f1_m: 0.6645 - precision_m: 0.7788 - recall_m: 0.5825 - val_loss: 0.7101 - val_accuracy: 0.6970 - val_f1_m: 0.6635 - val_precision_m: 0.6775 - val_recall_m: 0.6612\n",
            "Epoch 6/150\n",
            "2676/2676 [==============================] - 22s 8ms/step - loss: 0.7414 - accuracy: 0.7037 - f1_m: 0.6701 - precision_m: 0.7906 - recall_m: 0.5853 - val_loss: 0.7335 - val_accuracy: 0.6625 - val_f1_m: 0.6223 - val_precision_m: 0.6365 - val_recall_m: 0.6206\n",
            "Epoch 7/150\n",
            "2676/2676 [==============================] - 22s 8ms/step - loss: 0.7334 - accuracy: 0.7056 - f1_m: 0.6722 - precision_m: 0.7951 - recall_m: 0.5863 - val_loss: 0.7169 - val_accuracy: 0.6966 - val_f1_m: 0.6587 - val_precision_m: 0.6637 - val_recall_m: 0.6572\n",
            "Epoch 8/150\n",
            "2676/2676 [==============================] - 23s 8ms/step - loss: 0.7272 - accuracy: 0.7131 - f1_m: 0.6852 - precision_m: 0.7968 - recall_m: 0.6045 - val_loss: 0.7170 - val_accuracy: 0.7050 - val_f1_m: 0.6643 - val_precision_m: 0.6935 - val_recall_m: 0.6610\n",
            "Epoch 9/150\n",
            "2676/2676 [==============================] - 22s 8ms/step - loss: 0.7249 - accuracy: 0.7129 - f1_m: 0.6857 - precision_m: 0.7939 - recall_m: 0.6064 - val_loss: 0.8007 - val_accuracy: 0.6928 - val_f1_m: 0.6748 - val_precision_m: 0.6845 - val_recall_m: 0.6715\n",
            "Epoch 10/150\n",
            "2676/2676 [==============================] - 22s 8ms/step - loss: 0.7217 - accuracy: 0.7161 - f1_m: 0.6855 - precision_m: 0.7967 - recall_m: 0.6046 - val_loss: 0.7253 - val_accuracy: 0.6969 - val_f1_m: 0.6779 - val_precision_m: 0.6910 - val_recall_m: 0.6728\n",
            "Epoch 11/150\n",
            "2676/2676 [==============================] - 23s 9ms/step - loss: 0.7069 - accuracy: 0.7180 - f1_m: 0.6966 - precision_m: 0.7892 - recall_m: 0.6263 - val_loss: 0.7078 - val_accuracy: 0.6951 - val_f1_m: 0.6682 - val_precision_m: 0.6866 - val_recall_m: 0.6642\n",
            "Epoch 12/150\n",
            "2676/2676 [==============================] - 22s 8ms/step - loss: 0.7067 - accuracy: 0.7141 - f1_m: 0.6882 - precision_m: 0.7959 - recall_m: 0.6092 - val_loss: 0.7200 - val_accuracy: 0.7002 - val_f1_m: 0.6846 - val_precision_m: 0.7000 - val_recall_m: 0.6798\n",
            "Epoch 13/150\n",
            "2676/2676 [==============================] - 22s 8ms/step - loss: 0.7175 - accuracy: 0.7151 - f1_m: 0.6909 - precision_m: 0.7879 - recall_m: 0.6182 - val_loss: 0.7420 - val_accuracy: 0.6970 - val_f1_m: 0.6703 - val_precision_m: 0.6857 - val_recall_m: 0.6662\n",
            "Epoch 14/150\n",
            "2676/2676 [==============================] - 23s 8ms/step - loss: 0.7012 - accuracy: 0.7211 - f1_m: 0.6972 - precision_m: 0.7945 - recall_m: 0.6243 - val_loss: 0.7440 - val_accuracy: 0.6979 - val_f1_m: 0.6683 - val_precision_m: 0.6842 - val_recall_m: 0.6649\n",
            "Epoch 15/150\n",
            "2676/2676 [==============================] - 23s 9ms/step - loss: 0.7243 - accuracy: 0.7077 - f1_m: 0.6777 - precision_m: 0.8035 - recall_m: 0.5896 - val_loss: 0.7945 - val_accuracy: 0.6840 - val_f1_m: 0.6589 - val_precision_m: 0.6756 - val_recall_m: 0.6562\n",
            "Epoch 16/150\n",
            "2676/2676 [==============================] - 23s 8ms/step - loss: 0.7101 - accuracy: 0.7123 - f1_m: 0.6851 - precision_m: 0.8044 - recall_m: 0.6000 - val_loss: 0.7781 - val_accuracy: 0.6901 - val_f1_m: 0.6752 - val_precision_m: 0.6874 - val_recall_m: 0.6713\n",
            "Epoch 17/150\n",
            "2676/2676 [==============================] - 22s 8ms/step - loss: 0.7236 - accuracy: 0.7131 - f1_m: 0.6884 - precision_m: 0.8008 - recall_m: 0.6070 - val_loss: 0.7483 - val_accuracy: 0.6953 - val_f1_m: 0.6786 - val_precision_m: 0.6948 - val_recall_m: 0.6737\n",
            "Epoch 18/150\n",
            "2676/2676 [==============================] - 23s 8ms/step - loss: 0.7099 - accuracy: 0.7150 - f1_m: 0.6904 - precision_m: 0.8002 - recall_m: 0.6103 - val_loss: 0.7444 - val_accuracy: 0.6971 - val_f1_m: 0.6757 - val_precision_m: 0.6962 - val_recall_m: 0.6706\n",
            "Epoch 19/150\n",
            "2676/2676 [==============================] - 22s 8ms/step - loss: 0.7049 - accuracy: 0.7155 - f1_m: 0.6924 - precision_m: 0.7953 - recall_m: 0.6165 - val_loss: 0.7662 - val_accuracy: 0.6984 - val_f1_m: 0.6787 - val_precision_m: 0.6938 - val_recall_m: 0.6741\n",
            "Epoch 20/150\n",
            "2676/2676 [==============================] - 22s 8ms/step - loss: 0.7014 - accuracy: 0.7192 - f1_m: 0.6966 - precision_m: 0.7992 - recall_m: 0.6201 - val_loss: 0.7264 - val_accuracy: 0.6976 - val_f1_m: 0.6705 - val_precision_m: 0.6907 - val_recall_m: 0.6667\n",
            "Epoch 21/150\n",
            "2676/2676 [==============================] - 23s 8ms/step - loss: 0.7043 - accuracy: 0.7141 - f1_m: 0.6951 - precision_m: 0.7990 - recall_m: 0.6178 - val_loss: 0.7664 - val_accuracy: 0.6991 - val_f1_m: 0.6773 - val_precision_m: 0.6938 - val_recall_m: 0.6724\n",
            "Epoch 22/150\n",
            "2676/2676 [==============================] - 22s 8ms/step - loss: 0.7000 - accuracy: 0.7156 - f1_m: 0.6961 - precision_m: 0.7970 - recall_m: 0.6211 - val_loss: 0.7465 - val_accuracy: 0.6944 - val_f1_m: 0.6706 - val_precision_m: 0.6903 - val_recall_m: 0.6667\n",
            "Epoch 23/150\n",
            "2676/2676 [==============================] - 23s 8ms/step - loss: 0.7156 - accuracy: 0.7167 - f1_m: 0.6934 - precision_m: 0.8030 - recall_m: 0.6131 - val_loss: 0.7214 - val_accuracy: 0.6936 - val_f1_m: 0.6801 - val_precision_m: 0.6933 - val_recall_m: 0.6756\n",
            "Epoch 24/150\n",
            "2676/2676 [==============================] - 22s 8ms/step - loss: 0.7234 - accuracy: 0.7109 - f1_m: 0.6814 - precision_m: 0.8092 - recall_m: 0.5918 - val_loss: 0.7240 - val_accuracy: 0.6950 - val_f1_m: 0.6666 - val_precision_m: 0.6915 - val_recall_m: 0.6632\n",
            "Epoch 25/150\n",
            "2676/2676 [==============================] - 23s 8ms/step - loss: 0.7074 - accuracy: 0.7151 - f1_m: 0.6930 - precision_m: 0.7983 - recall_m: 0.6151 - val_loss: 0.7529 - val_accuracy: 0.6936 - val_f1_m: 0.6760 - val_precision_m: 0.6903 - val_recall_m: 0.6713\n",
            "Epoch 26/150\n",
            "2676/2676 [==============================] - 23s 8ms/step - loss: 0.6944 - accuracy: 0.7195 - f1_m: 0.6992 - precision_m: 0.8001 - recall_m: 0.6240 - val_loss: 0.7220 - val_accuracy: 0.6971 - val_f1_m: 0.6646 - val_precision_m: 0.6828 - val_recall_m: 0.6621\n",
            "Epoch 27/150\n",
            "2676/2676 [==============================] - 22s 8ms/step - loss: 0.7016 - accuracy: 0.7202 - f1_m: 0.7001 - precision_m: 0.7981 - recall_m: 0.6262 - val_loss: 0.7340 - val_accuracy: 0.6945 - val_f1_m: 0.6829 - val_precision_m: 0.6971 - val_recall_m: 0.6776\n",
            "Epoch 28/150\n",
            "2676/2676 [==============================] - 23s 8ms/step - loss: 0.6920 - accuracy: 0.7235 - f1_m: 0.7051 - precision_m: 0.7966 - recall_m: 0.6351 - val_loss: 0.7778 - val_accuracy: 0.7010 - val_f1_m: 0.6895 - val_precision_m: 0.7067 - val_recall_m: 0.6827\n",
            "Epoch 29/150\n",
            "2676/2676 [==============================] - 22s 8ms/step - loss: 0.7074 - accuracy: 0.7193 - f1_m: 0.6973 - precision_m: 0.7921 - recall_m: 0.6253 - val_loss: 0.7487 - val_accuracy: 0.7086 - val_f1_m: 0.6884 - val_precision_m: 0.7093 - val_recall_m: 0.6816\n",
            "Epoch 30/150\n",
            "2676/2676 [==============================] - 22s 8ms/step - loss: 0.6954 - accuracy: 0.7261 - f1_m: 0.7002 - precision_m: 0.8086 - recall_m: 0.6203 - val_loss: 0.7616 - val_accuracy: 0.6942 - val_f1_m: 0.6818 - val_precision_m: 0.6913 - val_recall_m: 0.6778\n",
            "Epoch 31/150\n",
            "2676/2676 [==============================] - 23s 8ms/step - loss: 0.6956 - accuracy: 0.7223 - f1_m: 0.7032 - precision_m: 0.7981 - recall_m: 0.6311 - val_loss: 0.7248 - val_accuracy: 0.6979 - val_f1_m: 0.6740 - val_precision_m: 0.6973 - val_recall_m: 0.6694\n",
            "Epoch 32/150\n",
            "2676/2676 [==============================] - 23s 8ms/step - loss: 0.7038 - accuracy: 0.7179 - f1_m: 0.6928 - precision_m: 0.8034 - recall_m: 0.6120 - val_loss: 0.7621 - val_accuracy: 0.6986 - val_f1_m: 0.6832 - val_precision_m: 0.6975 - val_recall_m: 0.6788\n",
            "Epoch 33/150\n",
            "2676/2676 [==============================] - 23s 8ms/step - loss: 0.7155 - accuracy: 0.7177 - f1_m: 0.6963 - precision_m: 0.7906 - recall_m: 0.6247 - val_loss: 0.7555 - val_accuracy: 0.6928 - val_f1_m: 0.6717 - val_precision_m: 0.6932 - val_recall_m: 0.6675\n",
            "Epoch 34/150\n",
            "2676/2676 [==============================] - 22s 8ms/step - loss: 0.7152 - accuracy: 0.7144 - f1_m: 0.6867 - precision_m: 0.8036 - recall_m: 0.6031 - val_loss: 0.7543 - val_accuracy: 0.6971 - val_f1_m: 0.6848 - val_precision_m: 0.7000 - val_recall_m: 0.6803\n",
            "Epoch 35/150\n",
            "2676/2676 [==============================] - 22s 8ms/step - loss: 0.6927 - accuracy: 0.7186 - f1_m: 0.7002 - precision_m: 0.7927 - recall_m: 0.6298 - val_loss: 0.7258 - val_accuracy: 0.6969 - val_f1_m: 0.6842 - val_precision_m: 0.7010 - val_recall_m: 0.6793\n",
            "Epoch 36/150\n",
            "2676/2676 [==============================] - 23s 8ms/step - loss: 0.6957 - accuracy: 0.7174 - f1_m: 0.6964 - precision_m: 0.7972 - recall_m: 0.6211 - val_loss: 0.8011 - val_accuracy: 0.6701 - val_f1_m: 0.6569 - val_precision_m: 0.6705 - val_recall_m: 0.6528\n",
            "Epoch 37/150\n",
            "2676/2676 [==============================] - 23s 8ms/step - loss: 0.6963 - accuracy: 0.7196 - f1_m: 0.6996 - precision_m: 0.8000 - recall_m: 0.6246 - val_loss: 0.7522 - val_accuracy: 0.6947 - val_f1_m: 0.6830 - val_precision_m: 0.6938 - val_recall_m: 0.6783\n",
            "Epoch 38/150\n",
            "2676/2676 [==============================] - 23s 8ms/step - loss: 0.6790 - accuracy: 0.7245 - f1_m: 0.7088 - precision_m: 0.7968 - recall_m: 0.6410 - val_loss: 0.7668 - val_accuracy: 0.6606 - val_f1_m: 0.6491 - val_precision_m: 0.6648 - val_recall_m: 0.6443\n",
            "Epoch 39/150\n",
            "1861/2676 [===================>..........] - ETA: 6s - loss: 0.6829 - accuracy: 0.7245 - f1_m: 0.7088 - precision_m: 0.7990 - recall_m: 0.6396"
          ],
          "name": "stdout"
        }
      ]
    },
    {
      "cell_type": "markdown",
      "metadata": {
        "id": "ABdoe1LABP7z"
      },
      "source": [
        "## **CNN-LSTM Model Summary**\r\n",
        "\r\n",
        "| Window | Batch Size | Optimal Epoch | Train Accuracy | Train F1 | Train Time | Validation Accuracy | Validation F1 | Validation Time |\r\n",
        "| :---: | :----: | :---: | :---: | :----: | :---: | :---: | :---: | :---: |\r\n",
        "| 1000pt - 20Hz | 16 |||||||\r\n",
        "| 1000pt - 20Hz | 25 |||||||\r\n",
        "| 1000pt - 20Hz | 32 |||||||\r\n",
        "| 250pt - 20Hz | 16 |||||||\r\n",
        "| 250pt - 20Hz | 25 |||||||\r\n",
        "| 250pt - 20Hz | 32 |||||||"
      ]
    },
    {
      "cell_type": "markdown",
      "metadata": {
        "id": "DM0bejafiVXK"
      },
      "source": [
        "##### Epoch = 100, Batch Size = 32\r\n",
        "```\r\n",
        "\r\n",
        "2933/2933 [==============================] - 10s 3ms/step - loss: 0.2989 - categorical_accuracy: 0.8600 - f1_m: 0.8512 - precision_m: 0.8748 - recall_m: 0.8356\r\n",
        "Train Accuracy: 86.00\r\n",
        "Train F1 Score: 85.12\r\n",
        "Train Time:  1827.533109\r\n",
        "712/712 [==============================] - 2s 3ms/step - loss: 1.6941 - categorical_accuracy: 0.6865 - f1_m: 0.6793 - precision_m: 0.6880 - recall_m: 0.6734\r\n",
        "Test Accuracy: 68.65\r\n",
        "Test F1 Score: 67.93\r\n",
        "Test Time:  3.178812999999991\r\n",
        "Score: 67.926\r\n",
        "```"
      ]
    },
    {
      "cell_type": "code",
      "metadata": {
        "id": "yOzgB6yIlx_3",
        "colab": {
          "base_uri": "https://localhost:8080/",
          "height": 295
        },
        "outputId": "32d12a86-7051-42f2-c296-ecf4b05588bd"
      },
      "source": [
        "import matplotlib.pyplot as plt\r\n",
        "plt.plot(history.history['loss'])\r\n",
        "plt.plot(history.history['val_loss'])\r\n",
        "plt.title('Model Accuracy')\r\n",
        "plt.ylabel('accuracy')\r\n",
        "plt.xlabel('epoch')\r\n",
        "plt.legend(['train', 'test'], loc='upper left')\r\n",
        "plt.show()"
      ],
      "execution_count": 20,
      "outputs": [
        {
          "output_type": "display_data",
          "data": {
            "image/png": "[encoded data removed]",
            "text/plain": [
              "<Figure size 432x288 with 1 Axes>"
            ]
          },
          "metadata": {
            "tags": [],
            "needs_background": "light"
          }
        }
      ]
    },
    {
      "cell_type": "code",
      "metadata": {
        "id": "lVm4ma-dy3ie"
      },
      "source": [
        "# run the experiment for interations\n",
        "run_experiment(10, verbose=False, epochs=80, batch_size=32)"
      ],
      "execution_count": null,
      "outputs": []
    },
    {
      "cell_type": "markdown",
      "metadata": {
        "id": "R3yrtIFOYyMM"
      },
      "source": [
        "# Random Forest Model"
      ]
    },
    {
      "cell_type": "code",
      "metadata": {
        "colab": {
          "base_uri": "https://localhost:8080/",
          "height": 392
        },
        "id": "Q_siG1bHY11-",
        "outputId": "a94ff044-7070-40f1-bfd1-c7db68630451"
      },
      "source": [
        "from sklearn.model_selection import train_test_split, cross_val_score\r\n",
        "from sklearn.metrics import classification_report, confusion_matrix, accuracy_score\r\n",
        "from sklearn.ensemble import RandomForestClassifier\r\n",
        "\r\n",
        "# load label set again\r\n",
        "trainy_2 = load_file(dataset_path + 'label_train.joblib')\r\n",
        "testy_2 = load_file(dataset_path + 'label_test.joblib')\r\n",
        "\r\n",
        "clf = RandomForestClassifier(verbose=True,n_jobs=-1)\r\n",
        "\r\n",
        "clf.fit(trainX, trainy_2)\r\n",
        "y_pred = clf.predict(testX)\r\n",
        "\r\n",
        "# Evaluate Algorithm\r\n",
        "print(\"\\n\\nConfusion Matrix: \\n\\n\",confusion_matrix(testy_2,y_pred))\r\n",
        "print(\"\\n\\nReport: \\n\\n\",classification_report(testy_2,y_pred))\r\n",
        "print(\"Accuracy: \",accuracy_score(testy_2,y_pred))"
      ],
      "execution_count": null,
      "outputs": [
        {
          "output_type": "error",
          "ename": "ValueError",
          "evalue": "ignored",
          "traceback": [
            "\u001b[0;31m---------------------------------------------------------------------------\u001b[0m",
            "\u001b[0;31mValueError\u001b[0m                                Traceback (most recent call last)",
            "\u001b[0;32m<ipython-input-27-6bccb90cdde9>\u001b[0m in \u001b[0;36m<module>\u001b[0;34m()\u001b[0m\n\u001b[1;32m      9\u001b[0m \u001b[0mclf\u001b[0m \u001b[0;34m=\u001b[0m \u001b[0mRandomForestClassifier\u001b[0m\u001b[0;34m(\u001b[0m\u001b[0mverbose\u001b[0m\u001b[0;34m=\u001b[0m\u001b[0;32mTrue\u001b[0m\u001b[0;34m,\u001b[0m\u001b[0mn_jobs\u001b[0m\u001b[0;34m=\u001b[0m\u001b[0;34m-\u001b[0m\u001b[0;36m1\u001b[0m\u001b[0;34m)\u001b[0m\u001b[0;34m\u001b[0m\u001b[0;34m\u001b[0m\u001b[0m\n\u001b[1;32m     10\u001b[0m \u001b[0;34m\u001b[0m\u001b[0m\n\u001b[0;32m---> 11\u001b[0;31m \u001b[0mclf\u001b[0m\u001b[0;34m.\u001b[0m\u001b[0mfit\u001b[0m\u001b[0;34m(\u001b[0m\u001b[0mtrainX\u001b[0m\u001b[0;34m,\u001b[0m \u001b[0mtrainy_2\u001b[0m\u001b[0;34m)\u001b[0m\u001b[0;34m\u001b[0m\u001b[0;34m\u001b[0m\u001b[0m\n\u001b[0m\u001b[1;32m     12\u001b[0m \u001b[0my_pred\u001b[0m \u001b[0;34m=\u001b[0m \u001b[0mclf\u001b[0m\u001b[0;34m.\u001b[0m\u001b[0mpredict\u001b[0m\u001b[0;34m(\u001b[0m\u001b[0mtestX\u001b[0m\u001b[0;34m)\u001b[0m\u001b[0;34m\u001b[0m\u001b[0;34m\u001b[0m\u001b[0m\n\u001b[1;32m     13\u001b[0m \u001b[0;34m\u001b[0m\u001b[0m\n",
            "\u001b[0;32m/usr/local/lib/python3.6/dist-packages/sklearn/ensemble/_forest.py\u001b[0m in \u001b[0;36mfit\u001b[0;34m(self, X, y, sample_weight)\u001b[0m\n\u001b[1;32m    293\u001b[0m         \"\"\"\n\u001b[1;32m    294\u001b[0m         \u001b[0;31m# Validate or convert input data\u001b[0m\u001b[0;34m\u001b[0m\u001b[0;34m\u001b[0m\u001b[0;34m\u001b[0m\u001b[0m\n\u001b[0;32m--> 295\u001b[0;31m         \u001b[0mX\u001b[0m \u001b[0;34m=\u001b[0m \u001b[0mcheck_array\u001b[0m\u001b[0;34m(\u001b[0m\u001b[0mX\u001b[0m\u001b[0;34m,\u001b[0m \u001b[0maccept_sparse\u001b[0m\u001b[0;34m=\u001b[0m\u001b[0;34m\"csc\"\u001b[0m\u001b[0;34m,\u001b[0m \u001b[0mdtype\u001b[0m\u001b[0;34m=\u001b[0m\u001b[0mDTYPE\u001b[0m\u001b[0;34m)\u001b[0m\u001b[0;34m\u001b[0m\u001b[0;34m\u001b[0m\u001b[0m\n\u001b[0m\u001b[1;32m    296\u001b[0m         \u001b[0my\u001b[0m \u001b[0;34m=\u001b[0m \u001b[0mcheck_array\u001b[0m\u001b[0;34m(\u001b[0m\u001b[0my\u001b[0m\u001b[0;34m,\u001b[0m \u001b[0maccept_sparse\u001b[0m\u001b[0;34m=\u001b[0m\u001b[0;34m'csc'\u001b[0m\u001b[0;34m,\u001b[0m \u001b[0mensure_2d\u001b[0m\u001b[0;34m=\u001b[0m\u001b[0;32mFalse\u001b[0m\u001b[0;34m,\u001b[0m \u001b[0mdtype\u001b[0m\u001b[0;34m=\u001b[0m\u001b[0;32mNone\u001b[0m\u001b[0;34m)\u001b[0m\u001b[0;34m\u001b[0m\u001b[0;34m\u001b[0m\u001b[0m\n\u001b[1;32m    297\u001b[0m         \u001b[0;32mif\u001b[0m \u001b[0msample_weight\u001b[0m \u001b[0;32mis\u001b[0m \u001b[0;32mnot\u001b[0m \u001b[0;32mNone\u001b[0m\u001b[0;34m:\u001b[0m\u001b[0;34m\u001b[0m\u001b[0;34m\u001b[0m\u001b[0m\n",
            "\u001b[0;32m/usr/local/lib/python3.6/dist-packages/sklearn/utils/validation.py\u001b[0m in \u001b[0;36mcheck_array\u001b[0;34m(array, accept_sparse, accept_large_sparse, dtype, order, copy, force_all_finite, ensure_2d, allow_nd, ensure_min_samples, ensure_min_features, warn_on_dtype, estimator)\u001b[0m\n\u001b[1;32m    572\u001b[0m         \u001b[0;32mif\u001b[0m \u001b[0;32mnot\u001b[0m \u001b[0mallow_nd\u001b[0m \u001b[0;32mand\u001b[0m \u001b[0marray\u001b[0m\u001b[0;34m.\u001b[0m\u001b[0mndim\u001b[0m \u001b[0;34m>=\u001b[0m \u001b[0;36m3\u001b[0m\u001b[0;34m:\u001b[0m\u001b[0;34m\u001b[0m\u001b[0;34m\u001b[0m\u001b[0m\n\u001b[1;32m    573\u001b[0m             raise ValueError(\"Found array with dim %d. %s expected <= 2.\"\n\u001b[0;32m--> 574\u001b[0;31m                              % (array.ndim, estimator_name))\n\u001b[0m\u001b[1;32m    575\u001b[0m \u001b[0;34m\u001b[0m\u001b[0m\n\u001b[1;32m    576\u001b[0m         \u001b[0;32mif\u001b[0m \u001b[0mforce_all_finite\u001b[0m\u001b[0;34m:\u001b[0m\u001b[0;34m\u001b[0m\u001b[0;34m\u001b[0m\u001b[0m\n",
            "\u001b[0;31mValueError\u001b[0m: Found array with dim 3. Estimator expected <= 2."
          ]
        }
      ]
    }
  ]
}