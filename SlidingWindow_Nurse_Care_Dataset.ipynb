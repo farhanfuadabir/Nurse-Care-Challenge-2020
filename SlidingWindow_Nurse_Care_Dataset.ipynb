{
  "nbformat": 4,
  "nbformat_minor": 0,
  "metadata": {
    "colab": {
      "name": "SlidingWindow_Nurse_Care_Dataset.ipynb",
      "provenance": [],
      "authorship_tag": "ABX9TyOO609IWjdF8cAFj/xGghW6",
      "include_colab_link": true
    },
    "kernelspec": {
      "name": "python3",
      "display_name": "Python 3"
    },
    "widgets": {
      "application/vnd.jupyter.widget-state+json": {
        "d62e044f32074ca8bfac87b25e22a130": {
          "model_module": "@jupyter-widgets/controls",
          "model_name": "HBoxModel",
          "state": {
            "_view_name": "HBoxView",
            "_dom_classes": [],
            "_model_name": "HBoxModel",
            "_view_module": "@jupyter-widgets/controls",
            "_model_module_version": "1.5.0",
            "_view_count": null,
            "_view_module_version": "1.5.0",
            "box_style": "",
            "layout": "IPY_MODEL_fd38e0c4920a456191f8ca0d4334f8ac",
            "_model_module": "@jupyter-widgets/controls",
            "children": [
              "IPY_MODEL_47ac31ae6178402ca16942237d9e4e34",
              "IPY_MODEL_5fdd8a6093b344b48675e74752270fe6"
            ]
          }
        },
        "fd38e0c4920a456191f8ca0d4334f8ac": {
          "model_module": "@jupyter-widgets/base",
          "model_name": "LayoutModel",
          "state": {
            "_view_name": "LayoutView",
            "grid_template_rows": null,
            "right": null,
            "justify_content": null,
            "_view_module": "@jupyter-widgets/base",
            "overflow": null,
            "_model_module_version": "1.2.0",
            "_view_count": null,
            "flex_flow": null,
            "width": null,
            "min_width": null,
            "border": null,
            "align_items": null,
            "bottom": null,
            "_model_module": "@jupyter-widgets/base",
            "top": null,
            "grid_column": null,
            "overflow_y": null,
            "overflow_x": null,
            "grid_auto_flow": null,
            "grid_area": null,
            "grid_template_columns": null,
            "flex": null,
            "_model_name": "LayoutModel",
            "justify_items": null,
            "grid_row": null,
            "max_height": null,
            "align_content": null,
            "visibility": null,
            "align_self": null,
            "height": null,
            "min_height": null,
            "padding": null,
            "grid_auto_rows": null,
            "grid_gap": null,
            "max_width": null,
            "order": null,
            "_view_module_version": "1.2.0",
            "grid_template_areas": null,
            "object_position": null,
            "object_fit": null,
            "grid_auto_columns": null,
            "margin": null,
            "display": null,
            "left": null
          }
        },
        "47ac31ae6178402ca16942237d9e4e34": {
          "model_module": "@jupyter-widgets/controls",
          "model_name": "FloatProgressModel",
          "state": {
            "_view_name": "ProgressView",
            "style": "IPY_MODEL_49c2c1f45488456891aac3d2bf01038d",
            "_dom_classes": [],
            "description": " 19%",
            "_model_name": "FloatProgressModel",
            "bar_style": "",
            "max": 881,
            "_view_module": "@jupyter-widgets/controls",
            "_model_module_version": "1.5.0",
            "value": 169,
            "_view_count": null,
            "_view_module_version": "1.5.0",
            "orientation": "horizontal",
            "min": 0,
            "description_tooltip": null,
            "_model_module": "@jupyter-widgets/controls",
            "layout": "IPY_MODEL_9c1ccd88902e418cb85776a8820756a9"
          }
        },
        "5fdd8a6093b344b48675e74752270fe6": {
          "model_module": "@jupyter-widgets/controls",
          "model_name": "HTMLModel",
          "state": {
            "_view_name": "HTMLView",
            "style": "IPY_MODEL_b15fba565fd941e69cb352af0f5615c6",
            "_dom_classes": [],
            "description": "",
            "_model_name": "HTMLModel",
            "placeholder": "​",
            "_view_module": "@jupyter-widgets/controls",
            "_model_module_version": "1.5.0",
            "value": " 169/881 [08:14&lt;9:20:18, 47.22s/it]",
            "_view_count": null,
            "_view_module_version": "1.5.0",
            "description_tooltip": null,
            "_model_module": "@jupyter-widgets/controls",
            "layout": "IPY_MODEL_8b78ed3ba4f9447c96d7c86be6c9e4fc"
          }
        },
        "49c2c1f45488456891aac3d2bf01038d": {
          "model_module": "@jupyter-widgets/controls",
          "model_name": "ProgressStyleModel",
          "state": {
            "_view_name": "StyleView",
            "_model_name": "ProgressStyleModel",
            "description_width": "initial",
            "_view_module": "@jupyter-widgets/base",
            "_model_module_version": "1.5.0",
            "_view_count": null,
            "_view_module_version": "1.2.0",
            "bar_color": null,
            "_model_module": "@jupyter-widgets/controls"
          }
        },
        "9c1ccd88902e418cb85776a8820756a9": {
          "model_module": "@jupyter-widgets/base",
          "model_name": "LayoutModel",
          "state": {
            "_view_name": "LayoutView",
            "grid_template_rows": null,
            "right": null,
            "justify_content": null,
            "_view_module": "@jupyter-widgets/base",
            "overflow": null,
            "_model_module_version": "1.2.0",
            "_view_count": null,
            "flex_flow": null,
            "width": null,
            "min_width": null,
            "border": null,
            "align_items": null,
            "bottom": null,
            "_model_module": "@jupyter-widgets/base",
            "top": null,
            "grid_column": null,
            "overflow_y": null,
            "overflow_x": null,
            "grid_auto_flow": null,
            "grid_area": null,
            "grid_template_columns": null,
            "flex": null,
            "_model_name": "LayoutModel",
            "justify_items": null,
            "grid_row": null,
            "max_height": null,
            "align_content": null,
            "visibility": null,
            "align_self": null,
            "height": null,
            "min_height": null,
            "padding": null,
            "grid_auto_rows": null,
            "grid_gap": null,
            "max_width": null,
            "order": null,
            "_view_module_version": "1.2.0",
            "grid_template_areas": null,
            "object_position": null,
            "object_fit": null,
            "grid_auto_columns": null,
            "margin": null,
            "display": null,
            "left": null
          }
        },
        "b15fba565fd941e69cb352af0f5615c6": {
          "model_module": "@jupyter-widgets/controls",
          "model_name": "DescriptionStyleModel",
          "state": {
            "_view_name": "StyleView",
            "_model_name": "DescriptionStyleModel",
            "description_width": "",
            "_view_module": "@jupyter-widgets/base",
            "_model_module_version": "1.5.0",
            "_view_count": null,
            "_view_module_version": "1.2.0",
            "_model_module": "@jupyter-widgets/controls"
          }
        },
        "8b78ed3ba4f9447c96d7c86be6c9e4fc": {
          "model_module": "@jupyter-widgets/base",
          "model_name": "LayoutModel",
          "state": {
            "_view_name": "LayoutView",
            "grid_template_rows": null,
            "right": null,
            "justify_content": null,
            "_view_module": "@jupyter-widgets/base",
            "overflow": null,
            "_model_module_version": "1.2.0",
            "_view_count": null,
            "flex_flow": null,
            "width": null,
            "min_width": null,
            "border": null,
            "align_items": null,
            "bottom": null,
            "_model_module": "@jupyter-widgets/base",
            "top": null,
            "grid_column": null,
            "overflow_y": null,
            "overflow_x": null,
            "grid_auto_flow": null,
            "grid_area": null,
            "grid_template_columns": null,
            "flex": null,
            "_model_name": "LayoutModel",
            "justify_items": null,
            "grid_row": null,
            "max_height": null,
            "align_content": null,
            "visibility": null,
            "align_self": null,
            "height": null,
            "min_height": null,
            "padding": null,
            "grid_auto_rows": null,
            "grid_gap": null,
            "max_width": null,
            "order": null,
            "_view_module_version": "1.2.0",
            "grid_template_areas": null,
            "object_position": null,
            "object_fit": null,
            "grid_auto_columns": null,
            "margin": null,
            "display": null,
            "left": null
          }
        }
      }
    }
  },
  "cells": [
    {
      "cell_type": "markdown",
      "metadata": {
        "id": "view-in-github",
        "colab_type": "text"
      },
      "source": [
        "<a href=\"https://colab.research.google.com/github/farhanfuadabir/Nurse-Care-Challenge-2020/blob/main/SlidingWindow_Nurse_Care_Dataset.ipynb\" target=\"_parent\"><img src=\"https://colab.research.google.com/assets/colab-badge.svg\" alt=\"Open In Colab\"/></a>"
      ]
    },
    {
      "cell_type": "code",
      "metadata": {
        "colab": {
          "base_uri": "https://localhost:8080/"
        },
        "id": "HGE-kKDZ3Sla",
        "outputId": "9b73527f-86d1-4843-c8d7-03f2dabb649a"
      },
      "source": [
        "from google.colab import drive\n",
        "drive.mount('/content/drive')"
      ],
      "execution_count": 1,
      "outputs": [
        {
          "output_type": "stream",
          "text": [
            "Mounted at /content/drive\n"
          ],
          "name": "stdout"
        }
      ]
    },
    {
      "cell_type": "code",
      "metadata": {
        "id": "ns50wPwN7yLU",
        "colab": {
          "base_uri": "https://localhost:8080/"
        },
        "outputId": "7da859ab-c2c5-4d41-f457-66d47a8c8c37"
      },
      "source": [
        "from joblib import load\n",
        "\n",
        "train = load(\"/content/drive/MyDrive/NCC Train Test Set (Resampled 20Hz)/Split 80 20/TRAIN.joblib\")\n",
        "test = load(\"/content/drive/MyDrive/NCC Train Test Set (Resampled 20Hz)/Split 80 20/TEST.joblib\")\n",
        "\n",
        "print('Train set shape: ', train.shape)\n",
        "print('Test set shape: ', test.shape)"
      ],
      "execution_count": 4,
      "outputs": [
        {
          "output_type": "stream",
          "text": [
            "Train set shape:  (4875587, 5)\n",
            "Test set shape:  (1218899, 5)\n"
          ],
          "name": "stdout"
        }
      ]
    },
    {
      "cell_type": "markdown",
      "metadata": {
        "id": "3odxBroKQbXS"
      },
      "source": [
        "# Sliding Window"
      ]
    },
    {
      "cell_type": "code",
      "metadata": {
        "id": "t_FKTMWYUkrz"
      },
      "source": [
        "def sliding_window(df, num_datapoint = 50, slide_frac = 0.5):\r\n",
        "  import pandas as pd\r\n",
        "  import numpy as np\r\n",
        "  from tqdm.notebook import tqdm\r\n",
        "  acc_x = pd.DataFrame()\r\n",
        "  acc_y = pd.DataFrame()\r\n",
        "  acc_z = pd.DataFrame()\r\n",
        "  label = pd.DataFrame()\r\n",
        "  slide = (int)(num_datapoint * slide_frac)\r\n",
        "  take_index = df['take'].unique()\r\n",
        "  \r\n",
        "  for i in tqdm(take_index):\r\n",
        "    init = 0\r\n",
        "    end = num_datapoint\r\n",
        "    temp_df = df.loc[df['take'] == i]\r\n",
        "    while end <= temp_df.shape[0]:\r\n",
        "      acc_x = acc_x.append(temp_df['x'].iloc[init:end].reset_index(drop=True).transpose(),ignore_index=True)\r\n",
        "      acc_y = acc_y.append(temp_df['y'].iloc[init:end].reset_index(drop=True).transpose(),ignore_index=True)\r\n",
        "      acc_z = acc_z.append(temp_df['z'].iloc[init:end].reset_index(drop=True).transpose(),ignore_index=True)\r\n",
        "      label = label.append(temp_df['label'].iloc[init:end].reset_index(drop=True).transpose(),ignore_index=True)\r\n",
        "      init = init + slide\r\n",
        "      end = end + slide\r\n",
        "  label = label.median(axis=1)    \r\n",
        "  \r\n",
        "  print('acc_x = \\n')\r\n",
        "  display(acc_x)\r\n",
        "  print('\\n\\n---------------\\n\\nacc_y = \\n')\r\n",
        "  display(acc_y)\r\n",
        "  print('\\n\\n---------------\\n\\nacc_z = \\n')\r\n",
        "  display(acc_z)\r\n",
        "  print('\\n\\n---------------\\n\\nlabel = \\n')\r\n",
        "  display(label)\r\n",
        "\r\n",
        "  print('\\n\\nDone')\r\n",
        "\r\n",
        "  return acc_x, acc_y, acc_z, label"
      ],
      "execution_count": 5,
      "outputs": []
    },
    {
      "cell_type": "code",
      "metadata": {
        "id": "vGlKWWQWIeFv",
        "colab": {
          "base_uri": "https://localhost:8080/",
          "height": 49,
          "referenced_widgets": [
            "d62e044f32074ca8bfac87b25e22a130",
            "fd38e0c4920a456191f8ca0d4334f8ac",
            "47ac31ae6178402ca16942237d9e4e34",
            "5fdd8a6093b344b48675e74752270fe6",
            "49c2c1f45488456891aac3d2bf01038d",
            "9c1ccd88902e418cb85776a8820756a9",
            "b15fba565fd941e69cb352af0f5615c6",
            "8b78ed3ba4f9447c96d7c86be6c9e4fc"
          ]
        },
        "outputId": "df74dba6-e53e-4e28-ff22-6e0229534cba"
      },
      "source": [
        "#----------------------------- Window Train Set ---------------------------------\r\n",
        "\r\n",
        "acc_x_train, acc_y_train, acc_z_train, label_train = sliding_window(train, num_datapoint = 1000, slide_frac = 0.05) "
      ],
      "execution_count": null,
      "outputs": [
        {
          "output_type": "display_data",
          "data": {
            "application/vnd.jupyter.widget-view+json": {
              "model_id": "d62e044f32074ca8bfac87b25e22a130",
              "version_minor": 0,
              "version_major": 2
            },
            "text/plain": [
              "HBox(children=(FloatProgress(value=0.0, max=881.0), HTML(value='')))"
            ]
          },
          "metadata": {
            "tags": []
          }
        }
      ]
    },
    {
      "cell_type": "code",
      "metadata": {
        "id": "RkI84FZ-IpaR"
      },
      "source": [
        "#----------------------------- Export Train joblib ---------------------------------\r\n",
        "\r\n",
        "from joblib import dump\r\n",
        "\r\n",
        "export_path = '/content/drive/MyDrive/NCC Train Test Set (Resampled 20Hz)/Split 80 20/Windowed 1000/'\r\n",
        "\r\n",
        "print('Exporting joblib at: ', export_path + 'acc_x_train.joblib', '...', end='')\r\n",
        "dump(acc_x_train, export_path + 'acc_x_train.joblib')\r\n",
        "print('Done')\r\n",
        "print('Exporting joblib at: ', export_path + 'acc_y_train.joblib', '...', end='')\r\n",
        "dump(acc_y_train, export_path + 'acc_y_train.joblib')\r\n",
        "print('Done')\r\n",
        "print('Exporting joblib at: ', export_path + 'acc_z_train.joblib', '...', end='')\r\n",
        "dump(acc_z_train, export_path + 'acc_z_train.joblib')\r\n",
        "print('Done')\r\n",
        "print('Exporting joblib at: ', export_path + 'label_train.joblib', '...', end='')\r\n",
        "dump(label_train, export_path + 'label_train.joblib')\r\n",
        "print('Done')"
      ],
      "execution_count": null,
      "outputs": []
    },
    {
      "cell_type": "code",
      "metadata": {
        "id": "KuQMAbH88VTO"
      },
      "source": [
        "#----------------------------- Window Test Set ---------------------------------\r\n",
        "\r\n",
        "acc_x_test, acc_y_test, acc_z_test, label_test = sliding_window(test, num_datapoint = 1000, slide_frac = 0.05) "
      ],
      "execution_count": null,
      "outputs": []
    },
    {
      "cell_type": "code",
      "metadata": {
        "id": "5Qc_PwSq2zZK"
      },
      "source": [
        "#----------------------------- Export Test joblib ---------------------------------\r\n",
        "\r\n",
        "from joblib import dump\r\n",
        "\r\n",
        "export_path = '/content/drive/MyDrive/NCC Train Test Set (Resampled 20Hz)/Split 80 20/Windowed 1000/'\r\n",
        "\r\n",
        "print('Exporting joblib at: ', export_path + 'acc_x_test.joblib', '...', end='')\r\n",
        "dump(acc_x_test, export_path + 'acc_x_test.joblib')\r\n",
        "print('Done')\r\n",
        "print('Exporting joblib at: ', export_path + 'acc_y_test.joblib', '...', end='')\r\n",
        "dump(acc_y_test, export_path + 'acc_y_test.joblib')\r\n",
        "print('Done')\r\n",
        "print('Exporting joblib at: ', export_path + 'acc_z_test.joblib', '...', end='')\r\n",
        "dump(acc_z_test, export_path + 'acc_z_test.joblib')\r\n",
        "print('Done')\r\n",
        "print('Exporting joblib at: ', export_path + 'label_test.joblib', '...', end='')\r\n",
        "dump(label_test, export_path + 'label_test.joblib')\r\n",
        "print('Done')"
      ],
      "execution_count": null,
      "outputs": []
    }
  ]
}